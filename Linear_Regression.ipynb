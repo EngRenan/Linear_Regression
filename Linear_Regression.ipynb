{
  "nbformat": 4,
  "nbformat_minor": 0,
  "metadata": {
    "colab": {
      "provenance": [],
      "toc_visible": true,
      "authorship_tag": "ABX9TyMcHDVyRgNKKAhqFpTQfw2L",
      "include_colab_link": true
    },
    "kernelspec": {
      "name": "python3",
      "display_name": "Python 3"
    },
    "language_info": {
      "name": "python"
    }
  },
  "cells": [
    {
      "cell_type": "markdown",
      "metadata": {
        "id": "view-in-github",
        "colab_type": "text"
      },
      "source": [
        "<a href=\"https://colab.research.google.com/github/EngRenan/Linear_Regression/blob/main/Linear_Regression.ipynb\" target=\"_parent\"><img src=\"https://colab.research.google.com/assets/colab-badge.svg\" alt=\"Open In Colab\"/></a>"
      ]
    },
    {
      "cell_type": "markdown",
      "source": [
        "# Regressão Linear"
      ],
      "metadata": {
        "id": "IbMjWfozJ0R3"
      }
    },
    {
      "cell_type": "markdown",
      "source": [
        "Regressão linear é um método estatístico que permite estimar a relação entre uma variável dependente (y) e uma ou mais variáveis independentes (x). Ele é utilizado para prever valores futuros para a variável dependente, com base em valores conhecidos das variáveis independentes. O codigo abaixo visa prever o custo de diária de um imovel baseado no numero de pessoas"
      ],
      "metadata": {
        "id": "9zS9mCkcJ4as"
      }
    },
    {
      "cell_type": "code",
      "source": [
        "# Importando bibliotecas\n",
        "import pandas as pd # Manipulação de tabelas\n",
        "import plotly.express as px # Gerar graficos dinamocos\n",
        "import seaborn as sns # gráficos\n",
        "import numpy as np # funções matematicas"
      ],
      "metadata": {
        "id": "TYlXgyjyKvUr"
      },
      "execution_count": 1,
      "outputs": []
    },
    {
      "cell_type": "code",
      "source": [
        "# Abrindo arquivo com os dados utilizados na regressão\n",
        "base_custo_diaria = pd.read_csv('base_custo_diaria.csv', sep=';')\n",
        "\n",
        "# Visualizando arquivos da base de dados\n",
        "base_custo_diaria.head"
      ],
      "metadata": {
        "colab": {
          "base_uri": "https://localhost:8080/"
        },
        "id": "lDB5aVGsLesc",
        "outputId": "ea35f48e-6b1d-4d18-f6e6-226ff38c2fbe"
      },
      "execution_count": 4,
      "outputs": [
        {
          "output_type": "execute_result",
          "data": {
            "text/plain": [
              "<bound method NDFrame.head of     qtd_pessoas  valor_diaria\n",
              "0             1           150\n",
              "1             4           385\n",
              "2             6           499\n",
              "3            10           680\n",
              "4            13           735\n",
              "5            15           859\n",
              "6            18           989\n",
              "7            22          1075\n",
              "8            25          1500\n",
              "9            30          1850\n",
              "10           40          2000\n",
              "11           42          2089\n",
              "12           45          2250\n",
              "13           47          2488\n",
              "14           50          2680>"
            ]
          },
          "metadata": {},
          "execution_count": 4
        }
      ]
    },
    {
      "cell_type": "code",
      "source": [
        "# Algumas estatisticas da base de dados\n",
        "base_custo_diaria.describe()"
      ],
      "metadata": {
        "colab": {
          "base_uri": "https://localhost:8080/",
          "height": 300
        },
        "id": "J2tgow0kMDzS",
        "outputId": "29b8239b-a295-4484-a280-0a7bf6f3088e"
      },
      "execution_count": 5,
      "outputs": [
        {
          "output_type": "execute_result",
          "data": {
            "text/plain": [
              "       qtd_pessoas  valor_diaria\n",
              "count    15.000000     15.000000\n",
              "mean     24.533333   1348.600000\n",
              "std      16.796542    823.087116\n",
              "min       1.000000    150.000000\n",
              "25%      11.500000    707.500000\n",
              "50%      22.000000   1075.000000\n",
              "75%      41.000000   2044.500000\n",
              "max      50.000000   2680.000000"
            ],
            "text/html": [
              "\n",
              "  <div id=\"df-2bfb6670-4260-4940-9f8c-6cff071ee79b\">\n",
              "    <div class=\"colab-df-container\">\n",
              "      <div>\n",
              "<style scoped>\n",
              "    .dataframe tbody tr th:only-of-type {\n",
              "        vertical-align: middle;\n",
              "    }\n",
              "\n",
              "    .dataframe tbody tr th {\n",
              "        vertical-align: top;\n",
              "    }\n",
              "\n",
              "    .dataframe thead th {\n",
              "        text-align: right;\n",
              "    }\n",
              "</style>\n",
              "<table border=\"1\" class=\"dataframe\">\n",
              "  <thead>\n",
              "    <tr style=\"text-align: right;\">\n",
              "      <th></th>\n",
              "      <th>qtd_pessoas</th>\n",
              "      <th>valor_diaria</th>\n",
              "    </tr>\n",
              "  </thead>\n",
              "  <tbody>\n",
              "    <tr>\n",
              "      <th>count</th>\n",
              "      <td>15.000000</td>\n",
              "      <td>15.000000</td>\n",
              "    </tr>\n",
              "    <tr>\n",
              "      <th>mean</th>\n",
              "      <td>24.533333</td>\n",
              "      <td>1348.600000</td>\n",
              "    </tr>\n",
              "    <tr>\n",
              "      <th>std</th>\n",
              "      <td>16.796542</td>\n",
              "      <td>823.087116</td>\n",
              "    </tr>\n",
              "    <tr>\n",
              "      <th>min</th>\n",
              "      <td>1.000000</td>\n",
              "      <td>150.000000</td>\n",
              "    </tr>\n",
              "    <tr>\n",
              "      <th>25%</th>\n",
              "      <td>11.500000</td>\n",
              "      <td>707.500000</td>\n",
              "    </tr>\n",
              "    <tr>\n",
              "      <th>50%</th>\n",
              "      <td>22.000000</td>\n",
              "      <td>1075.000000</td>\n",
              "    </tr>\n",
              "    <tr>\n",
              "      <th>75%</th>\n",
              "      <td>41.000000</td>\n",
              "      <td>2044.500000</td>\n",
              "    </tr>\n",
              "    <tr>\n",
              "      <th>max</th>\n",
              "      <td>50.000000</td>\n",
              "      <td>2680.000000</td>\n",
              "    </tr>\n",
              "  </tbody>\n",
              "</table>\n",
              "</div>\n",
              "      <button class=\"colab-df-convert\" onclick=\"convertToInteractive('df-2bfb6670-4260-4940-9f8c-6cff071ee79b')\"\n",
              "              title=\"Convert this dataframe to an interactive table.\"\n",
              "              style=\"display:none;\">\n",
              "        \n",
              "  <svg xmlns=\"http://www.w3.org/2000/svg\" height=\"24px\"viewBox=\"0 0 24 24\"\n",
              "       width=\"24px\">\n",
              "    <path d=\"M0 0h24v24H0V0z\" fill=\"none\"/>\n",
              "    <path d=\"M18.56 5.44l.94 2.06.94-2.06 2.06-.94-2.06-.94-.94-2.06-.94 2.06-2.06.94zm-11 1L8.5 8.5l.94-2.06 2.06-.94-2.06-.94L8.5 2.5l-.94 2.06-2.06.94zm10 10l.94 2.06.94-2.06 2.06-.94-2.06-.94-.94-2.06-.94 2.06-2.06.94z\"/><path d=\"M17.41 7.96l-1.37-1.37c-.4-.4-.92-.59-1.43-.59-.52 0-1.04.2-1.43.59L10.3 9.45l-7.72 7.72c-.78.78-.78 2.05 0 2.83L4 21.41c.39.39.9.59 1.41.59.51 0 1.02-.2 1.41-.59l7.78-7.78 2.81-2.81c.8-.78.8-2.07 0-2.86zM5.41 20L4 18.59l7.72-7.72 1.47 1.35L5.41 20z\"/>\n",
              "  </svg>\n",
              "      </button>\n",
              "      \n",
              "  <style>\n",
              "    .colab-df-container {\n",
              "      display:flex;\n",
              "      flex-wrap:wrap;\n",
              "      gap: 12px;\n",
              "    }\n",
              "\n",
              "    .colab-df-convert {\n",
              "      background-color: #E8F0FE;\n",
              "      border: none;\n",
              "      border-radius: 50%;\n",
              "      cursor: pointer;\n",
              "      display: none;\n",
              "      fill: #1967D2;\n",
              "      height: 32px;\n",
              "      padding: 0 0 0 0;\n",
              "      width: 32px;\n",
              "    }\n",
              "\n",
              "    .colab-df-convert:hover {\n",
              "      background-color: #E2EBFA;\n",
              "      box-shadow: 0px 1px 2px rgba(60, 64, 67, 0.3), 0px 1px 3px 1px rgba(60, 64, 67, 0.15);\n",
              "      fill: #174EA6;\n",
              "    }\n",
              "\n",
              "    [theme=dark] .colab-df-convert {\n",
              "      background-color: #3B4455;\n",
              "      fill: #D2E3FC;\n",
              "    }\n",
              "\n",
              "    [theme=dark] .colab-df-convert:hover {\n",
              "      background-color: #434B5C;\n",
              "      box-shadow: 0px 1px 3px 1px rgba(0, 0, 0, 0.15);\n",
              "      filter: drop-shadow(0px 1px 2px rgba(0, 0, 0, 0.3));\n",
              "      fill: #FFFFFF;\n",
              "    }\n",
              "  </style>\n",
              "\n",
              "      <script>\n",
              "        const buttonEl =\n",
              "          document.querySelector('#df-2bfb6670-4260-4940-9f8c-6cff071ee79b button.colab-df-convert');\n",
              "        buttonEl.style.display =\n",
              "          google.colab.kernel.accessAllowed ? 'block' : 'none';\n",
              "\n",
              "        async function convertToInteractive(key) {\n",
              "          const element = document.querySelector('#df-2bfb6670-4260-4940-9f8c-6cff071ee79b');\n",
              "          const dataTable =\n",
              "            await google.colab.kernel.invokeFunction('convertToInteractive',\n",
              "                                                     [key], {});\n",
              "          if (!dataTable) return;\n",
              "\n",
              "          const docLinkHtml = 'Like what you see? Visit the ' +\n",
              "            '<a target=\"_blank\" href=https://colab.research.google.com/notebooks/data_table.ipynb>data table notebook</a>'\n",
              "            + ' to learn more about interactive tables.';\n",
              "          element.innerHTML = '';\n",
              "          dataTable['output_type'] = 'display_data';\n",
              "          await google.colab.output.renderOutput(dataTable, element);\n",
              "          const docLink = document.createElement('div');\n",
              "          docLink.innerHTML = docLinkHtml;\n",
              "          element.appendChild(docLink);\n",
              "        }\n",
              "      </script>\n",
              "    </div>\n",
              "  </div>\n",
              "  "
            ]
          },
          "metadata": {},
          "execution_count": 5
        }
      ]
    },
    {
      "cell_type": "markdown",
      "source": [
        "**Criando variavel que sera utilizada no modelo**"
      ],
      "metadata": {
        "id": "JvftPlQ2MQcq"
      }
    },
    {
      "cell_type": "code",
      "source": [
        "# Criando variavel independente\n",
        "x_custo_diaria = base_custo_diaria.iloc[:,0].values # Buscando todos registros da primeira coluna e convertendo no formato array. O comando iloc permite selecionar um conjunto de registros e \":\" significa que selecionará todos os registros e zero \"0\" a primeira coluna\n",
        "x_custo_diaria"
      ],
      "metadata": {
        "colab": {
          "base_uri": "https://localhost:8080/"
        },
        "id": "Rj5qUEtIMVEZ",
        "outputId": "e989bd65-5926-4501-af25-777a8d22a432"
      },
      "execution_count": 6,
      "outputs": [
        {
          "output_type": "execute_result",
          "data": {
            "text/plain": [
              "array([ 1,  4,  6, 10, 13, 15, 18, 22, 25, 30, 40, 42, 45, 47, 50])"
            ]
          },
          "metadata": {},
          "execution_count": 6
        }
      ]
    },
    {
      "cell_type": "code",
      "source": [
        "# Criando variavel dependente (o que iremos predizer)\n",
        "y_custo_diaria = base_custo_diaria.iloc[:,1].values\n",
        "y_custo_diaria"
      ],
      "metadata": {
        "colab": {
          "base_uri": "https://localhost:8080/"
        },
        "id": "WfFTB5kuM7D8",
        "outputId": "4cea2366-94c9-4d19-fad1-55378a634be9"
      },
      "execution_count": 7,
      "outputs": [
        {
          "output_type": "execute_result",
          "data": {
            "text/plain": [
              "array([ 150,  385,  499,  680,  735,  859,  989, 1075, 1500, 1850, 2000,\n",
              "       2089, 2250, 2488, 2680])"
            ]
          },
          "metadata": {},
          "execution_count": 7
        }
      ]
    },
    {
      "cell_type": "code",
      "source": [
        "np.corrcoef(x_custo_diaria,y_custo_diaria) # Mostra uma matriz"
      ],
      "metadata": {
        "colab": {
          "base_uri": "https://localhost:8080/"
        },
        "id": "-Red7I4mNFqT",
        "outputId": "fb762d6f-f5b7-4320-a9dd-6dd5529d5f71"
      },
      "execution_count": 8,
      "outputs": [
        {
          "output_type": "execute_result",
          "data": {
            "text/plain": [
              "array([[1.        , 0.99206905],\n",
              "       [0.99206905, 1.        ]])"
            ]
          },
          "metadata": {},
          "execution_count": 8
        }
      ]
    },
    {
      "cell_type": "markdown",
      "source": [
        "# Correlação"
      ],
      "metadata": {
        "id": "oB8Lry4oNVx7"
      }
    },
    {
      "cell_type": "markdown",
      "source": [
        "Correlação positiva: quando dias variaveis que possuem correlação crescem ou decrescem juntas, ou seja, que possuem uma relação direta;\n",
        "\n",
        "Correlação negativa: quando duas variaveis que possuem correlação mas quando uma variavel cresce a outra decresce, ou vice-versa;\n",
        "\n",
        "Não ter correlação: quando o crescimento ou decrescimento de uma variavel nao tem efeito sobre outra variavel. "
      ],
      "metadata": {
        "id": "XVEcgsuLNX1H"
      }
    },
    {
      "cell_type": "code",
      "source": [
        "correlation = base_custo_diaria.corr()\n",
        "\n",
        "# Plotando matriz da correlação\n",
        "plot = sns.heatmap(correlation, annot=True, linewidths=.3)\n",
        "plot"
      ],
      "metadata": {
        "colab": {
          "base_uri": "https://localhost:8080/",
          "height": 287
        },
        "id": "JK7bJZHcN3rD",
        "outputId": "bd973365-f451-43a0-9c59-29ba5296e6c5"
      },
      "execution_count": 9,
      "outputs": [
        {
          "output_type": "execute_result",
          "data": {
            "text/plain": [
              "<matplotlib.axes._subplots.AxesSubplot at 0x7fa3a50d1940>"
            ]
          },
          "metadata": {},
          "execution_count": 9
        },
        {
          "output_type": "display_data",
          "data": {
            "text/plain": [
              "<Figure size 432x288 with 2 Axes>"
            ],
            "image/png": "[encoded data removed]"
          },
          "metadata": {
            "needs_background": "light"
          }
        }
      ]
    },
    {
      "cell_type": "markdown",
      "source": [
        "Visualizado que tem uma forte correlçao positiva, pois a medida que a quantidade de pessoas aumentam, o preço da diária tambem aumenta. Além disso, da pra dizer que 99% do valor cobrado pelas diárias pode ser explicado pela quantidade de pessoas alugando o imovel."
      ],
      "metadata": {
        "id": "QS9nZbzyPXsN"
      }
    },
    {
      "cell_type": "markdown",
      "source": [
        "# Tratamento dos dados para Modelo"
      ],
      "metadata": {
        "id": "oBxrCvN9PvYv"
      }
    },
    {
      "cell_type": "markdown",
      "source": [
        "Será realizado transformações nos dados, no qual deve ser feito para que os dados possam ter formato que o algoritmo solicitado seja como entrada."
      ],
      "metadata": {
        "id": "1kSHWdh2P0A2"
      }
    },
    {
      "cell_type": "code",
      "source": [
        "# Visualizar o formato da variavel\n",
        "x_custo_diaria.shape"
      ],
      "metadata": {
        "colab": {
          "base_uri": "https://localhost:8080/"
        },
        "id": "eaonZULXP_3J",
        "outputId": "f882360b-f7ac-471d-94d5-725d30ddc504"
      },
      "execution_count": 10,
      "outputs": [
        {
          "output_type": "execute_result",
          "data": {
            "text/plain": [
              "(15,)"
            ]
          },
          "metadata": {},
          "execution_count": 10
        }
      ]
    },
    {
      "cell_type": "code",
      "source": [
        "# Visualizando variavel\n",
        "x_custo_diaria # Mostra que temos uma array com apenas uma coluna/dimensão. No entanto, é preciso ter uma matriz com 2 colunas. "
      ],
      "metadata": {
        "colab": {
          "base_uri": "https://localhost:8080/"
        },
        "id": "V89tp1-1QFUk",
        "outputId": "cd8e8033-3538-4b2c-a34d-1afdb00e9e60"
      },
      "execution_count": 11,
      "outputs": [
        {
          "output_type": "execute_result",
          "data": {
            "text/plain": [
              "array([ 1,  4,  6, 10, 13, 15, 18, 22, 25, 30, 40, 42, 45, 47, 50])"
            ]
          },
          "metadata": {},
          "execution_count": 11
        }
      ]
    },
    {
      "cell_type": "code",
      "source": [
        "x_custo_diaria = x_custo_diaria.reshape(-1,1)\n",
        "x_custo_diaria"
      ],
      "metadata": {
        "colab": {
          "base_uri": "https://localhost:8080/"
        },
        "id": "E7MsU-cmQWDT",
        "outputId": "9ca0e8f4-270b-449e-90a0-8fa2d80dbc50"
      },
      "execution_count": 12,
      "outputs": [
        {
          "output_type": "execute_result",
          "data": {
            "text/plain": [
              "array([[ 1],\n",
              "       [ 4],\n",
              "       [ 6],\n",
              "       [10],\n",
              "       [13],\n",
              "       [15],\n",
              "       [18],\n",
              "       [22],\n",
              "       [25],\n",
              "       [30],\n",
              "       [40],\n",
              "       [42],\n",
              "       [45],\n",
              "       [47],\n",
              "       [50]])"
            ]
          },
          "metadata": {},
          "execution_count": 12
        }
      ]
    },
    {
      "cell_type": "code",
      "source": [
        "# Agora tem matriz com duas colunas, 10 linhas e uma coluna\n",
        "x_custo_diaria.shape"
      ],
      "metadata": {
        "colab": {
          "base_uri": "https://localhost:8080/"
        },
        "id": "4lcnZeCbQeRw",
        "outputId": "c672bd41-e890-4d64-c88d-381807bfe781"
      },
      "execution_count": 13,
      "outputs": [
        {
          "output_type": "execute_result",
          "data": {
            "text/plain": [
              "(15, 1)"
            ]
          },
          "metadata": {},
          "execution_count": 13
        }
      ]
    },
    {
      "cell_type": "markdown",
      "source": [
        "# Aplicando os dados no algoritmo de machine de regressão"
      ],
      "metadata": {
        "id": "rdKle34tQuL6"
      }
    },
    {
      "cell_type": "code",
      "source": [
        "from sklearn.linear_model import LinearRegression\n",
        "\n",
        "# Cria um objeto do tipo regressão linear\n",
        "previsao_custo_diaria = LinearRegression()\n",
        "\n",
        "type(previsao_custo_diaria)"
      ],
      "metadata": {
        "colab": {
          "base_uri": "https://localhost:8080/"
        },
        "id": "vDu-OBSTQzDi",
        "outputId": "9d6b32e8-0f44-46f2-b8a9-82f28cabfb2a"
      },
      "execution_count": 15,
      "outputs": [
        {
          "output_type": "execute_result",
          "data": {
            "text/plain": [
              "sklearn.linear_model._base.LinearRegression"
            ]
          },
          "metadata": {},
          "execution_count": 15
        }
      ]
    },
    {
      "cell_type": "markdown",
      "source": [
        "# Realizando o tratamento no modelo"
      ],
      "metadata": {
        "id": "Jvlj_lx2RMZq"
      }
    },
    {
      "cell_type": "code",
      "source": [
        "previsao_custo_diaria.fit(x_custo_diaria, y_custo_diaria)"
      ],
      "metadata": {
        "colab": {
          "base_uri": "https://localhost:8080/"
        },
        "id": "BboQmmBkRPCi",
        "outputId": "20e38d74-c4fa-4439-b67c-d64eb7142573"
      },
      "execution_count": 18,
      "outputs": [
        {
          "output_type": "execute_result",
          "data": {
            "text/plain": [
              "LinearRegression()"
            ]
          },
          "metadata": {},
          "execution_count": 18
        }
      ]
    },
    {
      "cell_type": "code",
      "source": [
        "# Verificando interceptação\n",
        "previsao_custo_diaria.intercept_"
      ],
      "metadata": {
        "colab": {
          "base_uri": "https://localhost:8080/"
        },
        "id": "7yg1aAhrRgu_",
        "outputId": "d93ed368-a45c-43ae-c669-2090f03f2777"
      },
      "execution_count": 19,
      "outputs": [
        {
          "output_type": "execute_result",
          "data": {
            "text/plain": [
              "155.91874556932066"
            ]
          },
          "metadata": {},
          "execution_count": 19
        }
      ]
    },
    {
      "cell_type": "code",
      "source": [
        "# Verificando o coeficiente angular da reta\n",
        "previsao_custo_diaria.coef_"
      ],
      "metadata": {
        "colab": {
          "base_uri": "https://localhost:8080/"
        },
        "id": "XTEV4eRXRo_H",
        "outputId": "57c8c421-e3e9-4664-ff84-6fd1c38100ee"
      },
      "execution_count": 20,
      "outputs": [
        {
          "output_type": "execute_result",
          "data": {
            "text/plain": [
              "array([48.61472504])"
            ]
          },
          "metadata": {},
          "execution_count": 20
        }
      ]
    },
    {
      "cell_type": "markdown",
      "source": [
        "![regressao_linear.JPG](data:image/jpeg;base64,/9j/4AAQSkZJRgABAQEAYABgAAD/4REYRXhpZgAATU0AKgAAAAgABAE7AAIAAAAaAAAISodpAAQAAAABAAAIZJydAAEAAAA0AAAQ3OocAAcAAAgMAAAAPgAAAAAc6gAAAAgAAAAAAAAAAAAAAAAAAAAAAAAAAAAAAAAAAAAAAAAAAAAAAAAAAAAAAAAAAAAAAAAAAAAAAAAAAAAAAAAAAAAAAAAAAAAAAAAAAAAAAAAAAAAAAAAAAAAAAAAAAAAAAAAAAAAAAAAAAAAAAAAAAAAAAAAAAAAAAAAAAAAAAAAAAAAAAAAAAAAAAAAAAAAAAAAAAAAAAAAAAAAAAAAAAAAAAAAAAAAAAAAAAAAAAAAAAAAAAAAAAAAAAAAAAAAAAAAAAAAAAAAAAAAAAAAAAAAAAAAAAAAAAAAAAAAAAAAAAAAAAAAAAAAAAAAAAAAAAAAAAAAAAAAAAAAAAAAAAAAAAAAAAAAAAAAAAAAAAAAAAAAAAAAAAAAAAAAAAAAAAAAAAAAAAAAAAAAAAAAAAAAAAAAAAAAAAAAAAAAAAAAAAAAAAAAAAAAAAAAAAAAAAAAAAAAAAAAAAAAAAAAAAAAAAAAAAAAAAAAAAAAAAAAAAAAAAAAAAAAAAAAAAAAAAAAAAAAAAAAAAAAAAAAAAAAAAAAAAAAAAAAAAAAAAAAAAAAAAAAAAAAAAAAAAAAAAAAAAAAAAAAAAAAAAAAAAAAAAAAAAAAAAAAAAAAAAAAAAAAAAAAAAAAAAAAAAAAAAAAAAAAAAAAAAAAAAAAAAAAAAAAAAAAAAAAAAAAAAAAAAAAAAAAAAAAAAAAAAAAAAAAAAAAAAAAAAAAAAAAAAAAAAAAAAAAAAAAAAAAAAAAAAAAAAAAAAAAAAAAAAAAAAAAAAAAAAAAAAAAAAAAAAAAAAAAAAAAAAAAAAAAAAAAAAAAAAAAAAAAAAAAAAAAAAAAAAAAAAAAAAAAAAAAAAAAAAAAAAAAAAAAAAAAAAAAAAAAAAAAAAAAAAAAAAAAAAAAAAAAAAAAAAAAAAAAAAAAAAAAAAAAAAAAAAAAAAAAAAAAAAAAAAAAAAAAAAAAAAAAAAAAAAAAAAAAAAAAAAAAAAAAAAAAAAAAAAAAAAAAAAAAAAAAAAAAAAAAAAAAAAAAAAAAAAAAAAAAAAAAAAAAAAAAAAAAAAAAAAAAAAAAAAAAAAAAAAAAAAAAAAAAAAAAAAAAAAAAAAAAAAAAAAAAAAAAAAAAAAAAAAAAAAAAAAAAAAAAAAAAAAAAAAAAAAAAAAAAAAAAAAAAAAAAAAAAAAAAAAAAAAAAAAAAAAAAAAAAAAAAAAAAAAAAAAAAAAAAAAAAAAAAAAAAAAAAAAAAAAAAAAAAAAAAAAAAAAAAAAAAAAAAAAAAAAAAAAAAAAAAAAAAAAAAAAAAAAAAAAAAAAAAAAAAAAAAAAAAAAAAAAAAAAAAAAAAAAAAAAAAAAAAAAAAAAAAAAAAAAAAAAAAAAAAAAAAAAAAAAAAAAAAAAAAAAAAAAAAAAAAAAAAAAAAAAAAAAAAAAAAAAAAAAAAAAAAAAAAAAAAAAAAAAAAAAAAAAAAAAAAAAAAAAAAAAAAAAAAAAAAAAAAAAAAAAAAAAAAAAAAAAAAAAAAAAAAAAAAAAAAAAAAAAAAAAAAAAAAAAAAAAAAAAAAAAAAAAAAAAAAAAAAAAAAAAAAAAAAAAAAAAAAAAAAAAAAAAAAAAAAAAAAAAAAAAAAAAAAAAAAAAAAAAAAAAAAAAAAAAAAAAAAAAAAAAAAAAAAAAAAAAAAAAAAAAAAAAAAAAAAAAAAAAAAAAAAAAAAAAAAAAAAAAAAAAAAAAAAAAAAAAAAAAAAAAAAAAAAAAAAAAAAAAAAAAAAAAAAAAAAAAAAAAAAAAAAAAAAAAAAAAAAAAAAAAAAAAAAAAAAAAAAAAAAAAAAAAAAAAAAAAAAAAAAAAAAAAAAAAAAAAAAAAAAAAAAAAAAAAAAAAAAAAAAAAAAAAAAAAAAAAAAAAAAAAAAAAAAAAAAAAAAAAAAAAAAAAAAAAAAAAAAAAAAAAAAAAAAAAAAAAAAAAAAAAAAAAAAAAAAAAAAAAAAAAAAAAAAAAAAAAAAAAAAAAAAAAAAAAAAAAAAAAAAAAAAAAAAAAAAAAAAAAAAAAAAAAAAAAAAAAAAAAAAAAAAAAAAAAAAAAAAAAAAAAAAAAAAAAAAAAAAAAAAAAAAAAAAAAAAAAAAAAAAAAAAAAAAAAAAAAAAAAAAAAAAAAAAAAAAAAAAAAAAAAAAAAAAAAAAAAAAAAAAAAAAAAAAAAAAAAAAAAAAAAAAAAAAAAAAAAAAAAAAAAAAAAAAAAAAAAAAAAAAAAAAAAAAAAAAAAAAAAAAAAAAAAAAAAAAAAAAAAAAAAAAAAAAAAAAAAAAAAAAAAAAAAAAAAAAAAAAAAAAAAAAAAAAAAAAAAAAAAAAAAAAAAAAAAAAAAAAAAAAAAAAAAAAAAAAAAAAAAAAAAAAAAAAAAAAAAAAAAAAAAAAAAAAAAAAAAAAAAAAAAAAAAAAAAAAAAAAAAAAAAAAAAAAAAAAAAAAAAAAAAAAAAAAAAAAAAAAAAAAAAAAAAAAAAAAAAAAAAAAAAAAAAAAAAAAAAAAAAAAAAAAAAAAAAAAAAAAAAAAAAAAAAAAAAAAAAAAAAAAAAAAAAAAAAAAAAAAAAAAAAAAAAAAAAAAAAAAAAAAAAAAAAAAAAAAAAAAAAAAAAAAAAAAAAAAAAAAAAAAAAAAAAAAAAAAAAAAAAAAAAAAAAAAAAAAAAAAAAAAAAAAAAAAAAAAAAAAAAAAAAAAAAAAAAAAAAAAAAAAAAAAAAAAAAAAAAAAAAAAAAAAAAAAAAFJlbmFuIFdpbGxpYW0gUmFtb3MgTnVuZXMAAAWQAwACAAAAFAAAELKQBAACAAAAFAAAEMaSkQACAAAAAzI1AACSkgACAAAAAzI1AADqHAAHAAAIDAAACKYAAAAAHOoAAAAIAAAAAAAAAAAAAAAAAAAAAAAAAAAAAAAAAAAAAAAAAAAAAAAAAAAAAAAAAAAAAAAAAAAAAAAAAAAAAAAAAAAAAAAAAAAAAAAAAAAAAAAAAAAAAAAAAAAAAAAAAAAAAAAAAAAAAAAAAAAAAAAAAAAAAAAAAAAAAAAAAAAAAAAAAAAAAAAAAAAAAAAAAAAAAAAAAAAAAAAAAAAAAAAAAAAAAAAAAAAAAAAAAAAAAAAAAAAAAAAAAAAAAAAAAAAAAAAAAAAAAAAAAAAAAAAAAAAAAAAAAAAAAAAAAAAAAAAAAAAAAAAAAAAAAAAAAAAAAAAAAAAAAAAAAAAAAAAAAAAAAAAAAAAAAAAAAAAAAAAAAAAAAAAAAAAAAAAAAAAAAAAAAAAAAAAAAAAAAAAAAAAAAAAAAAAAAAAAAAAAAAAAAAAAAAAAAAAAAAAAAAAAAAAAAAAAAAAAAAAAAAAAAAAAAAAAAAAAAAAAAAAAAAAAAAAAAAAAAAAAAAAAAAAAAAAAAAAAAAAAAAAAAAAAAAAAAAAAAAAAAAAAAAAAAAAAAAAAAAAAAAAAAAAAAAAAAAAAAAAAAAAAAAAAAAAAAAAAAAAAAAAAAAAAAAAAAAAAAAAAAAAAAAAAAAAAAAAAAAAAAAAAAAAAAAAAAAAAAAAAAAAAAAAAAAAAAAAAAAAAAAAAAAAAAAAAAAAAAAAAAAAAAAAAAAAAAAAAAAAAAAAAAAAAAAAAAAAAAAAAAAAAAAAAAAAAAAAAAAAAAAAAAAAAAAAAAAAAAAAAAAAAAAAAAAAAAAAAAAAAAAAAAAAAAAAAAAAAAAAAAAAAAAAAAAAAAAAAAAAAAAAAAAAAAAAAAAAAAAAAAAAAAAAAAAAAAAAAAAAAAAAAAAAAAAAAAAAAAAAAAAAAAAAAAAAAAAAAAAAAAAAAAAAAAAAAAAAAAAAAAAAAAAAAAAAAAAAAAAAAAAAAAAAAAAAAAAAAAAAAAAAAAAAAAAAAAAAAAAAAAAAAAAAAAAAAAAAAAAAAAAAAAAAAAAAAAAAAAAAAAAAAAAAAAAAAAAAAAAAAAAAAAAAAAAAAAAAAAAAAAAAAAAAAAAAAAAAAAAAAAAAAAAAAAAAAAAAAAAAAAAAAAAAAAAAAAAAAAAAAAAAAAAAAAAAAAAAAAAAAAAAAAAAAAAAAAAAAAAAAAAAAAAAAAAAAAAAAAAAAAAAAAAAAAAAAAAAAAAAAAAAAAAAAAAAAAAAAAAAAAAAAAAAAAAAAAAAAAAAAAAAAAAAAAAAAAAAAAAAAAAAAAAAAAAAAAAAAAAAAAAAAAAAAAAAAAAAAAAAAAAAAAAAAAAAAAAAAAAAAAAAAAAAAAAAAAAAAAAAAAAAAAAAAAAAAAAAAAAAAAAAAAAAAAAAAAAAAAAAAAAAAAAAAAAAAAAAAAAAAAAAAAAAAAAAAAAAAAAAAAAAAAAAAAAAAAAAAAAAAAAAAAAAAAAAAAAAAAAAAAAAAAAAAAAAAAAAAAAAAAAAAAAAAAAAAAAAAAAAAAAAAAAAAAAAAAAAAAAAAAAAAAAAAAAAAAAAAAAAAAAAAAAAAAAAAAAAAAAAAAAAAAAAAAAAAAAAAAAAAAAAAAAAAAAAAAAAAAAAAAAAAAAAAAAAAAAAAAAAAAAAAAAAAAAAAAAAAAAAAAAAAAAAAAAAAAAAAAAAAAAAAAAAAAAAAAAAAAAAAAAAAAAAAAAAAAAAAAAAAAAAAAAAAAAAAAAAAAAAAAAAAAAAAAAAAAAAAAAAAAAAAAAAAAAAAAAAAAAAAAAAAAAAAAAAAAAAAAAAAAAAAAAAAAAAAAAAAAAAAAAAAAAAAAAAAAAAAAAAAAAAAAAAAAAAAAAAAAAAAAAAAAAAAAAAAAAAAAAAAAAAAAAAAAAAAAAAAAAAAAAAAAAAAAAAAAAAAAAAAAAAAAAAAAAAAAAAAAAAAAAAAAAAAAAAAAAAAAAAAAAAAAAAAAAAAAAAAAAAAAAAAAAAAAAAAAAAAAAAAAAAAAAAAAAAAAAAAAAAAAAAAAAAAAAAAAAAAAAAAAAAAAAAAAAAAAAAAAAAAAAAAAAAAAAAAAAAAAAAAAAAAAAAAAAAAAAAAAAAAAAAAAAAAAAAAAAAAAAAAAAAAAAAAAAAAAAAAAAAAAAAAAAAAAAAAAAAAAAAAAAAAAAAAAAAAAAAAAAAAAAAAAAAAAAAAAAAAAAAAAAAAAAAAAAAAAAAAAAAAAAAAAAAAAAAAAAAAAAAAAAAAAAAAAAAAAAAAAAAAAAAAAAAAAAAAAAAAAAAAAAAAAAAAAAAAAAAAAAAAAAAAAAAAAAAAAAAAAAAAAAAAAAAAAAAAAAAAAAAAAAAAAAAAAAAAAAAAAAAAAAAAAAAAAAAAAAAAAAAAAAAAAAAAAAAAAAAAAAAAAAAAAAAAAAAAAAAAAAAAAAAAAAAAAAAAAAAAAAAAAAAAAAAAAAAAAAAAAAAAAAAAAAAAAAAAAAAAAAAAAAAAAAAAAAAAAAAAAAAAAAAAAAAAAAAAAAAAAAAAAAAAAAAAAAAAAAAAAAAAAAAAAAAAAAAAAAAAAAAAAAAAAAAAAAAAAAAAAAAAAAAAAAAAAAAAAAAAAAAAAAAAAAAAAAAAAAAAAAAAAAAAAAAAAAAAAAAAAAAAAAAAAAAAAAAAAAAAAAAAAAAAAAAAAAAAAAAAAAAAAAAAAAAAAAAAAAAAAAAAAAAAAAAAAAAAAAAAAAAAAAAAAAAAAAAAAAAAAAAyMDIzOjAxOjI3IDIzOjUwOjAzADIwMjM6MDE6MjcgMjM6NTA6MDMAAABSAGUAbgBhAG4AIABXAGkAbABsAGkAYQBtACAAUgBhAG0AbwBzACAATgB1AG4AZQBzAAAA/+ELLGh0dHA6Ly9ucy5hZG9iZS5jb20veGFwLzEuMC8APD94cGFja2V0IGJlZ2luPSfvu78nIGlkPSdXNU0wTXBDZWhpSHpyZVN6TlRjemtjOWQnPz4NCjx4OnhtcG1ldGEgeG1sbnM6eD0iYWRvYmU6bnM6bWV0YS8iPjxyZGY6UkRGIHhtbG5zOnJkZj0iaHR0cDovL3d3dy53My5vcmcvMTk5OS8wMi8yMi1yZGYtc3ludGF4LW5zIyI+PHJkZjpEZXNjcmlwdGlvbiByZGY6YWJvdXQ9InV1aWQ6ZmFmNWJkZDUtYmEzZC0xMWRhLWFkMzEtZDMzZDc1MTgyZjFiIiB4bWxuczpkYz0iaHR0cDovL3B1cmwub3JnL2RjL2VsZW1lbnRzLzEuMS8iLz48cmRmOkRlc2NyaXB0aW9uIHJkZjphYm91dD0idXVpZDpmYWY1YmRkNS1iYTNkLTExZGEtYWQzMS1kMzNkNzUxODJmMWIiIHhtbG5zOnhtcD0iaHR0cDovL25zLmFkb2JlLmNvbS94YXAvMS4wLyI+PHhtcDpDcmVhdGVEYXRlPjIwMjMtMDEtMjdUMjM6NTA6MDMuMjU0PC94bXA6Q3JlYXRlRGF0ZT48L3JkZjpEZXNjcmlwdGlvbj48cmRmOkRlc2NyaXB0aW9uIHJkZjphYm91dD0idXVpZDpmYWY1YmRkNS1iYTNkLTExZGEtYWQzMS1kMzNkNzUxODJmMWIiIHhtbG5zOmRjPSJodHRwOi8vcHVybC5vcmcvZGMvZWxlbWVudHMvMS4xLyI+PGRjOmNyZWF0b3I+PHJkZjpTZXEgeG1sbnM6cmRmPSJodHRwOi8vd3d3LnczLm9yZy8xOTk5LzAyLzIyLXJkZi1zeW50YXgtbnMjIj48cmRmOmxpPlJlbmFuIFdpbGxpYW0gUmFtb3MgTnVuZXM8L3JkZjpsaT48L3JkZjpTZXE+DQoJCQk8L2RjOmNyZWF0b3I+PC9yZGY6RGVzY3JpcHRpb24+PC9yZGY6UkRGPjwveDp4bXBtZXRhPg0KICAgICAgICAgICAgICAgICAgICAgICAgICAgICAgICAgICAgICAgICAgICAgICAgICAgICAgICAgICAgICAgICAgICAgICAgICAgICAgICAgICAgICAgICAgICAgICAgICAgIAogICAgICAgICAgICAgICAgICAgICAgICAgICAgICAgICAgICAgICAgICAgICAgICAgICAgICAgICAgICAgICAgICAgICAgICAgICAgICAgICAgICAgICAgICAgICAgICAgICAgCiAgICAgICAgICAgICAgICAgICAgICAgICAgICAgICAgICAgICAgICAgICAgICAgICAgICAgICAgICAgICAgICAgICAgICAgICAgICAgICAgICAgICAgICAgICAgICAgICAgICAKICAgICAgICAgICAgICAgICAgICAgICAgICAgICAgICAgICAgICAgICAgICAgICAgICAgICAgICAgICAgICAgICAgICAgICAgICAgICAgICAgICAgICAgICAgICAgICAgICAgIAogICAgICAgICAgICAgICAgICAgICAgICAgICAgICAgICAgICAgICAgICAgICAgICAgICAgICAgICAgICAgICAgICAgICAgICAgICAgICAgICAgICAgICAgICAgICAgICAgICAgCiAgICAgICAgICAgICAgICAgICAgICAgICAgICAgICAgICAgICAgICAgICAgICAgICAgICAgICAgICAgICAgICAgICAgICAgICAgICAgICAgICAgICAgICAgICAgICAgICAgICAKICAgICAgICAgICAgICAgICAgICAgICAgICAgICAgICAgICAgICAgICAgICAgICAgICAgICAgICAgICAgICAgICAgICAgICAgICAgICAgICAgICAgICAgICAgICAgICAgICAgIAogICAgICAgICAgICAgICAgICAgICAgICAgICAgICAgICAgICAgICAgICAgICAgICAgICAgICAgICAgICAgICAgICAgICAgICAgICAgICAgICAgICAgICAgICAgICAgICAgICAgCiAgICAgICAgICAgICAgICAgICAgICAgICAgICAgICAgICAgICAgICAgICAgICAgICAgICAgICAgICAgICAgICAgICAgICAgICAgICAgICAgICAgICAgICAgICAgICAgICAgICAKICAgICAgICAgICAgICAgICAgICAgICAgICAgICAgICAgICAgICAgICAgICAgICAgICAgICAgICAgICAgICAgICAgICAgICAgICAgICAgICAgICAgICAgICAgICAgICAgICAgIAogICAgICAgICAgICAgICAgICAgICAgICAgICAgICAgICAgICAgICAgICAgICAgICAgICAgICAgICAgICAgICAgICAgICAgICAgICAgICAgICAgICAgICAgICAgICAgICAgICAgCiAgICAgICAgICAgICAgICAgICAgICAgICAgICAgICAgICAgICAgICAgICAgICAgICAgICAgICAgICAgICAgICAgICAgICAgICAgICAgICAgICAgICAgICAgICAgICAgICAgICAKICAgICAgICAgICAgICAgICAgICAgICAgICAgICAgICAgICAgICAgICAgICAgICAgICAgICAgICAgICAgICAgICAgICAgICAgICAgICAgICAgICAgICAgICAgICAgICAgICAgIAogICAgICAgICAgICAgICAgICAgICAgICAgICAgICAgICAgICAgICAgICAgICAgICAgICAgICAgICAgICAgICAgICAgICAgICAgICAgICAgICAgICAgICAgICAgICAgICAgICAgCiAgICAgICAgICAgICAgICAgICAgICAgICAgICAgICAgICAgICAgICAgICAgICAgICAgICAgICAgICAgICAgICAgICAgICAgICAgICAgICAgICAgICAgICAgICAgICAgICAgICAKICAgICAgICAgICAgICAgICAgICAgICAgICAgICAgICAgICAgICAgICAgICAgICAgICAgICAgICAgICAgICAgICAgICAgICAgICAgICAgICAgICAgICAgICAgICAgICAgICAgIAogICAgICAgICAgICAgICAgICAgICAgICAgICAgICAgICAgICAgICAgICAgICAgICAgICAgICAgICAgICAgICAgICAgICAgICAgICAgICAgICAgICAgICAgICAgICAgICAgICAgCiAgICAgICAgICAgICAgICAgICAgICAgICAgICAgICAgICAgICAgICAgICAgICAgICAgICAgICAgICAgICAgICAgICAgICAgICAgICAgICAgICAgICAgICAgICAgICAgICAgICAKICAgICAgICAgICAgICAgICAgICAgICAgICAgICAgICAgICAgICAgICAgICAgICAgICAgICAgICAgICAgICAgICAgICAgICAgICAgICAgICAgICAgICAgICAgICAgICAgICAgIAogICAgICAgICAgICAgICAgICAgICAgICAgICAgICAgICAgICAgICAgICAgICAgICAgICAgICAgICAgICAgICAgICAgICAgICAgICAgICAgICAgICAgICAgICAgICAgICAgICAgCiAgICAgICAgICAgICAgICAgICAgICAgICAgICA8P3hwYWNrZXQgZW5kPSd3Jz8+/9sAQwAHBQUGBQQHBgUGCAcHCAoRCwoJCQoVDxAMERgVGhkYFRgXGx4nIRsdJR0XGCIuIiUoKSssKxogLzMvKjInKisq/9sAQwEHCAgKCQoUCwsUKhwYHCoqKioqKioqKioqKioqKioqKioqKioqKioqKioqKioqKioqKioqKioqKioqKioqKioq/8AAEQgB/QMtAwEiAAIRAQMRAf/EAB8AAAEFAQEBAQEBAAAAAAAAAAABAgMEBQYHCAkKC//EALUQAAIBAwMCBAMFBQQEAAABfQECAwAEEQUSITFBBhNRYQcicRQygZGhCCNCscEVUtHwJDNicoIJChYXGBkaJSYnKCkqNDU2Nzg5OkNERUZHSElKU1RVVldYWVpjZGVmZ2hpanN0dXZ3eHl6g4SFhoeIiYqSk5SVlpeYmZqio6Slpqeoqaqys7S1tre4ubrCw8TFxsfIycrS09TV1tfY2drh4uPk5ebn6Onq8fLz9PX29/j5+v/EAB8BAAMBAQEBAQEBAQEAAAAAAAABAgMEBQYHCAkKC//EALURAAIBAgQEAwQHBQQEAAECdwABAgMRBAUhMQYSQVEHYXETIjKBCBRCkaGxwQkjM1LwFWJy0QoWJDThJfEXGBkaJicoKSo1Njc4OTpDREVGR0hJSlNUVVZXWFlaY2RlZmdoaWpzdHV2d3h5eoKDhIWGh4iJipKTlJWWl5iZmqKjpKWmp6ipqrKztLW2t7i5usLDxMXGx8jJytLT1NXW19jZ2uLj5OXm5+jp6vLz9PX29/j5+v/aAAwDAQACEQMRAD8A+iLMAwDIB+UdvarAUeg/KoLP/j3T/dFWBQAm32FG32FLRQAm32FG32FLRQAm32FKBRRQAUYoooATFGKWigBMUYpaKAExRilooATFGKWigBMUYpaKAEoopaAEopaQ0AFFFFABRilooATFGKWigBMUYpaKAExRilooATFGKWigBMUYpaKAExRilooATFGKWigBMUYpaKAExRilooATFGKWg0AJilpKWgAoxRQaAExRiiigAxS0lFAC0YpKWgBMUYpaKAExS0UUAFGKKKAExRilooATFGKWigBMUYpaKAExRilooATFGKWigBMUYpaKAExRilooATFGKWigBMUYpaKAExRilooATFGKWigBMUYpaKAExRilooATFGKWigBMUYpaKAExRilooATFGKWigBMUEUtFADcfSjH0p2KMUAVrT/j3T/dFWRVa0/490/3RVkUAFFFFABRRRQAUUUUAFFFFABRRRQAUUUUAFFFFABRRRQAUUUUAJSiiigAooooAMUUUUAFFFFABRRRQAUUUUAFFFFABRRRQAUUUUAFFFFABRRRQAUUUUANkZljZkG5gCQPU1jeFPEY8TaO12YGtpopmgmhbqjqea264FbyPwn431mOZtlvqFuLuL0MgypA98KKAOisPEQv9e1GxSIJb2O1XnZsAuc5X8K2I7iGZSYJY5MddjA15/ZwWGneClufECSSS6tceeYYzhpWY5C/riqmhutn8RreKy0ufSobm2bfA75ViOhx60Adf4W1u51j+0/tQQC1u2hTb/dAHX86247q3lkMcU8buvVVcEj8K8vS+uNO8J+JGtHMMkupmIy/3AxVSfwzV/wAReGbHQPBkWp6VJLDfWQWVbhZOZm6kN65oA9EeWOP77qvGeTjilR1kUMjBlPQg5Fed63p6+IfHOgRX0syQyabI80UblfMyU4Nd3Z2UOl6ettaKVihXCAnOKAJZZ0i4Z1ViOAzAZrmtM8Q6nq3hq5vLaK3W7iuHiVXbC7VYjJ96xNC0a28UNrGp6u7zXC3MkUJDkG3CkgbeePWsi3Q23wb1SNHdjHPIofd8xw5Gc+tAHp19evZ6U8x8vzxGSqFwAzY7ZqHw+15/YscmqXMc1w+XdkPypn+HPtXNa7Pokmoafa39rPqWofZQ0dpH/d6b/wA6yvCl1L/ZPi228ua3ggLmG3lOTCCh4oA9HmuB5Ti3eJ5tpKKXHP8A9aoNMuLp9Ljl1UQxTkfP5b5QfQ1xXg7w7aQeCotYeSea+ktTmWSQnA9AKZZXGlx/DHSF1sTzLKAI4YmO6VvSgD0KOeKbPlSI+Ou1gakrzPw6y2fxIggsdPn0y2uLR2kgkYkMw24OPxr0ygAooooAKKKKACiiigAooooAKKKKACiiigAooooAKKKKACiiigAooooAKKKKACiiigAooooAKKKKACiiigAooooAKKKKACiiigAooooAKKKKACiiigCtaf8AHun+6Ksiq1p/x7p/uirIoAKKKKACiiigAooooAKKKKQBRRRQAUUUUAFFFFABRRRQAUhpaQ0ALRRRTAKKTNGaAFopM0tABRRRQAUUUUAFFFFABRRRQAUUUUAFFFFABRRRQAUUUUAFFFFABXP+KPB9l4paza9d0NpMJUKHBOOx9jXQUUAZGseHLTWLGC3lLRm3IaF06oR0IrPsfBcVrr0Orz39xc3UUZjzIeCK6eigDAtvCNjDp+pWUxaeHUJmlkD9icdPyqjH4ChYW0N7qV3dWVq4eK2kb5cjpn1rraKAMuXQYJfEVrq+91ltoGgRB93aSD/QVqUUUActP4HgbULq4s7+5tI7w5uIYjhXPr7UqeBrOLwjP4finkFvMSd7csMmuoooA53UvCEN7qltqVteXFne28H2cSwuRuT0I6U3S/BlppcGqJHcTytqYPnPK5ZskYzk10lFAGbp+iw6d4fj0mN2MUcZjDHris1vBVk3h6z0vzZAbLBgnB+dGHQ10lFAHOWHhCO016HV57+4u7yKJot8rZypx/hXR0UUAFFFFABRRRQAUUUUAFFFFABRRRQAUUUUAFFFFABRRRQAUUUUAFFFFABRRRQAUUUUAFFFFABRRRQAUUUUAFFFFABRRRQAUUUUAFFFFABRRRQAUUUUAVrT/j3T/dFWRVa0/wBUo9qsigAooooAKKKKACjNc14jTUlMtxBrEOnQxRllDLncRk81lDxRqc/hXSmWNI9Q1GfyVdvugZxv/LmgDuqK4k6vqvhfWxa6zdrfWk9u0qShNrI4IGMenNVDf+Io/DkHiaS9jIdld7EINoRmA4brkZzQB6DRXGrqGqeJtYuoNKvBYW1pGnzbdzO7Z/QVqeEtXudV0uQX6qLq2laGQr0Yg8H8RQBvUUUUAFFFGR60AFFGR60UAFIaWigAooooAKKKKACiiigAooooAKKKKACiiigAooooAKKKKACiiigAooooAKKKKACiiigAooooAKKKKACiiigAooooAKKKKACiijPrQAUUZHrRmgAooooAKKKKACiiigAooooAKKKKACijI9aTI9aAFooyPWkyPWgBaKPxoyPWgAooyPWjI9aACikyPUUbh6igBaKMijI9aACikyPUUbh6igBaKTcPUUZHrQAtFGR60UAFFFGR60AFFJkeooyPUUALRSZHqKNy+o/OgBaKTcPUfnS5oAKKKKACiiigAoooyPWgAooooArWn+rH0qyKr2fMI+gqxQAUUUUAFFFFAHI+Klsb6ZrbVNEu7sKh8uSLO0+3FZCaPrNv4d0me4ti7afd+atsOXEW7gfUCvRaKAOGvrW68X60k0FvJa21vbMu+ZcF3JHAH4VVWTULrwhb+Ghpc63Y2RSyMMRqFYEnP0Feh0UAcLai58I65fb7Ge8gukQxSQDOGGcg1r+DNOubLTbia9Xy5ru4aYx/3Aeg/KujxmgDHSgAqlqsjRWDFDtJIGRV2qGtf8g0/wC8KAJEsYTGp+bJA/iNO+ww/wC1/wB9VPF/ql+g/lTqAK32GH/a/wC+qPsMP+3/AN9GrOKMUAVvsMP+3/30aPsEJ7v/AN9GrOKKAKU1lFHCzqXyBnljRHYxPGrEvkjsxqxdf8esn0pYP+PdPpQBD/Z0P96T/vuj+z4fWT/vurVFAFX+z4fWT/vs0f2fF/ef/vo1aooAq/2fF/ef/vo0GwjA+8351apD90/SgChbWqSxsWZshiOtTfYI/VvzpbH/AFL/APXRqs0AVfsEfq350v2GPuW/OrNFAFb7DF6v+dH2CL1f/vqrNFAFb7BD6v8A99VElrG07plsL71eqvD/AMfk34UAJ9gi9X/76pPsEXq351aooAq/YI/Vvzo+wR+rfnVqigCr9gj9W/Oj7BD3L/8AfRq1RQBn/ZI/t3lZfbsz981N/Z8P+3/30aP+Yp/2zq1QBV/s+H/b/wC+jR/Z8P8At/8AfRq1RQBV/s+H/b/76NL9gh9X/wC+qs0UAVvsEPq//fVRS2saPGBu+Y4OWq9Ve4/1sP8AvUAN+wxer/8AfVL9gi9X/wC+qsUooArfYIvV/wDvqj7BF6v/AN9VZooArfYIvV/++qPsEP8AtH/gVWaKAKU9pFFCzjdkD1qRbKMqOW6etOvTiykPtUsf+rX6UAQfYo/Vvzo+xR+rfnVmigCt9ji9W/Ol+xxf7X51YxRQBX+xRf7X50yWziWJmG7IBI+ardMm/wBQ/wDumgCtBZxvAjEvkjJ+apPsUf8Aek/77NPtv+PWP/dFS0AV/sUf96T/AL7NL9jj9X/76NT0UAQfY4/V/wDvqj7HH6v/AN9VPRQBB9jj9X/76qva20ciuX3cMR96r9VrH7kn++aAF+xQ/wC1+dH2GH/a/wC+qsUUAVvsEP8Atf8AfVH2GH/a/OrNFAFf7DF6t+dJ9hi9W/OrNFAFBLdDdvFlgqjI5qY2UXq350R/8hGX/dFWaAK32KL1b86PsMXq/wCdWcUUAVvsMXq/50v2KL1b86sUUAV/sUXq351E1ugukiBbDKT96rtVn/5CUf8AuGgBfsMX95/++qT7DCeu8/8AAqs0UAVvsEP+1/31R9gh/wBr/vqrNFAFb7BD/tf99UfYYPQn6mrNFAFGe1ijaPap+Z8HmpfsEP8Atj/gVLd/eh/66CrFAFb7BD6v/wB9UfYIfV/++qs0UAVvsEPq/wD31R9gh9X/AO+qs0UAVvsEPq//AH1Uc1qkUZdCwI6c1dqG6/492oAkjOY1J64p1Mi/1K/Sn0AV7L/UD6D+VWKr2X/HuPoP5VYoAKKKKACiiigAooooAKKKKACiiigAqhrX/INP+8Kv1Q1r/kGn/eFAF2L/AFS/Qfyp1Mi/1af7op9ABRRRQAUUUUARXX/HrJ9KWD/j3T6Ul1/x6yfSlg/490+lAElFFFABRRRQAUh+6fpS0HpQBWsf9S//AF0arNQWiFImDDHzk1PQAUUUUAFFFFABVaH/AI/J/wAKs1BEpF5KT0OKAJ6KKKACiiigAooooAq/8xT/ALZ1aquUP9oh8ceX1/GrFABRRRQAUUUUAFZ2t6hb6TYPf3r7ILZTJIfYc1o1wfxnsbq/+FOtRWUTzSeQzbI+pABzQBS07xR488R2I1bQ9BsrXT5ObeO+lKyyJnhiMfLkYOD0zXcWepPHocN7roi0+Xyw06SSDbE3cbjj86r+FdSstS8K6ddabcRzW8kClHRhg8f415/41htvEvxl8P8Ah3XWEuhyafNdG1Z8R3EykAbv72AentntQB6dY6tp+pozadewXaoQGMEgfB/Co7zXdK064WC/1G1t5n+7HLMqsfwJrzMaHpfhL4zadF4SiS0F5YzvdWFs2I22lMOU6A8kZ9653wvp2oeJV8QXV/4asdaebUZ4zPd3BDIiyMqqFwdowB0x60AemfEfxiPCnhX7RZ3drDe3MkcNs1wcqC7BdxGeQM5PsDUFpqmvRxaJ5OuaLqiXE5W8myIt6+kShjlh0xmuK8V+HJrT4RaHZeJ44bm8tb61jR3JcqvmoMbjyTgkZ71peOtNs9N8TfDe2sLaO3hXVHIWNdoGYyf50Aek6zqmn6fYt/aF7Babx8vnSBd3PbPWqWrajfqdKfRbnTzBNMFmM8uC6Y6R+rV59p+g6T45+I3iv/hK7WO+m090gtLS6+ZY4tit5iqemWYjI/uj0q5430jTdKXwRYaZGqWlvqyeUituCYRuBQB6Rf6tp+lqG1K9t7QN90zSBM/TPWpBf2jWP2xbmJrXbu84OCmPXPSvItQtL/WPi1rjvoltrK2EMKwRXlwyrEGL7mVcEZOAM98VHJ4f1jQfhH47ttUSG1t5oZpLS2hlLrbqYx8oJ6c5OPegD1oa7pRukthqVoZ5BlIvOXew9hnJrC1n4g6Vo3jDT9AuZ7dZLyN3aV7hVERXHBB55z+leY6/4M0TQvglbeJ7W0DaxYQQ3Md67Ey7lI/i64OMEdOa3tf0fTNV+Ivg6fUbCCaS6snMvmIDvOFIz+ZoA9Sn1OxtrRbq4vLeK3bpM8gCH8elEV9a6hYtNY3MVzEVOHicMDx6ivK/FVreal8V7XSodIt9QsLDTzPBaTzmOIsWUbsDIOOnPTNbHgXw9rWj+ItakubK103TbqJGgsLaYuI353Nz0B+UYHHFAHoNt/x6x/7oqWo4FK28anqFGakoAKKKKACiiigAqtZ/df8A3jVmoLVCkbAj+ImgCeiiigAooooAKKKKAK0f/IQl/wB0VZquikX0jHoVFWKACiiigAooooAKrP8A8hOP/cNWarP/AMhOP/cNAFmiiigAooooAKKKKAK9396H/roKsVXu/vQ/9dBVigAooooAKKKKACobr/j3apqhuv8Aj3agB8X+qX6U+mRf6pfpT6AK9l/qB9B/KrFV7L/UD6D+VWKACiiigAooooAKKKKACiiigAooooAKoa1/yDT/ALwq/VDWv+Qaf94UAXI/9Wn+6KfTI/8AVp/uin0AFFFFABRRRQBFdf8AHrJ9KWD/AI90+lNuv+PWT6U6D/UJ9KAJKKKKACiiigAooooAKKKKACiiigAooooAKKKKACkpaKAEozRXkXxD8UeJ7TxzaaP4buIVa5iJCyqcZB9Qfes6k1BXZ24PByxdRwi0rK+p67mivHPsXxhz/r9Kx/vyf4UfYPjD/wA/Okj/AIHJ/hWXtv7rOz+zI/8AP6P3nsdFeOfYfjD/AM/Gk/8Afx/8KQ2Pxh/5+NJ/7+Sf4Ue3f8rD+zI/8/o/eeyUV439h+MP/PxpP/fyT/Cj7D8Yf+fjSf8Av5J/hR7d/wArD+zI/wDP6P3nslFeN/YfjD/z8aT/AN/JP8KUWPxg/wCe+k/9/JKPb/3WH9mR/wCf0fvPY6bIiSRskgDKwwQe4rx77D8YO1xpH/fySj7D8Yh/y30b8WkoVf8AusX9mR/5/R+86G6+C/hq4vZJ7a61awjlcu9rZag8UJJOT8g4Ge+K2NZ+HXh/W9Bs9Ku4JVisQBazQylJocDAKuOQa4f7D8Yv+e2jfm/+FH2D4w95dH/76en7b+6w/s2P/P6P3nceFfh7onhC6mutP+1XN3MMNc305mk2/wB0M3IHHSor/wCGehX+qy6gkl9YTT4MwsrkxLKfVlHBPvXGf2f8Yf8Anro//fT0HT/jB/f0Y/V5KPb/AN1j/s2H/P6P3nod74M0m/8AD9ros4m+x2rxvGFlO7MbBlyxyTyBn1p2r+E9M1vUNIvb/wAx5dHm8612vgBsYyfXivOf7P8AjB/f0X/vuSs/Wr34neHtNlvtXvNFtoIlLMTK4z7DPel7f+6wjlUJOyrR+89C8S/DHQPE+rf2pcte2N8VCPcWF00DyL6MVPIq6fA2jf2fpNmVm8nSZRNbZkJbeBtyxPJ4Jrxa38Z/FG50w39vpjvagbt4hPT6bs1P4V8UfETxnBPLotzpjmBissUxdXXnGSAT3zQsRfozWWTcqu60fvPXvEHgHRvEmrxapO1za38ShBcWcxidlGcKxH3hyeD61PH4H0iPwte6B/pD2l+jLcO8xaR8jBO498V5baeI/HOj+OtF0rxDNaBLu5RX+z7iCpzxyfavc+1a06nOjzsZg5YSSTad1dNGFqfg3StX8GnwveCY6c0SxEK+H2g5HOPaqXiX4caH4qsNPttSN3G2nDFrcW05jlj4x94e1ZXif4z+FvCGtS6ZrctzDNH1ZbZ2U/iBisU/tJeAOi31x9fskn/xNaHEdhrnw80XXorH7W13Fc2A/cXdvOUmHTILDqDgZHQ4q/4c8K2XhqOUW011cyynLzXUpdz7Z9KXwx4o0/xZ4ei1nSzIbWUEqXQqSB7GuH1H9oXwPpeoT2V3c3KzwOUdRbPwR+FAHqVFeb+Hvjp4P8TazBpekzXc91OcKotJMD3JxgD3NekUAFFFFABRRRQAUUUUAFFFFABRRRQAUUUUAGKKKKACiiigAooooAKrP/yE4/8AcNWarP8A8hOP/cNAFmiiigAooooAKKKKAK9396H/AK6CrFVrv70P/XQVZoAKKKKACiiigAqG6/492qaobr/j2agB8X+pX6U+mxf6pfpTqAK9l/qB9B/KrFV7P/UD6D+VWKACiiigAooooAQuq/eYD6mjIHeub8S6JY3EVxqGoXk0QjiOwCTaqnmueeXVpfh3YvefaX/0hN5iyZHh3eg9v50Aeihg3Qg/Q0bhuxx+dcRpd7oenWWpTaK10l3DAWaC5LA9OoU+461myaZJD4Lg8SrfXH9qEpM8pf5SGcArt+lAHpJbHWlrhLGE+MdbvjqNxMkFtGixQxPtCkg5atXwReXM+mXFreTGdrO4aFZW6soPGfwoA6aqGtf8g0/7wq/WfrRxprE9NwoAux/6tP8AdFPqGOaPy0+cfdH8qcbiIdXFAElFRfaYf+ego+0w/wDPQUAS0VF9ph/56Cj7TF/fFABdf8esn0pYP+PdPpUNxcRG2f5h0p0FxF5CfOBxQBYoqL7TD/z0WnpIkn3GDD2oAdRRXH+O/HS+FFtLGwtTqGs6k5isrNTje2M5J7AdTQB2FFeHW/xe8S+HviRZ+G/HNtYZvFUZsXLGFjyMg447Z+te2yzLDbPM/wB1ELH8BmgCSivLvh58WpfHPjTVdLjslWxtWPkXCtneB616jmgAooooAKKKxNe8Y6B4Zlij13VLexeb/ViZwu/6flQBt0VyP/C0/BXfxHY/9/BR/wALT8E/9DHY/wDf0UAddmkrk/8AhaXgn/oY7H/v6KE+KHgqSVY08RWLO5CqolHJPagDra8Y8Yf8lu0T/cb/ANCWvZI5UmjWSJgyMMgg9a8b8Yf8lt0T/cb/ANCWubEfCvU9rJ9alS/8rPZh0FFA+6K4D4h/FjS/A2yyjjbUNYnwILKDlyScDI9K6TxTv8UYryEa/wDGK8046hBoGj2qAbhbyzsZGX8q1Phn8WU8Y3lzo+sWv9na5aEia2LDnHUj25oEelYoxWHJ4u0yPxjH4aMhOoPCZggGcLnGT6da3aAsJiilooGNY4UnGcDpXHeCvGdx4m17xFp1zbxxjSLvyEZM/ONoOf1rsW+4fpXlPwj/AOR68e/9hMf+gLQM9YxRRRQIMUUUUANdljRmbhVGST2ryaw08/FH4hXGqaqjNoGhTeVYwBjsuJgfmlI74+6Pofauv+J2vt4c+Heq38K75xCViQfxMeAK4e71vW/hd8PNEsPDPhyXV5mtw0jKCQp2gktjnOaBnr5SOG3ZVRVRVPygYFfPXwaYXfxz8Wz6YQLIMA+0cEjI/wDQgapeJPjJ8QpPC8iaj4ZXRoLoiE6hknydxxuKkds16x8IvBuleF/CMNzplx9smv1E092cZlY85+nNAanOePD/AMXk8Mf9fMf8mr2FeVFePePP+SyeF/8Ar5j/AJNXsK/dFc1HeXqexmX8Kh/hRR1LRbDVLWaG7ton81SpYoM818Y6tp8fwz+Nyi+gH2K2ufMVSuQ0RyM4+ufyr7dr53/ai8Kebptp4jtouYWEdwwXop4HP1IrpPGPbptb0jRPC41W4khs7FYRKWGAoGM15HovgtPjB4pTxj4g0yKz0OEFNOtSgDXK5z5jj0PYGuW+EdjqPxa0+x07xLdhtC8PsuLVXO66kHI3+oGR9a+m7eCK1t0gt0WOKMBVVRgAUAVLDQ9M0yNEsLG3gWNQqbEGQB05q/RRQAUUUUAFFFFABXH6f4xuLz4ran4Va3QQWdlHcrMDySxIwR+FdhXlOgHP7S3iX20qAf8AjxoA9WooooAKKKKACiuN8efEXT/BUEMHlyX+rXZK2mn2y75JD649B61wEuufGzV/39lotlYRHkRmfkex4oA9xorxnwZ4/wDHkHjGDw94z8PuFnyy3cALIv8AvHpj/GvZqACijOKKACikd1RdzkKPU1H9ph/56L+dAEtVn/5CUf8AuGnm7hH8Yqu9zF/aCHeMBDk0AXqKi+1Q/wDPRfzo+0w/89BQBLRUX2qH/noKPtUP/PQUAS0VF9qh/wCegpRcwnpIv50ARXn3oP8AroKsjpVS6ljYw4dThwetTfaYf+eq/nQBLRUX2mH/AJ6L+dBuYR1lX86AJaKi+1Qf89U/Oj7TB/z1X86AJahuv+PdqX7TB/z1X86juZ4mt2CuD9DQBNF/ql+lPpkX+qX6U+gCvZ/6gfQfyqxVez/1A+g/lVigAooooAKKKKAOO8U6Zruo6xb+Raw3emRDc8LTbC7Z6EY5rSSXXodJiNvp1ssyk7rczYAXsAcVv0YoA4238Pajq+uXWp65Glp5lsbZIYn34BIOSaqxaJ4jk0C38OzRQJaxMqtdh8l41bI4xweMV3lFAHH/ANjazoWr3U+gxQXMF2ihlmbaY2Gefcc1q+F9Fk0bTpFuXD3NxK0sxHTcT2rbooAKz9aGdNYHpuFaFZ+tf8g1v94UAWo4Y/LT5R90fyp/kx/3F/KiP/Vp/uj+VOzQA3yY/wC4v5UeTH/cX8qdmjNADfJj/uL+VHkRf881/KnZpaAK11DGLdv3a9PSnQQRG3TMa9PSluv+PV/pToP+PdPpQAfZ4f8Ankn/AHzTkjSP7ihR7CnUUAFcc3hCC38fXXjDUZ2l8q18uCMgYhGSzEe54/IV2Nc949lmh8C6q9vnf9ncDH0NAHzv4Rgb4mftHXOrN81vpsrMwbneqllX+hr3v4o66/hv4a6xqFsyrPHbkRA9yeP615T+ylYQHQdZ1Dav2n7X5Jb+IrsUgfTJNWP2nfFltb+HLTQLadXu7iXdJGpyQmD1/HH50AN/ZZ0IweGdQ1eVR/pM22NvYcH9Qa9G+IkHjS4l0xPBUkESeev2p5c5CZ5x71m+FzB8OfgzZuke6Qwh4olH3pH5A/M1z1r4/wDF+mfE/QfD+tS2twNVDPNbwLzbADI596APZ4FkS3jWZt8gUBm9TUlFFABWTqvhfRdaukudW022u5UXYrzRqxUegJHFa1cl4t8J6v4hvIZdO8T32jRRoVMVqkZDn1O5Sc0AWh4B8KYx/Ydif+2K/wCFH/CAeFO2h2P/AH5WuU/4Vh4iPT4h6yB/1yg/+Io/4Vj4i/6KFrX/AH5g/wDiKAOr/wCEB8K/9AOy/wC/K0q+AvCwIK6HY8HI/cL/AIVyf/CsfEX/AEULWv8Av1B/8RUkfw08RxsGHxC1htpB2tFDg+xwgoGejxRJDEscKhEUYVVHAFeN+MP+S3aJ/uN/6Etew2sUkNrHHNKZnVQGcjBY+tePeL/+S36J/uN/6Etc2I+Fep7OUfxKn+FnpHjTxHH4U8I3urPtLQx/IGOAW7frXhvwB0M+NvEuq+OPEZNzdJOUgWQZCZ+b5Sew3Y/CvRvj3pN7rHwi1C306Iyyq8chQH+FXDH9BWf+zkbcfDOMQshkL5kAPIOO9dK2PFPWdvbtXyd4iuk8K/tSR3ls/lRyTh58NgMDkEH2+UflX1XeXkFhbvcXlxHBCgLM7sBgfjXyJ46fS/GXx+tPs4kn025lSFpMFVkOWPB7jBHSgD3P4YadLrfiTWvHOoQmN7+TyLQN/wA8UJAb8Tk/QivUKz9ONhYww6XayRI0MYAgVhkD6VoUARXMpgtZZUjMjIhYIvVsDpXmc3xM8YJcSJF8N9WkRWIVw6fMM9eteo0UAeUt8TvGfRvhtqy+vzxn/wBmrhvAHjTX9M8SeKbnTvBupX813e+ZPBHtBtWCgbWJbk45/Gvo5vuH6V5P8JBnx349znjUxjn/AGFoAf8A8LN8aHp8NdW/77j/APiq6bwh4u13X7uWDWvCd9oiooKS3DKRIfQYJrsKKACjvRRQB5h8W5W1PVfC/hq2cGS81FJ54x18mP5yfpuVR+NelxwqkCRgfKqgAY7CvEdY8V2DftRaXFcSKi2NpLaEseC7YIH15r3AOpGQQR65oA4L40pZD4T6x9sQbRA2zAGQ2D0rnf2a7+6u/hakd0zOkEzpGzHooOAB9Kxvjz4lXxKbbwJ4baS71K4mUzLANyxjP8RHTivT/hx4S/4QvwPY6Q5Vpo4wZWQYBfHJ/OgDiPHv/JZfDH/XzH/Jq9hX7orx7x7/AMln8L/9fMf8mr1e91Sx0y3ea+uooI0GWZ3AxXNR+KXqezmX8Kh/gRJeXUNjaSXN1KsUMSlndjgAV4fq8mp/HeS+s9Mkls/CthuCzLwdQmHTHqg/nT9W11/jf4sPhnQbt4PDFltfU7lODdc8Rof7vByfpXs+laTZaHpNvp2mQJb2ttGESNRgAAV0njHyT8FdebwH8X59Ivd0UV1K1nIWPA2k4P444+tfYYOQCO9fIn7Qug/8I38SbTW7FkMVziRVT+B0IPP1J/SvpL4d+KYPFXgXTNS81POkgXzk35KvjkGgDqa5P4gr4sk0OOPwM1ul80y7muBlQnetzXdYt9B0G71O7JEVtE0hAGS2ATgV4tqHxH8a6DrugXWqvbGy12YCLTFT9/DGWxknODjIJx0oA9v0xLuPS7ZNSdHu1jAmZB8pbvirVIpyoPqKWgBGOFOOteb6p8RvFljqk9ta/D7UryGNsJcRMu1x6jJFek0UAeVf8LR8Yf8ARNNX/wC/kf8AjXC6N408RRfGjXNVj8G6hJezWEUcmn7kEkSgnDkk4wa+j68p8PHP7S3ibn/mFwfzNADh8TPGe3j4a6sf+2sf/wAVWr4e8deKNV1mC01LwJqWmW8hw91M6FU/Imu/HvzRQAUUVBfSNFp9xIn3liZh9QKAPEfG2vjwf8c4dbjsn14zaf5C2dqA8lud2d/oAeBn2FaWl/G7VdR1+3sf+EL1OKKaQIXZR8g9Tg1Z+CFvpupaRqniC6SJ9Y1C/mF0ZDl1CyMqLz0AUAAf416k8Vpbje0cMYXkEqBQBKiBgGZQGI546e1JPv8AIk8r7+07frjiszQfE+meJBdHSJxOlrMYZHXkbx1APfFcD4r8ca7d6hrFv4TnhtLfQlP2y6mj3BpNu4IvbpigDofh9B4vjOpv4ymiZWuWNpHGclY+2feu0rjfhZ4pvfGHgOz1bU4wlxKvzFRw3uK7KgBGVXGGAI9DTPIiHSNfyqSigCPyIv8Anmv5VXeJP7RjGwYKE4xVyqz/APISj/3DQBN5Mf8AcX8qQwR/3BUlFAEfkRf3Fo8iL+4tSYoxQBH5EX9xaPs8X/PNfyqTFFAFO6ijVodqKMyDOBVj7PCR/qk/75qK8+9B/wBdBVkdKAIvs0P/ADyT8qPs0P8AzyT/AL5qWigCL7ND/wA8k/75o+zQ/wDPJP8AvmpaKAIvs0P/ADyT8qjuYY1tm2oo78CrNQ3f/Hs1AEkX+qX6U6mRf6pfpT6AK9n/AKgfQfyqxUNqMQj6D+VTUAFFFFABRRRQAUUUUAFFFFABRRRQAVQ1r/kGn/eFX6oa1/yDT/vCgC5EP3S/7o/lT6ZFnyk/3R/Kn0AFFFFABRRRQBFdf8esn0pYP+PdPpSXX/HrJ9KWD/j3T6UASUUUUAFcx4z8aeHPCdkq+J7xYYroGNY2Gd4PWunrxn47/DfV/GcmmX2j263q2rYmtvMKM68/dODQAad8HLESPrnw/wDFV7pFrf5kZbfDIyk9gwI/SvH9Q8JW+vfHaDRdCuLjUWtrhHvbq5feJNpUsQfpxj1r1r+0PiHqXhuHw74T8JSeG1UCOS6vpUZUXGDtC55/Kut+GfwrsPh/ZyStKb3Vbo77m7ccs3Uge2SaAOvnsrGHSUW7hRoLOPcAw4UKM5/SvC/AerQaz8R/E3j7UwF0/Tz9khc8klCeR9Qa9+u7dLuzmt5eUmRkb6EYrzHw/wDBSHQ5jbnV55tI+1G5FiwwC3oT3HtQB6bY3aX1jFdRBlSVdwDDBFT0ioqKFQYUDAA7UtABRRRQAYooooASlFFFABXjPjAf8Xt0Q/7Df+hLXs1eVePvAPiDX/FkGp6HdRWyxRlQ5kIcHI6cGubEJuKsezk86Ua0lVlypxauenusVzA0cqhkcFWB7ivMn+C8Gn6pdXng3X7/AMPm6cvLFbOrRknr8jAgfhWWPAXxI7eJpPxm/wDsaX/hBPiSv/Myv/3+H/xNJVp/yst5bhv+giP4m5bfCGC+mSTxlr+peIBETshnlCREHqGVQAw+oNXPF/wn0LxTbWIh36ZcaeQbaa2O0pjH59K5f/hBfiWeniRvxmH/AMTR/wAIH8ST97xK34TD/wCJp+2n/Kxf2bh/+gmJ1/gz4d2/hbVLnV77VLrV9Wuo1ikurpuQi9FAGAB9BXbbh2NeM/8ACBfEgf8AMyyf9/h/8TSHwJ8SR08SSf8Af0f/ABNL20/5WP8As3D/APQRE9nzRkV4x/wgnxK/6GWT/v6P/iaP+EE+JQ/5mRz/ANtv/saftZ/ysP7Nw/8A0ERPZmI2H6V5f8LLK7s/GvjeW7tZoI59RDRPLGVEg2LypPUfSsn/AIQX4lf9DI3/AH+/+xpF8CfElclfEZBPU+aP/iKPbT/kYf2Zh/8AoJiez7x6j86N49R+deN/8IR8TP8AoZW/7+j/AOIpp8EfE7t4lb/v6P8A4ij20v5GH9mYf/oJiezbx6j86juLhILaSVnACIWJ+grxz/hCPif/ANDI3/f0f/EVW1HwP8TTYSKdcacMNrR+d94H/gIo9tP+RlRyvDt2+sxG+Cvh/p/xC8K6vqviSGRbzUdTlmguVba6qrARsp6jhRXSR/C7XvK+y3PxB1Z7ELsEGI87OmN23PTjOc1z2n/Dv4g6fp0NrZ639nhiQKsSTYCj0+7VkeBviX28SN/3/wD/ALGhVZ9YscsrwyemJid54R+HXhzwarPpVt5l2/8ArLyc75pPqx5PWuq3j1H5143/AMIR8TB/zMh/7/f/AGNIfA/xNP8AzMp/7/D/AOJo9rL+Vk/2Zh/+gmP4j/iABJ8YPDQHe5QZB/2Wq1q3wD0vWL65uL3XNWmE8jP5b3bbU3HOAOmB0/CqGn/DXxgfGOkarrF/FerZ3KySGSU5CgHpheTzXtNOgnq2rXIzWVNeyp05qXLG10eUeF/gJonhPXIdT0u/vVeNgWQznbJ/vAda9SuYftFpLCWK+YhXIOCMipaK6DxTxzUf2ctB1a6kudS1TUrqV3LZluCduT0HtUmnfs+aTpM0T6brWq2ojcPsiumCtg9COhzXr9FAFSTTreXTls7pBPCqgESc5x614LZXFv42+Ol5q9wx/sfwpEyrxhVcZVxnucAcV9CMAykEZBGDXmdr8G7ey1TUGs9WuItO1K5N1c2oH33PUbuu0+lAHfaLq1vrmkQajZBxBOu5N4wcVfqOCCO2t44IECRxqFVQOAKkoAKKKKACvLtBs7iP9o7xHcvBIsEmmQhZSh2k7jxnpn2r1GmhFDlgoDHqcdaAHUUUUAFIyh1KsMhhgj1paKAPH/FPwNNxrVxrHgzW7jQru4bfLGhLRsx77elULP4GeIL+RD4s8b3t9Cp5hgBh3D0JBz+te30UAZmgeHtO8NaPFpuj2y29tGMBVryr47XDwaTY+FfDyeReeILsJI0XBI6kn1yARXtFcV44+Hq+LdW0nVbbUJdOv9Kl82GWNQ272IPbr+dAFnwbPpekQxeENPz52l2yeYoHCgjgZ9a6ysLwx4Zi8PQzs0zXV3dP5k9w4+Z2/wAK3aACiiigAqs//ISj/wBw1Zqs/wDyEo/9w0AWaKKKACiiigAooooArXn3oP8AroKsiq1596D/AK6CrI6UAFFFFABRRRQAVDdf8e7VNUN1/wAe7UAPi/1S/Sn0yL/Ur9KfQBDa/wCpH0H8qmqG1/1I+g/lU1ABRRRQAUUUUAFFFFABRRRQAUUUUAFUNZ/5Bx/3hV+qGs/8g4/7woAux/6pfoKdTYv9Un+6KdQAUUUUAFFFFAEV1/x6yfSlg/490+lJdf8AHrJ9KWD/AI90+lAElFFFABRRRQAUUUUAFFRwSGVCSMYYjipKACiiigAooooAKKKYsoaZo8crQAskiRRl5GCqvUk8Cqltq+n3cvl2t7bzNnBCSgnP0rgPH5n8TfEHQ/A7TT2+m3Nu99emCTY0yIQojz1wSQT9Md66DT/hp4T0fUoNR0rSYrK5tzkSw/KW6fe9eg/KgDrKQCvNX+IfibXb68/4QfwzHf2FhcNbzXN1cCLzXU4YRjqcYxk8Z71Zl+KcD/C+68WWllJvsnMV1aNjdHIrbXT0yPyoA9CorzWL4g+JrfUbC61fw0ltoOozJDDcC4UyxFzhS6dhnjqTz0q5rfjfWP8AhOJfDfhbTre7urSBJ7n7XKIl2uTjZ3Y4BoA73cAcEj86WvGPilrni+08QeEl062gt5J7ogp55Akk2MRG2P4eM59hXd6hrXim00u0jtdEhutUm5lBnCwRAdfmJz9BQB1lFcV4M8bXutalqeia/ZQ2etaaA8kVvL5sbxsPlZW475HODwa5m3+J3jLVNBbWNH8HCeys3kS7eW4EbSbGIJhX+IYHcjkUAetEgdTiivJviZ4i1298GaFqfhiGP7LeXdm7PJLtdSzjC8djkA+1buq+NtW8O+HdOXV9Ot28QajIILaxtphsLYJyWbHAAJP070Ad7RXCaF461R/FsHh3xVpltZXt5E09o9pcCWORV+8D3DDjtjnr1rtppWjaMKAdzAHNAEtFFFABRRRQAmKWiigApDXH/FHxPqfhLwRcarokcUl3GwVEmGVOf61B4K8dS+J/As99cwi11ezjZLq3b+CULnOPTnj2oA7ik3KDjIz6ZrkvBvi59T8CabrXiCSC3mvNoO3hdzYwo/E063sZNP8AGNxrmv6wpW722unWqZVEXGen8Tk5JPoB6UAdZRWXqPiXRtJ84alqVvbGBA8gkfG0Hoahk8YeH4tNTUJNWtUtZDhJGkADUAbWKKr21/a3lit5bTpJbsu4SqflI9c1mWvi/Qr68e0s9Tt5rhVLeWH5OPT1oA26KyL3xPo+nIW1DUbe1KIHdZXA2g9D+lOvvE+i6bp0d/falbw2sqho5XcBWB9KANWiqOl6zp+tWv2jSruK6i6bomzVm4uYbS3e4uZFiijUszscAAcmgCXNFedeIPHOn6pNoD+FtchuEm1RYJhbyBhIuxyV49wD+Fdnq3iDSdAiR9Yv4bRX+75jYLfQUAaVFVrHUbTU7VbnT7hLiB/uyRnINSwzCYMQMbWIoAkooooAKKK5f4j+Ibzwp8P9U1rTVja5tIt6CQfLQB0+aWuA0GDx/cyaZfahr2kyWU2yWe3SydXKEcqH3Yz74rqr/wAT6NpZnGo6jb2xgdEcSOAQz/dH45oA1aKxrvxZolgJWvtSt7eOKIStJJIAAp70uoeLND0vTY9Qv9St4bSQBkmZxtIPQ5oA2KKpaZrGn6zai50u7iuoWOA8bZBq7QAUUUUAFVn/AOQlH/uGrNVn/wCQlH/uGgCzRRRQAUUUUAFFFFAFa8+9B/10FWR0qtefeg/66CrI6UAFFFFABRRRQAVDd/8AHu1TVDdf8ezUASRf6pfpTqZF/ql+lPoAhtf9SPoP5VNUNr/qR9B/KpqACiiigAooooAy9S8R6XpMvl31yI3xu2gEnFWG1axTTRftcxi1K7hLng1neJb+z0rT5pJIElubhfLjjABaQkYFclPpD6Vo/hjTb0hhJeiSaI9ASQQtAHb6Z4g0zV3dLC6WR4xll6ED1we1QjxZoragLNb1TIW2g4O0n03dK5jxii6f4ntZ9OVYLhrORXMYxlcjtTJ7K0X4P2rJFGCqRSKw67vMHOfWgDsNS8QabpEix31yEdhnYBk49eKu2t1Be2yT2siyxOMqynOa4zwgsd74g1eW+RZJljiX94MkLg1c8AAJZajDF/qIr2RYxngDOSB+NAHW1Q1n/kHH/eFX6oa0caa3+8KALsf+qT/dFOqql4gjX5HPyj+Gl+3J/cf/AL5NAFmiqv25f+eb/wDfNH25f+eb/wDfNAFqmNNEhw8iKfQsBUIvlP8AA/8A3ya8j146FffHK4h8S3MkVoulxsivdvFGG3PztBGT70AevXDK1m5UhhjqDT7fm3T6V4v4A1oaXqniyDRZrnUPDFioe1lkkaQed/HGrsScAY+mTXT+FfifP4jgtr2Hw7d22iNC7SahKQArKMjC9SD2IoA9ForzVvitd/2SPEKeHJ/+Eb2+Z9taRQ/lYz5mzOcY7da2rXx9FN42GhTWjxxXFmLuyuQeJ143DHqMj86AOvd1RSzsFUDJJOAKRJFkQPGwZT0IOa881fx5Z6k3ifTZdLlubHSI1W4fcVErEbigwc/dIP401fiFY6J4c8PQaXpcz3WrKq2VnzjO3cQXPoKAPQbu7t7C0kubyVYYIlLPI5wFA7ms208V6Jfx2r2WowTLdu0cO1xlnAyVx1zisW71ObV/B16niTw1cFj8j6dGwczD0B6Y/Guasr/S7X4i6fca/wCDTpepXpdbO9jdZE37MFSAflYqvXHOMZ9QD0+y4if/AK6GrFeeXfxFmh1y50Twzodzrd5aHN0Y2CJCT0UsT972961vCPj618VR3cYs7i0vbGYwXVtMuGjYAH8RyMEdaAOtqGS7t4bmK3lmRJps+WhPL464/Oub8Y+O7XwnaW2bWe8vb2QQ2lrCuWmkPQe3uewFcnD4svdY+Jnh621jQLzSLuC2uZGSXDqQfLAww4zQB6tRXnt/8T55vEF9pXhTw7ea1Lp+FuZUwkaMRkIGJ5OP51seEPHdr4s0+eVLO5s7u1lMNzaTph4nHb6cjmgDqqrxf8fsv0FJ9tT+6/8A3zUMV0n2mV9r44/hoA4vx9oeq2finR/Gvh2zfUbrTUa3ubFHCtNbtydmerggEDI7+1aFn42u9Y1KDT4vC+r2yTgiW4uYvLSEdO/U9eldUL1D/A//AHzSG9X+4/5UAeYeGtR17wHFquiX3hi/1ILdTTWlzp6hlljdmcBjxtIzjn0zVePwnrdl8INTgubTztR1HUPtn2WEA+UrShtvocAc+uK9X+3L/wA83/Kj7cv/ADzf8qAOI+ImkahqHgPTbTT7aSWeK+spXRByoSVWY/gAao+OodP1C6aObw5rMurWMKG01LT42XLEA4Ei+mOQePWvRPty/wDPN/ypRep/ckH4UAeQeJNH8VLoPgzU9Vs5dV1DSp1nv7e2GXP7tlO0dzlhWr4wl1bWdZ0K7n07Vj4cdJPtVnaBlmEvylS6jkr94Y9xXoouk+2bwH+5gg59amN6n9x/yoA8q+HOjXNj8UPEt/DoN/pWl3VnEts131kZSc98jtwa6vwta3cfwojtbm2liuBaSKYZFwwPPGK6n7av/PN6UXq/3GoA8mfRdbt/gL4ftYtJuLnUNPks5ZrNQPMYRuhYDJ64BqXxvpl94v0/w74kj0O+ePTZt11pMi+XO6FSDt9wSDx1xXqgu1/uN+VL9sX+435UAee+FdM0OTxXa3en+FtStJ4Im23t6rJ5YI5Ubuv4V6Fc/wCtg/3xR9sX+435VBcXStJEdjcNnpQBfoqsb1B/BJ/3zR9sHaKQ/wDAaALNFVftf/TGT/vmj7b/ANMn/KgC1RVb7aP+eb/lR9rz/wAs3/KgDz/47sV+G/Dbc6hag844Myg1ieOFb4f6sviy0Rm0rU7P7PqsSJkqQjGOQfiQp+o9K9G8RaZp3iHS/sesWTTwB1kCt0DKcg/nVi/tLHVtJk03UrE3NnMnlyROuQy+lAHj2ohIf2edAZnAjh1Gy3SE4GBOnOfTFdd491Cxk1DwdaLdwNcyagjxxrICzKsbZIHoM9feuoj8P6JF4ZHh1dIB0ny/KNqwypX05rOtPAfhOxmtpbbQgstrJ5kEju7tGcEcFiSBg9OlAHLroWma3+0HfvqdtHdNaadG0ayDco3M2cg8H7o61U+HvhPQ7r4i+OorjTLeSC0vkEELxhki3xhmwp4GTk16VFpemQ69NrMViy388axSTDqyqSQP1NJYaXp2l399eWFg0VxqDiS6kB5lYDAJz7UAeR2zzaZ8E/FNrph2RW2oXEKAvtWCPe3Geyj9BWtqngzWtR0uwNpFoOlpaTRypd2pAcqCCQCBzuGRXoOn6Fo+l2V3Z2GleVb3srS3Ef3hI7HLE5z1NZ1r4G8NabsNjpE0Qh5ij+0yeWh9kLbf0oA5JfD2max+0B5mr2sN20GhwhEdN6ZLvyQeKWG102+/aB1HTtdgt2trLTIn022nVdi5P7woD34XNd9b6NpkesjWhph/tJ4Fha5BOSgzgdcdzTNb8OaJ4imhm1nSWnlt23RSgsrIemQykEUAcn4YhsLP416za+HBHFaGxie8gt8COOXc+DgcBiMZ/Ctb4qrbSeH9Ph1KXytPm1O2S6JbClDIBhvY9CPQ1saDoOieGI5k0PS/sgnffKRlmkb1ZiSSfrVvVrLTte02Ww1ex+1Wso2vFIuQRQB53440nwvp/ivwc2nQWdrqMd9tgjtwqM0fltuyB1HSqE8Op6p8dNdVLfTbmS3tIRbJqIDbYznJQEdyOfoK7m08B+E7GW3lg0UtLayebBJK7O0bYxwzEkDB6dKua14c0LxDcxXGq6dI9xCMRzRyNG6j0ypBoAxfht4U1Lw1qGvSX1zZ+RfXInjs7P7lsxHzADtkjP412lh/q5P981n6Jpum6DbPBplrLEjtube7OWP1Yk1btJwgcBGOWJ4FAF+iq/2vH/LJ/wAqT7Z/0yk/KgCzXB/Gz/kjniDP/Pse/uK7P7Z/0yk/KqGs2Wn6/pU2m6xZvc2c42yQngMPw5oAwvB/ha20+00vUY9X1K4P2NVEc94zx8gdFJxn/wCvWLp/hvStW+OXiW91O0ju5Ira2SNZUDKvy5zg9+f0Fb1l4H8M6ddW1zZafdxSWrBoh9rm2rjOPl34I56EYrYtrTTrTWLvU4bRkvLwKJpcHL7RgfpQB55H4e0nWPj/AH41GziuFs9OQxROAVG9mByvcfKMfjS2+m6Lf/HW+tNeitWNlp8badZTKPLRCzBpEU8Z4AJxxx613lvpumw+JLjWY7Ui8miWJ5cHJUEkD9T+dR634d8P+I7iGfWNMM08AIjmBZHUHqNykHHHSgDkvCttp1l8cNdg8PDZZtp0UlzHCP3Kz7iMjHG4qOfbFenisTRNK0jw5atb6Lp32aN23NjJLn1JJJJ+taf20f8APN/yoAs0VW+2j/nm/wCVH21e8b/lQBYzVd/+QlH/ALhpPtqf883/ACqFrpTfI2xuEIxigDQoqt9uTP3JP++aQ3yf3H/KgC1RVX7en/PN/wAqPtyf883/ACoAtUjMFUknAFVvtyf883/KuU+IuvSWHhWT7JvSWYhN3TAPBqJy5Ytik7K5LrPxA0Gxukge48x45Mt5fOK29E8R6Zr8JfTbhZNv3l7j8K+bS2evLd2Petfwpqk+j+JLS4tnKh5FR1HRgTj+tcEMVJySZhGtdn0hRVZbxSoPlyY+lH21e0cn/fNekdBZoqt9tX/nnJ/3zR9tXtFIf+A0AWahuv8Aj2amfbV7xS/980ye6V4GARxn1FAFmL/Ur9KfTIv9Sv0p9AEFp/qR9B/Kp6gtP9SPoP5VPQAUUVU1S5ks9LuLiGPzJI0JVfU0AWs0vavOf7X8Q2mrWK3uqQ7bhoWEKwcyBzyB9MV6MOlAHMav4Ki1fX4dYOpXlvcQoVRYmGwZ9j3qxceF477R1sr28nnkjk8xLl8eYrA5BGPet+igDA03wrDZ3Ml1e3Muo3Lx+V5lxj5V9ABVKLwJAgjt31G6k06GQPHZMw2Lg5A+mRmusooA5zUfCEd1qj39hfXGnzSoEl8gjEgHTP51raRpVvo2npaWoO1clmbqxPUn3q7RQAVQ1n/kHH/eFX6oa1/yDT/vCgC7F/ql/wB0fyp1Ni/1S/Qfyp1ABRRRQAGvLrzwva638dbmXWNHS8shpUYSWeLcm7e+QCe+MfnXqNGOaAOc13SbXTfAmp2ek2kdvH9mcLFCmB07AVg+DtIurn4FaVpRRoLs6WiFJFwytt6EdjXd3YzaSA/3TS24At0xxxQB4Roul+HbfwxbaDr+h68l9DGLa4tVEjROQNpKt90qfU113xG0270jT9B8UeHNMnvL3Q3wtpH99oXXDjjrjg49VFenYpCM9aAPKtI0HUrb4J6pNewyyaxq0L3c8RXL+Y4zs98dB7AUX1tof/CvfD2neMNMvmcQJ5MtpC7S2zhOSGUEoe2a9WwPSgDHSgDxK31Hx3F8LdWl0+W+fy7wCymmhzd/Y+Nx27R84G7Hy9h1qCztNOm+IHhifw/Y69OFaSS5vL6NwgG09QwGDkjHHTIr3PA9KMUAePaZrNx8OvGnic6xpN9c2Os3xvLa5sbZpv4QCrBQdvT6c9q3fhpZ6he6xrfie/0+XTodTlU2lvMu2QxhQAzDsTg8HnpXeWX+qbP981ZFAHm/xVivdPvNB8SWuny6jbaXdbrmCBN0gQqy7lHcgt9cZqvZeLJvFvxM0CS10PUbTT4bS5YXd3bNHvbKDbgjI6Z5x7Zr1DFJtHfmgDyLTvEkvw31/X7HW9G1G4hvLo3dndWNq0yyKwA2naDhgfXjGPw3fhfYX8lxr/iPUrKXT21q98+K1mxuRAiqpOOhIXOPeu/KKeozzmnUAJ3qCE/6ZP8AhViq0P8Ax+zfhQBZooooAKKKKACiiigCqf8AkJf9s/61aqt/zEf+2f8AWrNABijA9KKKADA9KMUUUAGKr3JxNB/v1Yqtdf62D/eoAs0UUUAFHWiigAwPSiiigCC84s5PpUy8IPpXNePvFtn4L8MNqmowTTQGZISsIywLHAOKwbX4qKmtWNpqvhzUtMsr91jtNQuVCxysegx1BPbNAHolFcj4m8dnRdVXSdH0a817U/L817W0Kr5aHOGZmOBnB/Kiz+Iem3HhfUtXu4Z7BtKUm+tZ1/eQEDdg44PBB49aAOuorkfDXjPUNelZ7rw5d6ZZeWZY7md1YSLz2HI6d6qaT8RZtd1CH+y/Dt7Ppss5h+35AVcEgsQeduR1oA7mo5hmF/8AdP8AKuL8TfEePRteOiaLol7r+pxxiWe3s8Awp/eZjwPp1/WrXh7x3Z+JdI1CVba4sLzTyUvLC5QrLC2M4I757EcGgDqbf/j3j/3RUtefWXxNkhl01NY8MappllfuIoLydRtyfu7lHK5z34q9rvxC/s7xSfD+i6Ld63qEcST3EduwUQRs2ASW4P060Adniiq2n3Ml5YQ3E9u9s8i7jC/3k9jVmgAooooAKrWf3XP+1Vk1Wsvuv/vUAWaKKKACiiigAooooArxt/psg/2asVWh5vpfpVmgAxRiiigAxRgelFFACYHoKrN/yEo/9w1aqq3/ACEk/wBw0AWqMA9RRRQAmB6ClwPSiigAwPSsPxdoI8Q+Hp7NcCXG6Mn+8ORW5RUyipKzE1dWPmbUNF1DS7kwX1rJG6nbkLwx9q6nwJ4Kv9S1eC9uoGgtIHDkyD75HIxXsl9BFK0PmxI/7wfeUGraqqqFUADsAK5o4WMZXMlSSdxaKKK6zYKKKKACobr/AI92qaobrmBhQC1Hxf6lfpT6iEiRwBnYKoHU1jXvjXQNPm8q61S1jfJBVpQCCKTaRpClUm7RVzXtP9SPoP5VPUFp/qR9B/Kp6ZmFZurPdW8bXEdxHFbxxkuHXPPrWlWVrWoWVtA1vfrIUljY/KvBHpn1oAyrG21u6lsruW90+aFQGQiIbtp9D24rqh05ry/TZdPj1OyWHSdVhQSRbHe4GxAx+UkZ6cV6gOlABRRRQAUUUUAFFFFABVDWv+Qaf94VfqhrX/INP+8KALsX+qX6D+VZHiHxPZeGltW1FJil1KIkaJN2D1yfQAc5rXi/1S/QfyrlfGoX7foO5Qd17ggjqNpoA6i3uIrq3Sa3cSRuMqw71JXPT20nh25e8sEL2EjZuIFyTH/tqP5ity3uEubdJoW3RuMq3qKAJaKSuG0jxJe6b488QaJ4huxJDFCNQs38vbttzkMue5BX9RQB2t1zbOPalg4t0+leZabr2v634EvdabWbOwt7u8draaeLeFtAxA24IyzAA55wT0NQeFvHF4nxGsvCx1hNctLy1kuDO0PlvCy4+XoMg/40AegaH4lstfn1KKy8wNpt01rPvXHzr1x6j3rYyK8o0PxA3hvRvHWqrGJZINTm8lGPDP0UH2zim6vJ8QvD/g5/Fdz4gs7ia2gF1d6attiEpjLIjE7gcdCc9OlAHrNFeW+KfFfiO817wrZ+EryG1XWITJMZ494VMZJA9R2r0HQ7O/sdJSDVr/7fcqSWn8sJuB9hQBo1kaR4ittZvNTt7ZJFfTbj7PLvGAW2q3HqMMK4sal4p8ZeMtatdA1mHSNM0dltwRBvkmmKhznPAUBgOPej4dvqccXiz+0Xtxqa6g4d1BEQOxdrYPIG3aT+NAHoVl/qCf8AbNWa8VPjHVtDv9LZfFdrq8094tvdWS2pWMhj8xjYZ2lRzgk+leytKEtTMegTcfyzQAs8ywW8kr/djUscegGa52Px3pT+FY/EDLcrZPMIcCEs4JbbkqOgz3riNM1Pxt460bUvEGl6tbaXZxyTwWljJB5gkVMje54PJB4FR6frOqaL8DLS+snSK9N4iPvUFQGlAbqD74oA9Vv9ShsNHm1GXcYYojKdqkkjGeB61U8MapfazoMGoanYfYJLgb0gLZZUPTd6H2rB8WX19Ctiz+IrbR7KSHMxaDfNLJxjb7eox6VieEvGup6l4e8SrLdpdy6Q7Jb3qx7BMu0EMVPTBJHvjPegD0y4nS1tpJ5SRHEhdsDJwBmsrw7rlp4is/7T04Si3mHyedGUbj1U8iuK8B3vjPWPCcXiXxDqsASWxdlsoYcANjKuW9cdvepfDuuaxqXwvsNWk1Sysby4LG5vZ4/lC7m5Vc9cAUAek0V5X4a8b3g+Jtr4bbWk1yyvbOS4WcwGN4XQ8jtkHI/KvVKACiiigAooooAq/wDMSP8A1z/rVqqw/wCQkf8Arn/WrNABRRRQAUUUUAFVrr/Ww/71WarXX+th/wB6gCzRRRQAUUUUAFFFFAHl/wC0BL5Hw3il2s/l6lattUZJxKDgDuay/FXieLx9JoOg6Bp182oJfW13crNAY1to43V2JYjGflxgc89K7v4g+FR4v8Npp73JthHdRXG8LnOxg2PxxXSxxqqghRnHXFAHjfijT7fTfizeX2v3epadZXtnCkF5aA+WWRnJViOQfmHUYOfatvQNO8H2vhvxDfI17f6ddqft8t0hbzhsCnAxyNoFemMocYYAj3FG0AYAGPTFAHjfhLUZbLxxFpfha9v9S8LfZZJLsXiErbHPyqjHk8buOwxUCX1lpHiS0/4VvdXzfb73N5pjRsYAh++4J+4ec8cE9ua9rAA6DFIEQEkKoJ6kCgDyy01mHwF8Q9dXxDbzpb6s0d1BfLEWQ4jVTHkdwRnHucd6qWV5rN7F4z8ZeG9OlBurdY9PiuI9jTlAcsVOCM54zjpXr7KrfeUH6io5QEt2CAABTgAUAfPN5fWOpaX4cli1LWtU1KS+tmuInhcRRHIJ3Lj5QOcehxXaeOn8MQa497Hqd9pHiSCBAJ7RDmcfwowwQw9u3Nen2safZY8IvKjPyjmpWiR/vord+QDQBieCb3VtR8F6ZdeIofJ1KWBWuEAx82OeOa3qQDA4paACiiigAPSqtl91/wDeq0elVrL7r/71AFmiiigAooooAKKKKAK0P/H9N9BVmq0P/H9N9BVmgAooooAKKKKACqrf8hJP9w1aqq3/ACEk/wBw0AWqKKKACiiigAooooAr3fWH/roKsVWuzzD/AL4qcuq9SB+NADqKyNU8T6PosZfU9Qgt1Bxl3A59KwJvHr3koj0DR9Q1DPSQReWn1y+OPpmpc4o6IYarNXtodqSBVe51C1tImkuJ440XqWbGK4+Cz8da1ADqNzZ6KrZzHbjznHP944HT2qe3+GmlG6+1axcXerTkYJu5dyfggwo/KlzSeyNPY0ofHP7tR158SNGhnFvYNJqdwzbViskMvPuRwPqTVC81HxprtuRpOnW+kqw4kvW3kf8AAVOP1rtbTTbOwhEVnbRwoOgRQMVJcjbbsRxiize7Gq9Km704fecZF4Bu9RkSXxJr99eEDmKF/JQH0G3t9a2LDwJ4b0yExWmk26qx3MSmSx9Se9b0fMan2p9NRSM5YqtL7VvTQgtP9SPoP5VPUFp/qR9B/Kp6o5grN1f98n2WSya4ikQksDjafT61pVg+KdI/tHT3lieZZ4UJjETkZNAGCY21DVNPebR76EQmNCd/ysF+6W+nNd4PavMLRbRm0n+zrvUJ9QE8YuIpWbGM/PnPpXp9ABRRRQAUUUUAFFFFABVDWv8AkGn/AHhV+qGtf8g0/wC8KALkf+rT/dFct44tb+dtKm0y0F09rcGRk37f4cD9TXUx/wCrT/dFPoA8z165143MEOsXssCtKs0S2cnlGROrwlh94gfQnNd7otjBp2kwWtosiwoMoJXLNzzyT7mrckEUu0yxq5Q5UsoOD7VJQAYrzj4q+BNZ8VSWF14YvUsbpUe1u5T1e3kGGUe/f8BXo9FAHnXjPwFPdeDNI0/QBaoNHljljtbhf3EoX+Fh+oI6ECqum+EfEd18TdH8UarDp1pb2dnJbtb2vUbsYOe/SvSrr/j1f6Utv/x7ofagDgrXwBPd6D4q0rUphDHq95JNBLCctGD91ue4rHvfDPxH13Q/+EX1e+0uLTJR9nur6BT5k0PQhU6KxA9TjNes0UAcNfeCLp/G3hnUbGWOOw0eB4XRvvMCuBjj2/Wu5oooA81vfDHjPQPGOo6h4Jk0yax1ZlluYL8srRyhQu5SoORtA4Pp1p+m+Adak8H+JtM1zU1F/rM7v9ttAVIBAAwOxwAPwr0eg0AeN2vgzxfceH9G0lrLRbO2066iab7P96QRnqpwMdOncEivXzFvtDC44ZNpA+mKjsf9S3/XQ1ZoA8l0zwf498L299oPh660xtHuJZZYrm5ZjNBvOSu3gEcnBzWg3gHVR8J7Xw4J4nvYrmOR5G+64EgYnj1FelYoxQB5zr3hDXk8fW3iXRYbPUCtj9ke2vnwsOCDvj4OCSOfXA9Kj8N+Ctes7PxU+ryWputacun2cYRflCgAemFH45r0qjHFAHL+FvD95pHw4tdFumjN5HZ+UxUnaW24/LNcafh9rT/DnRNIjezm1LRroXDQ3GWgmIZiAc+xyD2OK9aAxVaEf6ZN+FAHn+neEvEV38TNM8T6tFYWcFjay2wtbY5bDBcHOBnkV6TRRQAUUUUAFFFFAFb/AJiR/wCuf9as1W/5iR/65/1qzQAUUUUAFFFFABVa6/1sP+9Vmq11/rYf96gCzRRRQAUUUUAFFFFAFe+/483qZPuD6VDff8ecn0qZP9WPpQA6iiigAooooAKZP/x7yf7p/lT6ZP8A8e8n+6f5UANtf+PSL/dFS1Fa/wDHpF/uipaACiiigAooooAD0qtZfdf/AHqs1Wsvuv8A71AFmiiigAooooAKKKKAK0P/AB/TfQVZqtD/AMf030FWaACiiigAooooAKqt/wAhJP8AcNWqqt/yEk/3DQBaoppdVGSQKo32tWGmxmS9u4oUxnLuB/OjYqMJSdoq5oUEgVw03xR02a7a00OzvdWn5wba3Jj/AO+zhf1qOZvHuu7fsqWehQ5+bzczOw+gwAfxNRzrodSwk1/EaivM7aa7hgUtLIqADJLHGK5zUfiDodk5ihuvtdxxiK2Uysf++c1Sh+G8N4d3iPUrzVOuYpJSsZz/ALK4B/Gul03w/pOkWsdvpthBbRRjCrGgGKLyaHbDU3q3L8EcaPFPizXn26T4aksI93yz6i+3I9Qq5P54qyvgzxDqsiza/wCJ50THNrYJ5Kn6t979a7OYBPLx1LYqcdKlQ11YPFOP8OKX9eZz2neBdA09xKtjHPOMfvrj94/H+02TW+kSRrhFAHsKfRWiSWxzTqTn8TuFFFFMzCobr/j3apqhuv8Aj2agB8X+pX6U+mRf6pfpT6AILT/Uj6D+VT1Baf6kfQfyqegAqOeaO3geadwkaKWZm6AVJWJ4k1LTbezaz1OdoVuEPzBcgD3/ACoAo2/jfQZb6OGHzBLM6qp8gjcT0OfeuprzoXWjX2paWtnrHloxiR4xBzMY/u4J6cmvRB046UAYuv8AivT/AA95a3ZkeWQjaka54Jxk+gqXV/ENvpGlRXrxyTCZlSOOMfMzN0FZ3jyKAeFrqRljEpKAOcZxvHeptQ0y31fQbCCS8Fs0ZjljkVh95cEUAWtN1uW9aX7VptxYJGm4vPjB/KsuPx5ayGOf7FdLp0jiNLwp8jEnAP0zxWRdXmq2+qahoL339pRSWDSrIBh4jkDBx9aSW5tZfg5arFIjBkhRAP73mDjHrQB0ep+K4rK+a0s7Oe/lRBJIIBnYp6fyrR0fV7fW9OS8tCdrEgq3VSOoNct4McW/iHWYrtws+yJjuOPlwat+ABmz1GRBiF7xzH6EZ5/WgDraoaz/AMg4/wC8Kv1Q1r/kGt/vCgC7H/ql+gp1VUN15S4WPoO9Lm8/ux/nQBZoqtm8/ux/nSE3n92P86ALVFVf9M/ux/nR/pnpGPxoAluf+Pd/pSwf8e6fSqlwbsQOWCYx2NOgN2YExsAx3oAu0VW/0z1Sk/0z1SgC1RVX/TPVKP8ATPVKALVFVf8ATPVKX/SwpyENAC2QxC3++asVn2rXRhbYI/vnrU/+mf8ATL9aALNFVv8ATP8Apl+tJ/pv/TKgC1RVX/Tf+mVKPtnfy6ALNV4v+Pyb8KP9L/6Z1BGbn7XNtVM8d6AL9FVc3nolLm7/AOmdAFmiq2bv/pnRm7/6Z0AWaKrZu/8ApnSj7X6R0AJ/zEj/ANc/61ZrPP2j+0DjZnYOPxqcm77CM/jQBZozVbN5/dj/ADpC15/cQ/jQBazRmqm68/55p+dLuvP+eafnQBaqtc/62D/fpN17/wA80/OoZjdGSLcqA7uOaANCiq2bz0j/ADozdjtHQBZoqtm79EozeeiUAWaKq5vP7qUoa77on50ALff8ecn0qZP9WPpVK7NybR8qo/GpAbraMBelAFuiqubv/Z/KjN56JQBaoqrm89Epc3npHQBZpk3+ok/3TUP+mf8ATOmTfazA+fLxtOaAJ7X/AI9Yv90VLVK3N19mj2hMbRipc3fcIfxoAZqepW2k6fLeXsgjhiGWY15Zf/F++e7zptki246GTkv7+1avxckvBoNsjKBC0vzkHjp3ryEnJP6V5uIrTjPlRz1JtOyPePB3jy28TM1tMgt7xRnZnhh7V19fOPhCS4i8V6e1ocSGXGPUYr6Fzd8Y8ofXNdOHqOcLs0py5kWaq2X3H/3qX/S89Yv1qvaG52vt2H5utdJoaNFVv9M/6Z0ZvB2jP40AWaKrZvP7sf50brz+7H+dAFmiq2bv+7H+dKDdHsgoASH/AI/pvoKs1nL9pF5JjbuIHarGbrH8FAFmis+a/NtG0lzLBGijJZmwB+dc5efEKxhLx2AbUpkBPl2amQn244qXJLc6KeGqVPhR2X1prSoqkswAHUk1wcGt+NtcQNZaJFpURBG6/fMnsQq8frRH4E1nUJjP4i8RXc4IGLW1byYlOfbk/iaXNfZGv1aMP4k0vxN7V/G+haK6x3uoQpM5xHGGyz/QDk1gT+NdX1K6x4a8O3FywTiS5/cpn8ecfhW7pnhHTNHH+g6XaiTOTM6guT7nrWorXH2kptQccAU7SYe0w8Phjf1ORGh+M9bjH9tazFp0bj5oNPiyy+o3tnP1wKv6b8NtAsG82eObUJyxZpb2Uytk+meg9q6b/SR0CfiaTN52WP8AOjlXUl4qra0XZeWg+3tLe1iEdvEkaDoqjAqUYFV913/zzT/vqkzd/wDPOP8AOqOVtt3Zaoqtm7/uRj8aM3npHQIW7+9D/virFULk3OIt4j/1gx+RqY/a/wCER4+tAFmiqv8ApnpH+dKPtfpH+dAFmiq2bv0j/Okzef3I/wA6ALVQ3XNu1R5vf7kf50yY3PkN5gUD2oAtRf6lPpT6ZF/qV+lPoAgtP9SPoP5VPUFp/qR9B/Kp6ACqWq2P9o6dLb/KGdSFZhnaau1U1Rp00ydrQZmCEpx3oA5u30rXJpLC2ubSwt7WzmR2liJLyBCO2OM45rr65fTPFc0y2sF1pV2k7hVkYrwD3P0rqBQBl6t4b0rXCDqlqJ8DAyxHH4Gmf8IvpP8AZv2D7L/o4OQu88H61r0UAZ2m6DpukK4sLVYy4wzEkkj0yearx+E9FivRdJZKJA28DPyhvXHTNbNFAGTqfhnStXuFnvrUPKBjeGKkj0OK0LS0gsbVLe0jWKJBhVUdKmooAKoa1/yDT/vCr9UNa/5Bp/3hQBdi/wBUv0H8qdTY/wDVL/uinUAFFFFABRRRQBDdf8esn0p1v/x7p9KS6/49ZPpSwf8AHun0oAkooooAKKKKACg9DRQelAFax/1L/wC+as1Wsf8AUv8A75qzQAmaWiigAooooAKrxf8AH5N+FWKrw/8AH5N+FAFiiiigAooooAKKKKAK3/MSP/XP+tWarf8AMS/7Zj+dWaACiiigAooooAKrXX+th/3qs1Wuv9bD/vUAWaKKKACiiigAooooAr3xxZyfSpk+4PpUN9/x5yfSpk/1Y+lADqKKKACiiigApk//AB7yf7p/lT6ZN/qJP90/yoAba/8AHpF/uipaitf+PWL/AHRUtAGX4h0O38Q6RLY3Q+Vxwf7pryG8+F2vwXDR24imjz8r+1e5UYrCdGM3dkOCbuee+Bfh7JoV2dQ1Z0lucYRVHCV6FRRVwgoKyKSSWgVWsh8r/wC9Vk9Kr2f+rb/eNaDLFFGaimuIoULSOqgdSTigaTeiJaK5PVPiNoGm3X2QXgubzGRbW4MkhH+6OazZPFXizVUP/CO+HSqFsedqEnlAD1CjLH9KjnR1RwlVq7Vl56HeswX7xxWTqvibSNHXdqOoQQegdwM1zx8J+INYXGveIZo43Hzw2C+UPpu5P8q09L8AeHtLVTHZCeUf8trhjJIfqx5ovJ7Ir2dCHxyv6f5mRH4/OoXEn/CO6NfX2G2+ay+XGfozdR9Kk+x+N9YuFee9tNHs8HdFADLK3HA3MMD8jXXxBRcMiqqhRxgVYIzRyt7sHiYR/hQS9dTkIfhzpNwCdckudWY4z9qmJU85+6MD9K6Sy0iw06JY7K0igRRhVRAAKuDiimopGE69WfxMTGBijFLRVGJBd3lvYWr3F3KsUaDLMxwBXDS/FbQo9UC7LhlGVMgjOPrWT8YtTkSSz09SRE43uM8N14ry4sQxx0rz62IcZWRzzq8rsfTGk6xZ61Zi50+USxnuOx9Kv14d8K9TubXxZ9kiLGC5TDp2B/vfpXuIOa6aFT2kLmsJcyuFFFFblhRRRQBWvP8All/10H9as1Wu/wDll/10H9as0AFFFFABRRRQAVDdf8e7VNUN1/x7tQA+L/Ur9KfTYv8AVL9KdQBBaf6kfQfyqeoLT/Uj6D+VT0AFUdZe4i0m5lswzTLGxUL16fzq9WTrcOpOgl0+/jtI41Jk8xM5HrQBxlvc2yHS5tN1e6utQlmjFxbM5bKk/OCP4cZr0kdOa890/VYl1iBI/EOnmSSULsS3UNISegOO9ehCgAooooAKKKKACiiigAqhrX/INb/eFX6oa1/yDW/3hQBdj/1Kf7opwpsf+pT/AHRThQAUUUUAFFFFAEV1/wAesn0pYP8Aj3T6Ul1/x6yfSlg/490+lAElFFFABRRRQAUHpRQelAFax/1L/wDXQ1ZqtY/6l/8Aroas0AFFFFABRRRQAVWh/wCPyb8Ks1Wh/wCPyb8KALNFFFABRRRQAUUUUAVT/wAhL/tmP51aqqf+Ql/2zH86tUAFFFFABRRRQAVWuv8AWw/71WarXX+th/3qALNFFFABRRRQAUUUd6AIL7/jzk+lSp/q1+lQ33/HnJ9Kmj+4v0oAdRRRQAUUUUAFMn/495P90/yp9R3BxbSY/umgBLX/AI9Iv90VLUdtxax/7oqQ0AFFMMqL1YD8axdU8ZaJpDbL2/hR+cJuBY/QUm0jSFOc3aKubtJkdzXDJ461LWY1bw1oF5NGxIE1yvkocex+bH4VGdA8a63Kx1fXINNtW6Q2Ef7wfV2/oBU83Y6Pqjj/ABJKP5nW6hrenabGXvr2C3XB5kcL/OuTk+JNmFePQtPvtZlB+VbSElW/4EflH4mrtr8NtAimW51GBtSuEIKzXjGQqR3GeldHYWtvArLbwxxqG42rij3mVzYansnL8DjzJ471wKYorTRIWHPmN50gH0GAD+JqS0+HHnkv4k1u/wBWcnO138uMe21cD867nFFHIupLxc9oJR9DK03w3pGkpt0+wt4PdIwCfx71pqgAwOlOxRVWSOWU5Sd5O4UUUUyStGf9PlH+z/WrIqrH/wAhCX/dH86tCgAooooAKKKKAOL+IfhCTxJYRz2X/H5bcop6MPSvG5ND1SGbyJtPmWfP3Nua+mKpvGh1KMlFJ2nkiuWph4zlzGcqak7nA/DPwZdaXM+rarH5M0ibI4T1UdcmvSqMYoranTVONkVGPKrBRRRWhQUUUUAVrv8A5Zf9dB/WrNVrv/ll/wBdB/WrNABRRRQAUUUUAFQ3f/Hs1TVDd/8AHs1AEkf+qX6CnU2P/VL9BTqAILT/AFI+g/lU9QWv+pX3UfyqegArH8R3tnb6a1vfTtAtyCiyBCQp9yOlbFZeuXptbZUTTH1F5MhYVUEfjntQBzq+HvtN9YT6Rc2DQIITOQuWJj6FSDxnPNdsK4S18J6rd61baiXj0OKGQSNa2hB84f3W46c9vQV3Y4HPNABRRRQAUUUUAFFFFABVDWv+Qa3+8Kv1Q1r/AJBrf7woAux/6lP90U4U2P8A1Kf7op1ABRRRQAUUUUARXX/HrJ9KWD/j3T6Ul1/x6yfSlg/490+lAElFFFABRRRQAUHpRQelAFax/wBS/wD10NWarWP+pf8A66GrNABRRRQAUUUUAFVof+Pyb8Ks1Wh/4/JvwoAs0UUUAFFFFABRRRQBVP8AyEv+2Y/nVqqp/wCQl/2zH86tUAFFFFABRRRQAVWuv9bD/vVZqtdf62H/AHqALNFFFABRRRQAUUUUAV73/jzk+lTJ9wfSob3/AI85PpUy/cH0oAdRSUjOEHzED6mgFqOorH1LxRo+lRlr7UbeHHZ5ADXOXPxEmuGSPw9oN/qhZseYsflxqPUs3UfTNS5JHRDDVZ7I7osKp397Bb20nnSqnynqa5FrLxzriES3trosLj/lgnmyL9CcDP4VLH8OtPEJk1q6u9XlC/M13KWB/wCA9P0pczeyNVRpQf7yX3D5PiXoEZa2sJn1G4i+RorRDJtPoSOBVca1421iZP7O0WDTbVh8019Llx9EXr+YrrdP0rT7C3RbKzhgUDgRoFx+VXcYo5ZPdi9tRg/3cPvOKl8CXurH/iovEF7PGQN0Nq3kIT+HOPxrb0zwhoekSCSx0+GOT++UBb8zW3RTUUjOWJqyVr6DQiqAFAGOmBilxS0VRz7iHlar2X3X/wB6rJ6VVsukn+9QBaooooAKKKKACiiigCtF/wAf8v8Au/1qzVaL/j/k/wB3+tWaACiiigAooooAKqt/yEk/3TVqqz/8hKP/AHDQBZooooAKKKKACiiigCtd/wDLL/roP61Zqtd/8sv+ug/rVmgAooooAKKKKACobv8A49mqaobv/j2agCSP/VL9BTqbH/ql+gp1AEFr/qU/3RU9V7U/uU/3R/KrAoAKKKKACiiigDnPFPia60JAbPTXugNpklJwkalsfifapda8RPp2l2klvAJbu9ZUhiJwCx9faqHxC1SztfDc9rPcKk0pQqncjcKoa7dQ3Gn6BqVo/wBptbKdDM0QzsHAJ/CgDSg8TX9hq5sPEdvBCWgM0csDEqcEZBz3qmPFutLpsOuTafCmlSMo2hj5gVm2hj+dVNaYeLPEcY0gNJHbWjl5SuFySMLn1qs2s2118ObTRohIdRby4DbFCGUhxkn2FAHQXPiHU7/VZ7Pw5BDKLaNXleZsAluij8q0/DWuf27pfnvH5U0bmOVPRgcVy+jX9v4U8RapBrLmATRxyRSMCQ+M5A961vAlvKumXd3KhRby5eWNSMHbng/jQB1NZ+tf8g1v95f51oVn63/yDWx/eH86AL0X+pT/AHRTqrJDMYU/fY+UdqDbSnrOfyoAs0VV+yy/89z+VKLaT/n4YfQUAWaKr/ZpP+fh/wAqT7I//Pw9AElz/wAe7j2pYOIE+lVp7Zlgcmdzx0pYrdzChWdgMdKALfNLzVX7NL2uGpfssn/PdqALNHNVfssv/Pw1H2WbtcN+VAFrmjtVX7NL3uG/KlNtKAf9Ib8qACy4if8A3zVms+0hlaFsTsMOe1Tm1lP/AC8N+VAFmiqv2ST/AJ+W/KlFtKP+XlvyoAs0VW+zS/8APy/5UfZpP+fl/wAqALNVoh/ps34Uv2aUf8vD/lUEcEhu5h57dqAL9FVfskn/AD8PS/ZZP+fhvyoAs0VW+yyf8/DflSfZZP8An4agC1RVb7PKP+Xh6Ps83a4b8aADH/Ey/wC2Y/nVmqHkyfbtpnOdnWpvs0v/AD8v+VAFmiq32WX/AJ+X/Kj7LL/z8v8AlQBZoqt9ll/5+X/Kj7PKP+XhqALNVrr/AFsH+9S+RL/z3aqN5cQ20sa3F8iMW4DsBUuSW4PRGtRmqiRvMoaO63KeQV6Gn+Q6/wDLZjVJ3AnzQDUHlP3nYe2BVG/1G106MyXmoJCg6mRwMUr2LjBydka2aK4M/ESxumK6CLnVm5Aa2jLIT/vdP1qCOT4g61OQsFroloRkSTHzpD7bRwPzqeddDp+pzSvNpep3N9LGlq/mSKoxzk1zuqfETQNIQq919olUY8q2UyPn02rk1k3PwyF4nneIdd1DUWGD5fmmKM89Nq4z+NdPpXhfTdIhUaZaw24xn5UGfzofMyksLBe83J/cc+PFPiTWlB0HQZII2Hyz3zBBz32jJ/A4pkPhDxPqmf8AhJ/ErAEnMOnx+WuPQk5J/MV2wt3AwJcfRRSNbSnpO35UlDuJ4lR/hxS/MwdK+HvhzSbn7XFYLNeEYa6nJkkYemTXSJDHGMRoqjpgDFQC2mH/AC8N+VO8iX/nufyq0kjmnUnP4ncsVFcDNrIP9k0zyJv+e5/Ko5reXymJnbAU8etMzLEP+oT/AHRT81Tggme3RhcsAVHAFSfZpf8An4Y/hQBYzS1V+zTdrlh+FH2Wb/n6f8hQBZpaq/ZZv+fp/wAhSi2lHW4Y0AWT0qtZD5H/AN6l+zyf892qta2ztGxEzD5iKANGiqv2aYdLhqPs03/Py9AFqiqv2ab/AJ+Xo+zTf8/L0AWqKq/Zpv8An5ej7LIetw9ACxjF/J/u/wBas1nJbsb2Qec33f61YFtL2uGxQBZzRmqv2WT/AJ7tSi2k/wCfhqALOaKr/ZpP+e7flSfZpO07UAWarP8A8hGP/cNH2aX/AJ7tUDQOL6Mec2Sh5oA0KKrfZpR0uGo+zS/8/DUAWaKrfZpf+fhqPs03/Pw1AFmiq32ab/n4b8qPs0v/AD8NQAt3/wAscf8APQVYqhPbuGj3TMcvUptpu1yw/CgC1RVT7LN/z9PS/Zpv+flqALVFVPss3a5b8qPss/8Az8t+VAFuobv/AI9mqL7LN/z8t+VJLC8ds2+Uv9aALUf+qX6CnU2P/VL9BTqAK9p/qV+g/lVgVBaYNuv0H8qnFABRRRQAUUUUAQz2dvckGeFJCOhZQaWO1gihMUcKKh6qFGDUtFAEcNvDbqVgiSMHqFXFNFpbibzhBGJD/HsGfzqaigCKa1t7ggzwxyEdN6g4qRVCqAoAA6AClooAKoa1/wAg1v8AeFX6z9a/5Brf7w/nQBej/wBSn+6KdTY/9Sn+6KdQAUUUUAFIaXFGKAIbn/j1f6U63/490+lJdf8AHrJ9KW3/AOPdPpQBJRRRQAUUUUAFB6Gig9KAK1j/AKl/981ZqtY/6l/981ZoAKKKKACiiigAqtD/AMfk34VZqtCf9NmHfigCzRRRQAUUUUAFFFFAFU/8hL/tmP51aqqf+Ql/2zH86tUAFFFISPWgBaKr3F9b2sTPcTJGqjJLN0rlr/4l6JbTLBZmfUp2baI7GMykH1OOg9zSbS3NoUKlT4UW/HfiJ/Dnh2Se3GbmXKRZ7HHX8K8Hubu8v5mmu55pGc7iXfofavRPHL+KfE+ih7PRRa28B8zdcP8AO3HZRXk4s55WzeXbMR95FGAPavIxcpuemxrLB0kv307eSO18GePW8M6mkGpX5ewmO0ox3FD7V6E3jrVdVm8nw14bu7lCDi6uv3MWe3Xk/gK8t8C+Ghqnia2Frbbo4HEkkpGQB6Zr6LSNY0CooUDoAK6cLzuGrGqmGgrU439ThzoHi/XY8aprS6TGxBKWCZf6b26flWjZfD3RLaQzXaS6hMQAXu5DJ+QJ4rqcUV2KCRMsVVasnZeWhBa2NtZRiO1gjhQdFRQAPyqeiirOZtt3ZXvOLR/pUy/cH0qG9/485PpU6fcH0oELRRRQAUUUUAFRzf8AHu/+6f5VJUc/+ok/3T/KgBLX/j0i/wB0VLUVr/x6Rf7oqWgAooooAKKKKACqtif3bj/bNWqq2P3X/wB6gC1RRRQAUUUUAFFFFAFWP/kIS/7o/nVoVVi/5CEv+7/WrVABRRRQAUUUUAFVn/5CUf8AuGrNVW/5CUf+4aALVFFFABRRRQAUUUUAVrzrD/v1ZqtedYf9+rNABRRRQAUUUUAFQ3f/AB7NU1Q3f/Hu1AEkf+qX6CnU2P8A1S/QU6gCCz/49x9B/IVOKgtP+Pdf90fyqcUAFFFFABRRRQAUUUUAFFFFABRRRQAVn61/yDW/3l/nWhWfrX/INb/eX+dAF6L/AFKf7op1Ni/1Kf7op1ABRRRQAUUUUAQ3X/HrJ9KdB/x7p9KS6/49n+lLb/8AHun0oAkooooAKKKKACg9KKD0oArWP+pf/roas1Wsf9S//XQ1ZoAKKKKACiig0AcP4+8cnw4i2ViqvezIcFjxGPWvMU8deIhdm5+3nzOMrnCmtT4q20kHi7zZMlJoxs/DOa4rnIzXkVqtRTaRyzqSUrI978CeMV8U6e4nUR3kHEijuPUV1leRfBy1l/tLULof6ny1jDepBOf5165nFehQk5U05HRBtrUWik3DvUUtzFCCZZAgHUk9K2uWk3oiag1zGp/EDw9prmJtQimuMErBCd7t+C5NZA8X+JdZd49B8NSxRjBW5v38pWB9Bgn9BU86OmOEqtXasvPQ7QkC/LEgDYBVHVvFWjaJAZdTv4bdAcZkcDn0rlh4T8S6xeK+v+I3t0ABa205fLDD0LHn+Vben+APD9hKZfsS3Mp6y3R81vzbJpc0nsjT2eHh8cr+n+ZlSfEY3rBPDujX+pluBIsflx/99NgY+lLBZ+OdbXdqFzZ6JESf3duDK+3t8xwAfwrtooY4VCxRqigYAUYqQU+VvdkvEQj/AA4Jeupxdv8ADPR5Lv7VrE11q05HzfbJiyfgnCj8q6ix0mx02IR2NrFAo6BEAq5RTUUjGdapP4mN2LgjHB61y+r+BtAvr2OWayVWdsN5Z27q6qq11/roP9+hxT3Ri9dyLS9HsNGt/I022SBO+0dfrV6jvRTSS0QBRRRTAKKKKAK97/x5yfSp0+4PpUF7/wAecn0qdPuD6UALRRRQAUUUUAFRz/6iT/dP8qkqOf8A1En+6f5UAJa/8ekX+6KlqK1/49Iv90VLQAUUUUAFFFFABVWx+6/+8atVVsfuv/vGgC1RRRQAUUZooAKKKKAKsf8AyEJf90fzq1VWL/kIS/7v9atUAFFFFABRRRQAVVf/AJCSf7hq1VZ/+QlH/uGgCzRRRQAUUUUAFFFFAFa86w/79WarXnWH/fqzQAUUUUAFFFFABUN3/wAezVNUN3/x7NQBJH/ql+gp1Nj/ANUv0FOoAgtP9Qv+6P5VPUFp/wAe6/QfyqcUAFFFFABRRRQAUUUUAFFFFABRRRQAVn61/wAg1v8AeX+daFZ+tf8AINb/AHl/nQBei/1Kf7op1Ni/1Kf7op1ABRRRQAUUUUARXX/Hs/0pbf8A490+lJc/8ez/AEpbf/j3T6UASUUUUAFFFFABQelFB6UAVrL/AFL/AO+as1Wsf9S//XQ1ZoAKKKDQAUU1nCjLkAfWsTVvGegaIB/aOowxMx2qmcsx9AByTQ2kXCE5/CrkniLwzYeJLMQXycqcpIv3lPtXCxfB+1OpMJ9Rna2UAhVOM885OK3JfHGoX7Mnh3w9e3bYPlyS4hjJxxktzj6CooNI8ZauznVNWg0xGAzDZR7mT/gbdfyrmlCMnext9TW9RpHRWMej+F9JWCIxWtvGOWYgZPqTWLd/E3SvtItdIt7vVZyDgWcJZRj1b7o/OprD4baHazNPfCfVLh23tLfymXB9geFHsK6e3s7e2jCW8KRKOyritUpWsir4aGycvwRxktx461pf+JdBZ6LG2PnuSZJMf7owM/jU0fw+N7z4j1q+1LPWPf5SH8ExXaUlPkXUHipr+GlH0MnSfC2i6HbrBpWnW9vGvQKg/nWttA47UUtUkkc8pyk7ydysp/4mDj/YFWaq9NSPug/nVqmQFFFFABRSVk634n0rw8YRq10IDO2yMYJLH0AHPak2luXCEpvlirs16q3Z/ew/71ZmmeMtE1i6NrYXqtOF3GJ1KNj1w2DWndDMkJ9GoTTCdOcHaSsWqKZJII42c9FGa5ey8f6ZfJc3EEVy1lbkhrryzsYgkEDueRik2luVCjOabitjq6KrWN9BqNjFd2xYxSruUspBx9DVjNNGbTWjFoozikzTEQXv/HpJ9KnT7g+lQ3gzaSY9KlX7o+lADqKTNGaAFopGIVST0FZOieILTXHvUtCS1lOYJcjowpXRahJxclsjXpk3+ok/3T/KnA56Uyc/uH/3TTIEtf8Aj1i/3RUuaitT/okf+6KkyM0ALmisWHxPaTXWpRBZP+JecS4XOTjPHrV/TdRh1TT4ru23eXKoZd6lTg+xoui5U5R3RbozSZozQQLmq1iP3bn/AGzVnNc3q+vSaHZo1tYXGoTyzBEggAzyeWJOAAOtK6W5pCnKo+WJ0maSuf0LxbbeIL2S3sre4AiiDySSRFFViSNnPUjHaugBoTTFOEoO0gpaKaWA60yB1FZVpr9td69d6TGG8+1jSRzjjDZx/wCgmtTcKCpRlF2ZWi/5CEv+6P51azVSM41Cb/dH86yrTxdYXl1q8MZcNpDBLn5ScEruGPXg0rocacp3sjoKKpaVqlrrOlwX9iztBOu5C8ZQkfQ8irmc5A60yWmnYWisbSvEtlquqahYW7Hz9PkWOdSMYJGR+lbGc9KV0ypQlB2kLVZ/+QlF/uGrFV2/5CUf+4aZBZooooAKKKKACiiigCtedYf9+rNVrzrD/v1ZoAKKKKACiiigAqG7/wCPZqmqG7/49moAkj/1S/QU6mx/6pfoKdQBBZ/8e6/QfyFT1BZ/8e6/QfyFT0AFFFFABRRRQAVznjW/udP0eCS1n+z77qON5cZ2qWwa6OsrXLtra3UnTX1CPILIig498GgDM027Szs7y/GtnU44Yixj4+X3rF+2+IIfDdv4mfUA/mFHe02/IqMwGB9Aafa6LPrPiK8vbewk0uykszAyyLt8xiQc7R7Dr71Aravc+E7fwy+kTR3SskUkxH7rYrAls+4FAGmt5qfifWLuHT75rC3tI0wVGS7sD+gxWp4Q1a51TS5VvyGubaZoZGH8WDwfyrDg+3eEdfviNNuL61u40MTWy5w4zwfzFbPg3TLmw0uaW+Ty57uZpmjPVMngflQB0VUNa/5Bp/3l/nV+s/WhnTWB6bhQBdjP7lP90U/I9aqpZQtGhO77o/ip32GH/a/76oAnyPUUbh6ioPsMP+1+dH2GH/a/76oAn3L6j86C6jqw/OoPsUPo3/fRo+xQ+h/OgBbh0Nu+GXp606Bh5CYYdPWoZ7OEQOcHp60lvaQmJcqT8o70AW8j1FGR6iofscH90/8AfRo+yQj+H/x40ATZHqKMj1FQ/ZIf7n/jxpkltAvVtn4mga1LOR6ikZgFOSKw9S1fRtJjL39/FEB/ekA/rXNnx9b3ty0HhzSNQ1NlGfNWIrF/30xAP4VLkkdFPC1Z6paHc2ZCwNnjLk0lxqNpaIXubiOJR1LuAP1rgRp3jvXmBW8s9EtixDxopllx9TwD+dX4PhZpc6g+Ibq71lgQStzMdhPuowP0pc0nsjR0KNP+JP7i3qPxH0K0kaG1nN9OBkR2qGUn/vms+LxD4x11QdM0FNMhLEeZqEo3Y7NsXP5ZzXVWHh3SNLjCadp8NugGAI0AxV37NGe7Y9M0Wk9w9tQgv3cL+pxq+CdW1K583xH4luZYiuDaWmIYj9SMsfzra0zwd4f0ht1rYwebnd5rqGcn13Hmtc2cTf3vzo+xQ9wT9TVcqMp4mrJWvZeRMuwABSMdsVBEQLqYZAA5pfsUPZT+dQR2kRu5gQe3emYXLu9f7w/Ol3L6j86g+wwf3T+dH2KH+6fzoET7l9RRkHuKg+xQ+h/Oj7DB3U/nQBPkDuKNw9R+dQfYYP7p/Oj7FD6H86AEyv8AaP3h/qx396sbh6j86o/ZYjqBXB+4D196n+ww/wC1/wB9UAT7h/eH50bl/vCoPsMP+1/31QLKIdm/OgCbcv8AeFcP4vCv458MDhh9ofOf9xq7L7FD6H/vquR8ZeHNUvNW0jUdDSCR7GUs0c7kBgVI6jvzUSV0duCko1bt20f5Gf8AFXSrSDw/FrkMGNQ0uVJ7eSLhzhhlM+jDgjvmjxH4uvV1XStOtbyHTvNgFxPczKH2jjChcjk88+1LP4b8R+J9TtV10w2GmW0izPbwOXad1YMuWIHy5HTvVnxN4Yu08QWmr6RBBdHYbea1nOAy9iDg4I/rWMlLdHpUpUEo06ru1f8A4Bn6T4tvtWn1vQTfw3F1bWoliv44sIQ3HKhuoPbPQ1R8IPqekfDC61B7q3nWJZHihMOAGGTk89zXYaNpV/5FydS060tGddsawNuJHoTgd81m6d4R1CH4bXGizeX9slVwCGJXJzg/rRyybuxSxFFRcI2SujO1TxdrFt4c8NHTham+1WSKJlcEISy7jjHTvWpaan4g0rxZaWGsXVpdWl5ExTy4jG8bg5x1ORj+VU7vwNfy2vhOONow2k3UU1znuFQqdv51t6x4bnv/ABVo9/Ft8i0L+bk88rgYqkpIylUw+kdLa/f0Oa1HxteXviTU7G01my0iLT28o+fD5jSPtDZGWGByB+dPbx3qdz8PL7VbMQi+tJngDYykpV9uRz0OM/jViTwjqWl+JNRutPsLPUbPUJBMwuDtdH2hcD5TkYUfnVvVPC+oar4NlsjBb2l1JJuEcJ+QAHp0qXzmvPhfdslbT/gmBr+v+MtC0vTr69uLK5+2yxQtaxQkbGcgZDZOR+Fa0WteJdH8X6ZZaxc2l3Y6gjA+TFsaKQDI6k5GM+h4q54w8N3mpaJpkVj5fm21zDJMZOm1T82PepNe8M3eo+ItCvrTyhDYys82/O7BQgY/E00pIh1qE4qLS69PuOovJXjspngKeaEJTecDPvXl+r+NtV0E29y2vadqTG6SKayhjA2q7BeG3ZyM+navRNZ0j+0NFvbaBzHNcQuivnG0kEA15pd/D7XrzwxaaOmn6datbyxSSTxk/vdrAnAx1OOtVNytoZ4D6vZ+1t/SPWRKJLPecZKZIzXmOh63/wAI9ofi3Ulj82SK9cogxlmxwPzr0iOxVbZVOQwXHWuItvh9czaL4gsryYIdQuWlgdM5Tpgn3zUyU5WsThZUYxnGb0bX5la+vvHWj+G49dnvbGdo8S3FilsQBH3Cvu649Rzir+qeINd1TXLLSvDvkQRy2pubm8mG/wAsE4VQnck59uDVG40Dxpq2mwaNeGytrfhLi8jdi0kfQgKRwSPfvV7XPCer2GrWeq+FZIXNvbG2ltLgkLKg5B3DowOfzNK0+h03oXs2ubW3byNFW1/T/DMovdTsTdg/JcNEUVVz1K55IHuM1g6V4svo/F9np8uuWurQXSEEQwBPKYc5yGOe4/KrOq+GvEPiLwoq3/2aC9W4jmSCORijKrA7WPuODx3qva+Etdm8UaVez2mn2VjabvNihJZ2JXAIOAOoo98UFh+SXO1fUnsbpoNY8VyRlQ0bBlJGedgPP41Np+oa1qfgXS9STVLaxlMCS3L/AGfchBUE4GRjrVqHwrdR3fiCQ7CuonMPPT5AOfyrDv8Awb4li8F6No2n/ZZvJEaX6M5VZUUcqvfBxj6GmlJC56M2rtdPyNDw1qnia78LXt/qF5ZFmlc2UzRlF8ocB2BPfBOPQiqdn4w1CDxXYWR1qy1a2vNyukEYVoiBktnccjt0qXV/DOveJPCM+lyW0GlywsjQiOYskgXna3AO09D7VFF4S1y41zR7iWy0+ys7ByXiiBLHK444Ax3/ACo94pfVnzSlbroWF17X/E3iXU7Lw9dW9hb6W6xSSzQ+YZXI3DAyOBxVme51u08P2v8AaWq6bY3asRc3Tp8pOeqKWHUe9YmuWupeBfEF3qGkRwXVtrE8e+J5dhil+7uzzkYxwOauX/hjWtTt9K1C7Szvby2Yma1YsIiT0K9eR2JFHvFclJcsrpRe3cl8LeLJJNZ1XTp7uC/S0gSdbqCPZuDbhgjJ5G39aj0/UPF3iHQH1+w1G1tIJAXtbRoC25Oo3Nu7+w4qxoHg3UU8VapqerRW0Vve2scMcduTmMqXyDnr97rVO28NeMdE0yTQtKXT5rHlLe5ldlaGPHAK4OSPrTUZJajnLDc75Gr6b/idb4N8QS+IvDNtf3MIt7hl2yxbs7XBwRn6isXVdZ1vU/GraH4dubW1W2txPczTRlyNxIVQMjupzn0962/CnhiLw34dttPErzPGP3krHl27n86w9X8Oa1Y+LjrfhxbeUXEAguYJiVLYJKkEA9Mn86qXNynFRdH207W8r7FLwk2pReNteXV3t2uVihVHiOA6YbBI7HO6qus+KtV0lXuX8RaZLNDL89gsfBXdgKG3Z3Y4+vatHRPCOupqetXetXMXmahEscDQceQACMfgTnNYEPw+8Qw+E/7AjtdO8xSN1+xJMw3ZLEYyHPXOetZpTR3c2HlUcpyXQ9PsphPM0nTdGDjNea6BeNZap8QrmLbviuUddw4yIBjP5V6NZ2awzLE65KRgE5rkLbwVqNtN4wZvKddYcPbbT0xEFw341bTZw4adKLmpPRtfdcgPivXZvh/4b1DSo7NtR1SWNZEZSseGBLY7jAGfwq/BqPiPRPFOm2et39nd2Wo7kDRxeW0UoUsFHJ3AgH0PHvTNL8G31p4T8KadMqedpcqNckHjCowOPxIrR8S+GrvVdZ0G5tSgjsLlpZt3Xb5bKMe+TTtIpzot8ulnf/gHF6CmrzfEDxUuh3EFsPtMZmkmj3kt5YwAMjjGK63wz4g1bUtAv0vWtl1KzlaFpBlYiQeGxnIGCP1pPDHhG70rxV4h1G98trfUZllgVSSVAQKc/lWe3gPU5tA8R2X2iOCXUbh3tnjY/KpUAbu/UHpURhJHRVrUK0mpW6a/mUj4t1PTNd06N9estVjurgQzQRRhSmT1Uhu3vXpG8NqERBH3D3rzU+DPEN42kI2naZYR2M6STGNixkA64OB+teii2T7bGDkfuyDg1pG99Tkx3sfd9m/Uv7h6j86MjsRVf7DD/tf99Uv2GD0b/vo1oeYWM0Zqv9hg/ut/30aPsMHo3/fRoAsZpNwHUioPsMHo3/fRo+wweh/76oAS7Kkw/MB8/rVjcPUfnVG5s4QYeD9/1qx9jgPVM/UmgCbcPUUbh6iofsVv/c/8eNH2KDspH/AjQBNuX1FGR6ioPsUP90/99Gj7DB/dP/fRoAnyPUVDdkfZm5pPsMH90/8AfRqK4tYkgJQEfjQBbi/1SfQU6mxf6lPoKdQBBZ/8e6/QfyFT1BZ/8e6/QfyFT0AFFFFABRRRQAUUUUAFFFFABRRRQAVQ1n/kHN/vD+dX6z9a/wCQa3+8v86AL0X+pT/dFOpsX+pT/dFOoAKKM1H50ZfaJFLemeaV0BIaBSE8VTvNX0/T4jJfXkNunrI4X+dF0VGLlokWbj/j3f6U234iX/dH9a5K/wDiHpzxyx6PBdatIBgLZxFgT/vdP1qvHd+NdahUW1jbaLCyDBnfzZB9VGAPzpcy6HTHCVLXnZLzO3kmjiUs7qoHUk1zmpfEDw/psxgkvVlucEi3gBkkI/3Rk1nW/wAPJLncfEuuX2qljny9/lRr7bUwCPrmui0zwxoujgf2dpttCwGN6xjd+fWl7z2K5cNT3bk/LQ5qXxZ4k1ZWHhnw85Bxia/bykwe+PvH6Yp//CK+JNY/5DmvtBEw5hsF2Y9txyfx4rtwAOAAPpS0+XuL61y/w4pfmcrpfw58O6XtYWZupVGPOu3Mrn8WrpooI4E2xKFGOwqSimkkc86s6nxO5Wsvmjdj13kVYNV7L/Uv/vmrNMzE6UtFFABRRRQAVXi/4/JvwqxVaH/j8m/CgCzRRRQAUUUUAFFFFAFb/mJH/rn/AFqzVb/mJf8AbMfzqzQAUUUUAFGKKKAExVa6/wBbAP8Abq1Va6/10H+/QBY70uKO9FABRiiigAoxRRQBXvf+PST6VMo+RfpUN7/x5yfSp0+4PpQAtJS0GgBKWkpaACo5wPIf/dNSUyf/AI95P900AMtR/okX+6KmqK1/49Yv90VLQAYpCtLRQAgFLiiigDM1Dw7pOq30F3qNjDcT25zE8i52H2qzYf6twOgbAq1VWx+5J/vGgpyk1ZstEZooooJCkNLRQAlAApaKBFaL/kIS/wC7/WrNVYv+QhL/ALo/nVqgYUUUUAFFFFABVVv+Qkn+4atVVb/kJJ/uGgC1RRRQAUUUUAFFFFAFa86w/wDXSrNVrzrD/v1ZoAKKKKACiiigAqG7/wCPZqmqG7/49moAkj/1S/QU6mx/6pfoKdQBXsz/AKOv0H8hVjNVbM/6Ov0H8hVjNADs0ZpuaM0AOzRmm5ozQA7NGabmjNADs0ZpuaM0AOzRmm5pC2OpoAfms/Wj/wAS1v8AeX+dS3F9BaqWuJ0jUddxrjNc+JPh4Rm2tro3swfBitVLtkduKTaRtToVavwxO6jJ8pMf3RSmRVGWIH41wH/CQ+NNWmjXRdCisrU8NNfyYbGOoQf1IqZvBWq62hHibxDdujnLQWmIV69Mj5sfjU8/ZG31VQ1qzS/Ey/iZ8QE0h002xu445JBiRlOWXOR2ryb/AISG+muvNtJ75pd2RIZWVf512HxA8EW3hu7gn0y0Y2rR7WlY7mBHqTXHbiK8evKpzMmVehRfuRv6no/g7VvFPjHzdOu9aWxEKAloYwzsO2Se/Fdna/DfQhcR3Wqxy6tcxEMsl45cKfUL0H5Vyfwh024N3d6jIjLBtCISPvNk5/nXrWa9Sgr002S8XUltp6aFRrW3tLNltoUiAXACrjFWojmJc88VFdf8ez/SnQnMCfStzByb3Jc0ZpuaXNAhc0tNzRmgBap6jq1lpUHm39wkK+rHrVln2qSe1fP/AI512fWvEU4lYm3gbZEmfTufzNc9ar7ONyJy5Uew6N4t0a+JigvE3lzgMcZrogQRkV8shymCrMrLypU4wa93+G+uT6z4WQ3bb5rdvLLnqwHes6Fd1JWZNOfMdhmjNNzRmuw1HZozTc0ZoAdmq0J/0yb8KnzVaE/6XN9RQBbzRmm5ozQA7NGabmjNADs0ZpuaM0AVyf8AiZf9sx/OrWapk/8AEy/7Zj+dWs0AOzRmm5ozQA7NGabmjNADs1Wuv9dB/v1Pmq1yf3sH+/QBbozTc0ZoAdmkzSZozQA7NGabmjNAEN6f9Dk+lTIfkH0qven/AEOT6VMh+QfSgCTNGabmjNADs0ZpuaM0AOzTJj+4k/3T/KlzTJj+4k/3T/KgAtT/AKLF/uipc1Ban/RYv90VLmgB2aM03NGaAHZozTc0ZoAdmqtj9yT/AHzVjNVbE/I/++aALmaM03NGaAHZozTc0ZoAdmkzSZozQBXiP/Ewk/3f61ZzVSI/8TCT/d/rVkmgB2aM03NLmgB2aM03NGaAHZqqx/4mSf7hqxmqrH/iZR/7hoAuZozTc0ZoAdmjNNzRmgB2aM03NGaAILw8w/79Wc1UuzzD/v1ZzQA7NGabmjNADs0ZpuaM0AOzUN2f9GapM1Ddn/RmoAliP7pPoKfmooj+6X6Cn5oAq2Z/0dfoP5CrGaq2Z/0cfQfyqxmgB2aM03NGaAHZozTc0ZoAdmjNNzRmgB2aM03NGaAHZqG6iae2kjRzGzKQGH8J9aeXVfvED6mlzQNOzucVafDOycB/EGoX2sy85N1L8vX+4MD9K2bnRtO0vTwun2MFvh1AMcYFbmaoawf9APs4pWRtLEVZbyLyDCLjHSnUyM5iX6CnZpmBBe2NtqFq1veRLLG3VWFc0Phn4Z+1/aPsbFs5x5h2/lXWZozUuEXugI7W1gsrdYLWNYol4VVHAqbNNzRmq2Ajuj/o0n0p0B/cJ9Kjuj/oz/SnQH9wn0oAmzRmm5ozQA7NGabmjNACtyMGvB/Hfhm70fX7icRM1nOxkSRRnbnsa93zUc0MU8ZSaNZFPUMMisa1JVI2JlFSR8y21vLd3AhtonkkY4Chete8+A9Bk8P+HkhuBtmk+d19D6VpabpljAGkhtIUfefmVBmtPNZ0aHs9RRgojs0ZpuaM11Fjs0ZpuaM0AOzVaE/6XN9RU+arRH/TZqALeaM03NGaAHZozTc0ZoAdmjNNzRmgCuT/AMTL/tmP51azVM/8hL/gA/nVrNADs0ZpuaM0AOzRmm5ozQA7NVro/voP9+p81Wuj++g/36ALeaM0zPNLmgB2aM03NGaAHZozTc0ZoAhvT/okn0qZD8g+lQXv/Hm/0qZD8g+lAD80ZpuaM0AOzRmm5ozQA7NRzn/R5P8AdNOzTJv9RJ/un+VABan/AEWL/dFS5qC1P+ix/wC6KlzQA7NGabmjNADs0ZpuaM0AOzVWxPyP/vmrGaq2J+R/980AXM0ZpuaM0AOzRmm5ozQA7NGabmjNAFeI/wDEwk/3f61azVOI/wDEwk/3f61azQA7NGabmjNADs0ZpuaM0AOzVVj/AMTJP9w1YzVVj/xMk/3DQBczRmm5ozQA7NGabmjNADs0ZpuaM0AV7w8w/wC/VrNVLs8w/wC/VnNADs0ZpuaM0AOzRmm5pCaAH5qG7P8AozU/NRXR/wBGagCWI/ul+gp+aiiP7pfoKfmgCrZn9wPoP5VYzVWzP7gfQfyqxmgB2aM03NGaAHZozTc0ZoAdmjNNzRmgB2aM03NGaAOMitB4n8UatHqM0pgs8RQxq23aTn5uKu+BrueTTLm1upTK1ncNErk5JHaop9I1rTNcvL7QRbyx3oBkjnbG1h/EK0vDejvo2mlJ3D3EzmSZh0LE0AbYNUNYydPbH94dqu5pGAZcMAR6GgCvFqNt5S5kAOBTv7Rtv+eopxt4G6xIf+A0fZbf/njH/wB80AN/tG2/56ij+0bb/nqKd9lt/wDnjH/3zR9lt/8AnjH/AN80AN/tG2/56ij+0bb/AJ6infZbf/njH/3zR9lt/wDnjH/3zQBBcX9u0DjzB900sOpWohQGVQcVN9mg/wCeMf8A3zR9mg/54x/980AN/tK1/wCey/nR/aVr/wA9lpwtoB/yxj/75FH2aD/njH/3yKAG/wBpWv8Az2Wk/tO0/wCey0/7NB/zxj/75FH2a3/54x/98igBn9p2n/PZaDqdrtOJl/On/Zbf/njH/wB8ik+y2/8Azxj/AO+aAIba/tVjKmdM5z1qb+0Lb/nsp/Gj7Jb/APPGP/vmj7Lb/wDPFPyoAP7Qtv8Ansv50n9o2o/5bLS/Zbf/AJ4p+VL9mgHSFPyoAb/aNr/z2WkOpWv/AD2Wn/Z4P+eMf/fNH2eD/nkn5UAM/tO2/wCeoqCPULYXUhMnXpx1q19ng/55J+VL5EP/ADyT8qAIzqloOsoo/tO0/wCewqTyYf8Ankn/AHzR5EJ/5ZJ/3zQBH/adr/z2Wl/tK0/57rT/ALPD/wA8k/KkNtAesKf980AN/tK0/wCe60DUbQ/8t0/OnfZbf/njH/3zR9lt/wDnjH/3zQBWa/tlvg/nLtKYzn3qY6ladp1P4077Lb/88Y/++aPstv8A88Y/++RQA3+0rX/nsv50f2laf891p32aD/njH/3yKX7PAP8AljH/AN8igBn9p2n/AD3Wj+07T/nutSeRD/zxj/75FHkQ/wDPGP8A75FAEf8Aadp/z3WoZ7+2eWIiUEBskirXkQ/88Y/++RSfZ4D/AMsY/wDvkUAN/tG1/wCey/mKP7Rtu0y077NB/wA8Y/8AvkUfZoP+eMf/AHyKAG/2jb/89lo/tG3/AOey077NB/zxT8qPs0H/ADxT8qAG/wBo2/8Az2Wj+0bXvMtO+zQf88U/Kk+zQH/lin5UAQXWoWrW7L5y81IupWuwfvl6U/7Lb/8APGP/AL5FH2W3/wCeMf8A3zQA3+07T/nsPypf7Rte0oNL9lt/+eMf/fNL9lt/+eMf/fNADf7Rtv8AnoKP7Rtv+eop32aD/njH/wB8ij7Lb/8APGP/AL5oAb/aNt/z1FMl1G18l/3y/dP8ql+y2/8Azxj/AO+aT7Lb/wDPGP8A75FAEUGoWqW8YadQQoqT+0rXtMp+lONtbn/ljH/3zSi3gXpFH/3yKAGf2jbf89RR/aNt/wA9BT/Ih/55R/8AfIo8iH/nlH/3yKAGf2jbf89BR/aNt/z0FP8AIh/55R/98ijyIf8AnlH/AN8igBn9o23/AD1Aqva6hapG26UKSx61b8iH/nlH/wB8ijyIf+eUf/fIoAZ/aVp/z3Wk/tK1/wCey/nUn2eH/nlH/wB8ik+zQf8APFPyoAZ/aVr/AM91/Ol/tK1/57L+dO+y2/8AzxT/AL5o+zQf88U/75oAb/aVr/z2X86P7Stf+e6077NB/wA8k/75o+zwf88k/wC+aAKqahai8dvNXBGAfWrH9pWv/Pdfzp32aA9YU/75o+zQf88Y/wDvkUAN/tK1/wCey/nR/aVr/wA9l/OnfZoP+eMf/fIo+zQf88Y/++aAG/2ja/8APZaP7Rtf+ey077NB/wA8k/75o+zQf88k/wC+aAG/2ja/89lqB7+1+3Rt5y4CHvVn7NB/zyT/AL5o+zQf88Y/++aAG/2laf8APwlH9o2vadT+NO+zQf8APJP++aPstv8A88Y/++aAG/2ja/8APZfzo/tG1/57L+dL9lt/+eMf/fNH2W3/AOeMf/fNACf2ja/89l/Og6laj/lstL9lt/8AnjH/AN80fZbf/njH/wB80AVrjULWQx4mX5XzU/8AaVmOtwtP+y2//PGP/vkUfZbf/njH/wB8igBn9p2f/PwlH9p2f/PwlO+yW/8Azwj/AO+aPslv/wA8I/8AvmgBv9p2f/PwlH9pWf8Az8JTvslv/wA8I/8Avmj7Jb/88Y/++aAG/wBpWf8Az8JUc9/ayQlEnQsegzU32W3/AOeMf/fNKLaAdIkH0FAEsR/cp/uinZpucUZoArWZ/cD6D+VT5qtZn9wPoP5VPmgB2aM03NGaAHZozTc0ZoAdmjNNzRmgB2aM03NGaAHZozTd1GaAHZopuawNS8Q3cesf2ZpNmt3cLH5kuXwEHb8TQB0OaM1j+H9dGt2cjvEYJ4JDFNETnawrWzQA7NGabmjNADs0ZpuaM0AOzRmszVrzUbdUXS7NbmRuu99qiq3h7X31f7VBd2/2a8tJPLmjDbhnGcg/jQBuZozmm5ozQA6im5ozQA7NGabmkeRY42dzhVBJPoKAH5ozXL+HvFra9rN9araSQw25HlSNj96pH3h7da6bNADs0ZpuaM0AOzRmm5ozQA7NGahuLhLa3kmlbakalmJ7ADNYena/qWqTQy2+l7bCVsCZ5MNjPXbQB0WaM03NGaAHZozTc0ZoAdmjNNzSO+xGY9hmgB+aM1xb+OLo2cmpwabnS45NjSs/zkA4J2111vMJ7eOUcB1DYPagCbNGabmjNADs0ZpuaM0AOzRms3WtXGkWJn8mSd+dkaDqap6f4kW58KtrF1GYQiMzp6YGaAN7NGa5G38XXqSWc+oaf5NheyCOKXdypOSCR6YFdWGyMigB+aM0zNLmgB2aM03NQ3l2tnavO4Zgik7VHJ46UAWM0ZrB8O+Im12G7ke1e3+zvt2N1PFUtU8T6lpLCe80zZY+aqGYPkqCcAkfjQB1dGajjkEkSupyGAIp2aAHZozTc0ZoAdmjNMZwqlj0Aya53SvFTap4in00WUkMccQlSWTjeCzDp/wGgDpc0ZrnvFfihPDdiHSA3VwwJWJTjgdSa1tOuzfadDcsuwyIGK+lAFvNGabmjNADs0ZpuaM0AOzRmubfxYB4mh0pbSQJIxXzmGASOwqzq+uy2d5FZafam7vJBu8sHAVfUmgDbzRmqOmXF7cWrNqVqtrMHwEV9wIwOf5/lVzNADs0ZpuaM0AOzRmm5rn9b8U/2VeQwR2ck++QI7g4CZNAHRZozWNr2u/2RFbrFAbi4un2Qx5xk47motG8QTXup3Gm6jbC1vIVD7QwYFT7igDezRmm5ozQA7NGabmjNADs0ZrJ1a/1K2ZE0uwF0SMks+0D2rNtvGcL6Bc39xCUntpDC9upyfMBwF/E8UAdRmjNcxZeJ7xdStrTWtP+yfbOYJFcMpz0U+hrpc0AOzRmm5ozQA7NGabmqWp3txaQA2do11K3CqDgD6mgC/mjNc5pPieS9vbvT7y0MF9aoGMYcEOCOMH86rv4rvrK+tY9W002sV1L5cbbgeSeM4oA6vNGaaGyMijNADs0ZpuaM0AOzRmqt9cy21q8lvA1xIB8qA4yaw7PxPdf8JJFpGrWX2Sa4jMkJDBgwHXmgDps0ZrmPEXi8aNqFrZW1s11LNIqyFTgRKeMmujjffEjf3lBoAgsz+4H0H8qnzVaz/1A+g/lVjNAC5ozSZozQAuaM0maM0ALmjNJmjNAC5ozSZozQAZpc02gmgB2ciuRguYNM+IOom+ljgWe2jaN5DtDYzkCusBqvdWFpe4+128cxXoXUHFAHO+CyZ7vWL6Mf6NcXP7puzADGRXWZqKGGK3iWKCNY0XgKowBUmaAFzRmkzRmgBc0ZpM0ZoAxPFHiW38P2Sb2Q3Nw3lwIx4JPc+1Q+ELW2trOaRb2O8vLiQzXEiMDhiBx+lbF1YWl6VN3bRzFem9c4otbC0sixtLdId3XYMZoAtZozSZozQAuaM0maM0ALmsDxdb6teabHb6PGjh5B54Z9pKegPv0rezSUAcJ4ffUofHlxDJpcdrEttGrBJMgAEgH/PpXe5qIQxCdpgg8xgAWxyQKkzQAuaM0maM0ALmjNJmjNAGT4qjkm8LaikIJY274C9elcWksNlpWkz6Nq1xJqDSRqbZpSQRjDAr2HvXpJ5FVItLsYJ/OhtIUkyfmVADQBcQnYu/72OfrS5puaXNAC5ozSZozQAuajuJPLtpX27tqE7fXjpT80h560AeSkWsunS64upqk3neYdJ3fKTkfKV65r1TT5zcadbzMmwyRqxX0yOlRf2TpwuDP9ig80nJfyxnNWxgDAoAdmjNJmjNAC5ozSZozQBU1W7trXT5mu5o4lMbAF2x2rh7WSK9+Fd7BZyxzyqkhZI3DED8Pau8urO2vUC3UKyqpyAwzTLfTrO03fZbaOLcMHYuM0AcbrupWWqeGdKsNNuUnuJZogEQ5KgDkkdsV3acRqPQCqkOmWNtKZILWJHPVggzVvNADqM00GlzQAuaZNNFDE0k7qkajLMxwAKdmo5oY54ykyB1PVWHBoA5TwjqllJqOs7LuFi9zuXDDkbaq6jrdl4n1X+zkvYI9MtJQbl2kwZHU5Cj2yBXWRaTp8MvmQ2cKP/eCCmf2HpeSTYQZzn7goAvQtG0CGEgx7RtI6EU/NMRVjQKihVUYAA6UtADs0ZptLmgBWYBSWIAA5JrjYdW08/EmRlvbfb9gRAfMAG7e/FdewV1KsMqwwQe4qiuh6Wjh1sIAwOchBnNAHF65ba4n9t3l3p0M0UkbJBKLj7kWOuMdetdZ4Smnm8L2bXUIhfywNobdkY61qyRpLEY5EDIwwVI4IpURIkCRqFUdAB0oAfmjNJmjNAC5ozSZozQBx2v6rpw8WaP/AKVCGiZww3gYPHWq2rx2snj+KS/u5LS2ls2EcySFA5yOMj2rrH0bTJJGeSxgZ2OSxQZNST6dZ3MSR3FtHIkf3VZcgUAc94GuJH/tS3S6kvLKC6K288pyzDA4z3HvXWA1DBBDbRCK3jWNB0VRgVJQA7NGaTNGaAFzXKeOL6zi06GKS5ijmFxGxQthiM9a6mqlxpdhdy+bc2kUr4xudcmgDmPF99a30OnWgnjjhuHz9uDf6kgdj61H4UCWHiq7sYLxdUjdBIbstuZT/dJH+ea6w6ZYm1+zG0iMOc+WUGKfbWVpZg/ZbeOHPXYoGaALOaM03NLmgBc0ZpM0ZoA5/wAV+J4tEhitInQaheZW3VzhR/tE9hXO6lY29p4JjFvcR3ssd9Fc3ssTBud4ZmOOwrubnT7O9cNd2sUzKMBnQEgUkOm2VvE8cFrHGkn31VeG+tAHK6vfWmra54fh02aO6aOYSt5RztUAjJ9OcV2oPFU7XTLGykaS0tYoXbgsi4NW80ALmjNJmjNAC5rM1/xBZeHtNa7vpAoztRM/fY9BWlmq93Y2t8gS8t451U5Adc4NAHNeF1t0lutWv7+2kv7td8io4IiTsKp2+qWni7Xobxr23TTbGXEMTSANNLnGceg4xXWQ6Tp8BYw2cSFhtOF6imroumoQUsYVKnIwnQ0AaAI2jHSjNNACjA4FLmgBc0ZpM0ZoAr6jqNtpVhLeX0oigiUs7nsBXJ6JdRa3rB1+4uLfzjEYrC2Djcq8/Mfc5rr57eG6hMVzEssbdVcZBqCPSdPinWaKzhSRfusqAYoA891aHWrDSZp73TY3nmvY3aYTckBvlHTpXo2nyyyafC08YikKDKBs449aklginj2Sxq6ZBwRxmngBQABgDoKAK1of3A+g/lVjNVbQ/uR9B/KrGaAHZozTc0ZoAdmjNNzRmgB2aM03NGaAHZozTc0ZoAdmkzSZozQA7NGabmjNADs0ZpuaM0AOzRmm5ozQA7NGabmjNADs0ZpuaM0AOzRmm5ozQA7NGabmjNADs0ZpuaM0AOzRmm5ozQA7NGabmjNADs0ZpuaM0AOzRmm5ozQA7NGabmjNADs0ZpuaM0AOzRmm5ozQA7NGabmjNADs0ZpuaM0AOzRmm5ozQA7NGa4TW77U7XxylzbXLfY7W3HnW2OHDNjd+HNXYdflgt7u8B+0I13HHEN3AVmxkfnQB1m4HODnHWlzXKTaodHuNRhgiMjR25uSzt94+lEXiLU5LyytjaxK11AZQSeFxnr+VAzqwaXNcp/wljmyhJiWOeSZosHkAg4JpD4qultTizL3AuhbqvQPkZ3D2oEdZmjNc/Lq999ui0yGGI3rQedIxb5VUkgfqDVnR9ZGpWU0jp5ctvI0cy+jL1xQBrFgOpxS5rhNY1m/1DS7S6iiEdtLeBVIbnAPer9z4taKecW8QMdvIsZQ8s3TOPzoA6zNGaxtb1qTTdAOoQQ+Y3GIzx1qk3iK5sZCuqQKv+im5XyzngEDB/OgDps0ZrlLHxXPPPEr24dZo2ZfLBypHOD+FPtvE9xLpN1eGFGaFc+Shyyn3FAHUZozXN/8JHJ/Y8NwghlnuJBFEsb5G4jIz6d6mttXvBqNxp15FGLlIhMjBsKVORz9CDQBvZpM1zP/AAlEsMt/DLDHPLbRiRfIbIcHP+Faei6k2pWpmcxHJ4EZzj2PvQBp5pc03NGaAHZozTc0ZoAdmjNNzRmgB2aM03NGaAHZozTc0ZoAdmjNNzRmgBSaM0maSgB2aM0maM0AOzRmm5ozQA7NGabmjNADs0ZpuaM0AOzRmmZozQA/NGaZmlzQA7NGabmkzQA/NGaZmjNAD80ZpmaM0APzRmmZpc0AOzRmm5ozQBVsz+4H0H8qsZqtaf6kfQfyqegB2aM02igB2aM02igB2aM02igB2aM02igB2aTNJRQAuaM0lFADs0ZptFADs0ZptFADs0ZptFADs0ZptFADs0ZptFADs0ZptFADs0ZptFADs0ZptFADs0ZptFADs0ZptFADs0ZptFADs0ZptFADs0ZptFADs0ZptFADs0ZptFADs0ZptFADs0ZptFAFE6TC2qTXshLGaHyWQ9CuSf61l2fgyzs9In0+K4mMUs/nJuOTEQ2QB7A9K6KigDAPhbzJruW4vZpnuYPJYt/CParSaEiXtlcLK3+iQmID+9nvWrRQBhJ4YjS3iWOdhNFO0yORnknODVqTSZLqKD7VclpIZhKNqgDI7fStOigDNvNJM2pLf2lwbe5WLyS20EMuScY+pqTTNKi06yeEM0rSktLI3V2PU1eooA5x/CW+CG2+3SrawzeakQHfOcfqatw6JJa3s8tpcmKKdxI8e0HnAHU89hWxRQBjeKbOa88OvbwZLll5/HrTYvD6zL5moSvOzW/kBSANi8HH5ituigDMs9KmtIhEbtpI41xGCigr+I61XTw80d1PdrduLmVAgYKMAe46GtuigDn18KRi3lzcP9oecXCyKAArgYGAOKkl8N/akupLy7kkurhFj81Rt2KDkAAe+a3KKAMGz8NvZXk11HeHzZIlj5XgAVb0jRl0uW5l8ze9w+5sDAH4Vp0UAOzRmm0UAOzRmm0UAOzRmm0UAOzRmm0UAOozTaKAHZozTaKAHZozTaKAHZpAaSgUAKTS5ppoFADs0ZptFADs0ZptFADs0ZptFADs0ZptFADs0ZptFADs0ZptFADs0ZptFADs0ZptFADs0ZptFAH/2Q==)"
      ],
      "metadata": {
        "id": "4wnIyUwrSGym"
      }
    },
    {
      "cell_type": "code",
      "source": [
        "previsao_precos = previsao_custo_diaria.predict(x_custo_diaria) # Baseado nos valores de nº de pessoas, será estimado/previsto o custo do imovel alugado. \n",
        "previsao_precos"
      ],
      "metadata": {
        "colab": {
          "base_uri": "https://localhost:8080/"
        },
        "id": "uy6Pe-BySQLm",
        "outputId": "c2f2f365-b618-4a41-f13c-3f12f2a911f9"
      },
      "execution_count": 22,
      "outputs": [
        {
          "output_type": "execute_result",
          "data": {
            "text/plain": [
              "array([ 204.53347061,  350.37764575,  447.60709584,  642.06599602,\n",
              "        787.91017115,  885.13962124, 1030.98379637, 1225.44269655,\n",
              "       1371.28687169, 1614.36049691, 2100.50774736, 2197.73719745,\n",
              "       2343.58137258, 2440.81082267, 2586.65499781])"
            ]
          },
          "metadata": {},
          "execution_count": 22
        }
      ]
    },
    {
      "cell_type": "markdown",
      "source": [
        "# Visualizando no gráfico as disposições dos dados"
      ],
      "metadata": {
        "id": "sSEFpmyZSinA"
      }
    },
    {
      "cell_type": "markdown",
      "source": [
        "Para visualizar os dados no grafico, temos que transformar os valores das variaveis para o formato de vetor, utilizando o comando ravel()"
      ],
      "metadata": {
        "id": "s6I_9C8QSqIr"
      }
    },
    {
      "cell_type": "code",
      "source": [
        "# Verificando o tipo da variavel x_custo_diaria\n",
        "x_custo_diaria"
      ],
      "metadata": {
        "colab": {
          "base_uri": "https://localhost:8080/"
        },
        "id": "l4UHh_v1S0dx",
        "outputId": "ab556a9f-bc17-4a58-a495-7890bb80d1a3"
      },
      "execution_count": 23,
      "outputs": [
        {
          "output_type": "execute_result",
          "data": {
            "text/plain": [
              "array([[ 1],\n",
              "       [ 4],\n",
              "       [ 6],\n",
              "       [10],\n",
              "       [13],\n",
              "       [15],\n",
              "       [18],\n",
              "       [22],\n",
              "       [25],\n",
              "       [30],\n",
              "       [40],\n",
              "       [42],\n",
              "       [45],\n",
              "       [47],\n",
              "       [50]])"
            ]
          },
          "metadata": {},
          "execution_count": 23
        }
      ]
    },
    {
      "cell_type": "code",
      "source": [
        "# Transformando em vetor\n",
        "x_custo_diaria.ravel()"
      ],
      "metadata": {
        "colab": {
          "base_uri": "https://localhost:8080/"
        },
        "id": "oTnyEY4YS7pg",
        "outputId": "c83b7b2e-b80f-49c9-9be5-7680d32aa3c9"
      },
      "execution_count": 24,
      "outputs": [
        {
          "output_type": "execute_result",
          "data": {
            "text/plain": [
              "array([ 1,  4,  6, 10, 13, 15, 18, 22, 25, 30, 40, 42, 45, 47, 50])"
            ]
          },
          "metadata": {},
          "execution_count": 24
        }
      ]
    },
    {
      "cell_type": "code",
      "source": [
        "y_custo_diaria"
      ],
      "metadata": {
        "colab": {
          "base_uri": "https://localhost:8080/"
        },
        "id": "DTn2P2DNTDaK",
        "outputId": "b304ebee-eb45-4efa-8f9f-006fabb66489"
      },
      "execution_count": 25,
      "outputs": [
        {
          "output_type": "execute_result",
          "data": {
            "text/plain": [
              "array([ 150,  385,  499,  680,  735,  859,  989, 1075, 1500, 1850, 2000,\n",
              "       2089, 2250, 2488, 2680])"
            ]
          },
          "metadata": {},
          "execution_count": 25
        }
      ]
    },
    {
      "cell_type": "code",
      "source": [
        "# Grafico\n",
        "grafico = px.scatter(x = x_custo_diaria.ravel(), \n",
        "                     y = y_custo_diaria)\n",
        "\n",
        "grafico.show()"
      ],
      "metadata": {
        "colab": {
          "base_uri": "https://localhost:8080/",
          "height": 542
        },
        "id": "N-QD_AQjTFOQ",
        "outputId": "dbe487a9-38b2-47fb-9825-bd8ff6388efe"
      },
      "execution_count": 29,
      "outputs": [
        {
          "output_type": "display_data",
          "data": {
            "text/html": [
              "<html>\n",
              "<head><meta charset=\"utf-8\" /></head>\n",
              "<body>\n",
              "    <div>            <script src=\"https://cdnjs.cloudflare.com/ajax/libs/mathjax/2.7.5/MathJax.js?config=TeX-AMS-MML_SVG\"></script><script type=\"text/javascript\">if (window.MathJax) {MathJax.Hub.Config({SVG: {font: \"STIX-Web\"}});}</script>                <script type=\"text/javascript\">window.PlotlyConfig = {MathJaxConfig: 'local'};</script>\n",
              "        <script src=\"https://cdn.plot.ly/plotly-2.8.3.min.js\"></script>                <div id=\"1270c36d-bb7f-42f7-87ee-4b0073016727\" class=\"plotly-graph-div\" style=\"height:525px; width:100%;\"></div>            <script type=\"text/javascript\">                                    window.PLOTLYENV=window.PLOTLYENV || {};                                    if (document.getElementById(\"1270c36d-bb7f-42f7-87ee-4b0073016727\")) {                    Plotly.newPlot(                        \"1270c36d-bb7f-42f7-87ee-4b0073016727\",                        [{\"hovertemplate\":\"x=%{x}<br>y=%{y}<extra></extra>\",\"legendgroup\":\"\",\"marker\":{\"color\":\"#636efa\",\"symbol\":\"circle\"},\"mode\":\"markers\",\"name\":\"\",\"orientation\":\"v\",\"showlegend\":false,\"x\":[1,4,6,10,13,15,18,22,25,30,40,42,45,47,50],\"xaxis\":\"x\",\"y\":[150,385,499,680,735,859,989,1075,1500,1850,2000,2089,2250,2488,2680],\"yaxis\":\"y\",\"type\":\"scatter\"}],                        {\"template\":{\"data\":{\"bar\":[{\"error_x\":{\"color\":\"#2a3f5f\"},\"error_y\":{\"color\":\"#2a3f5f\"},\"marker\":{\"line\":{\"color\":\"#E5ECF6\",\"width\":0.5},\"pattern\":{\"fillmode\":\"overlay\",\"size\":10,\"solidity\":0.2}},\"type\":\"bar\"}],\"barpolar\":[{\"marker\":{\"line\":{\"color\":\"#E5ECF6\",\"width\":0.5},\"pattern\":{\"fillmode\":\"overlay\",\"size\":10,\"solidity\":0.2}},\"type\":\"barpolar\"}],\"carpet\":[{\"aaxis\":{\"endlinecolor\":\"#2a3f5f\",\"gridcolor\":\"white\",\"linecolor\":\"white\",\"minorgridcolor\":\"white\",\"startlinecolor\":\"#2a3f5f\"},\"baxis\":{\"endlinecolor\":\"#2a3f5f\",\"gridcolor\":\"white\",\"linecolor\":\"white\",\"minorgridcolor\":\"white\",\"startlinecolor\":\"#2a3f5f\"},\"type\":\"carpet\"}],\"choropleth\":[{\"colorbar\":{\"outlinewidth\":0,\"ticks\":\"\"},\"type\":\"choropleth\"}],\"contour\":[{\"colorbar\":{\"outlinewidth\":0,\"ticks\":\"\"},\"colorscale\":[[0.0,\"#0d0887\"],[0.1111111111111111,\"#46039f\"],[0.2222222222222222,\"#7201a8\"],[0.3333333333333333,\"#9c179e\"],[0.4444444444444444,\"#bd3786\"],[0.5555555555555556,\"#d8576b\"],[0.6666666666666666,\"#ed7953\"],[0.7777777777777778,\"#fb9f3a\"],[0.8888888888888888,\"#fdca26\"],[1.0,\"#f0f921\"]],\"type\":\"contour\"}],\"contourcarpet\":[{\"colorbar\":{\"outlinewidth\":0,\"ticks\":\"\"},\"type\":\"contourcarpet\"}],\"heatmap\":[{\"colorbar\":{\"outlinewidth\":0,\"ticks\":\"\"},\"colorscale\":[[0.0,\"#0d0887\"],[0.1111111111111111,\"#46039f\"],[0.2222222222222222,\"#7201a8\"],[0.3333333333333333,\"#9c179e\"],[0.4444444444444444,\"#bd3786\"],[0.5555555555555556,\"#d8576b\"],[0.6666666666666666,\"#ed7953\"],[0.7777777777777778,\"#fb9f3a\"],[0.8888888888888888,\"#fdca26\"],[1.0,\"#f0f921\"]],\"type\":\"heatmap\"}],\"heatmapgl\":[{\"colorbar\":{\"outlinewidth\":0,\"ticks\":\"\"},\"colorscale\":[[0.0,\"#0d0887\"],[0.1111111111111111,\"#46039f\"],[0.2222222222222222,\"#7201a8\"],[0.3333333333333333,\"#9c179e\"],[0.4444444444444444,\"#bd3786\"],[0.5555555555555556,\"#d8576b\"],[0.6666666666666666,\"#ed7953\"],[0.7777777777777778,\"#fb9f3a\"],[0.8888888888888888,\"#fdca26\"],[1.0,\"#f0f921\"]],\"type\":\"heatmapgl\"}],\"histogram\":[{\"marker\":{\"pattern\":{\"fillmode\":\"overlay\",\"size\":10,\"solidity\":0.2}},\"type\":\"histogram\"}],\"histogram2d\":[{\"colorbar\":{\"outlinewidth\":0,\"ticks\":\"\"},\"colorscale\":[[0.0,\"#0d0887\"],[0.1111111111111111,\"#46039f\"],[0.2222222222222222,\"#7201a8\"],[0.3333333333333333,\"#9c179e\"],[0.4444444444444444,\"#bd3786\"],[0.5555555555555556,\"#d8576b\"],[0.6666666666666666,\"#ed7953\"],[0.7777777777777778,\"#fb9f3a\"],[0.8888888888888888,\"#fdca26\"],[1.0,\"#f0f921\"]],\"type\":\"histogram2d\"}],\"histogram2dcontour\":[{\"colorbar\":{\"outlinewidth\":0,\"ticks\":\"\"},\"colorscale\":[[0.0,\"#0d0887\"],[0.1111111111111111,\"#46039f\"],[0.2222222222222222,\"#7201a8\"],[0.3333333333333333,\"#9c179e\"],[0.4444444444444444,\"#bd3786\"],[0.5555555555555556,\"#d8576b\"],[0.6666666666666666,\"#ed7953\"],[0.7777777777777778,\"#fb9f3a\"],[0.8888888888888888,\"#fdca26\"],[1.0,\"#f0f921\"]],\"type\":\"histogram2dcontour\"}],\"mesh3d\":[{\"colorbar\":{\"outlinewidth\":0,\"ticks\":\"\"},\"type\":\"mesh3d\"}],\"parcoords\":[{\"line\":{\"colorbar\":{\"outlinewidth\":0,\"ticks\":\"\"}},\"type\":\"parcoords\"}],\"pie\":[{\"automargin\":true,\"type\":\"pie\"}],\"scatter\":[{\"marker\":{\"colorbar\":{\"outlinewidth\":0,\"ticks\":\"\"}},\"type\":\"scatter\"}],\"scatter3d\":[{\"line\":{\"colorbar\":{\"outlinewidth\":0,\"ticks\":\"\"}},\"marker\":{\"colorbar\":{\"outlinewidth\":0,\"ticks\":\"\"}},\"type\":\"scatter3d\"}],\"scattercarpet\":[{\"marker\":{\"colorbar\":{\"outlinewidth\":0,\"ticks\":\"\"}},\"type\":\"scattercarpet\"}],\"scattergeo\":[{\"marker\":{\"colorbar\":{\"outlinewidth\":0,\"ticks\":\"\"}},\"type\":\"scattergeo\"}],\"scattergl\":[{\"marker\":{\"colorbar\":{\"outlinewidth\":0,\"ticks\":\"\"}},\"type\":\"scattergl\"}],\"scattermapbox\":[{\"marker\":{\"colorbar\":{\"outlinewidth\":0,\"ticks\":\"\"}},\"type\":\"scattermapbox\"}],\"scatterpolar\":[{\"marker\":{\"colorbar\":{\"outlinewidth\":0,\"ticks\":\"\"}},\"type\":\"scatterpolar\"}],\"scatterpolargl\":[{\"marker\":{\"colorbar\":{\"outlinewidth\":0,\"ticks\":\"\"}},\"type\":\"scatterpolargl\"}],\"scatterternary\":[{\"marker\":{\"colorbar\":{\"outlinewidth\":0,\"ticks\":\"\"}},\"type\":\"scatterternary\"}],\"surface\":[{\"colorbar\":{\"outlinewidth\":0,\"ticks\":\"\"},\"colorscale\":[[0.0,\"#0d0887\"],[0.1111111111111111,\"#46039f\"],[0.2222222222222222,\"#7201a8\"],[0.3333333333333333,\"#9c179e\"],[0.4444444444444444,\"#bd3786\"],[0.5555555555555556,\"#d8576b\"],[0.6666666666666666,\"#ed7953\"],[0.7777777777777778,\"#fb9f3a\"],[0.8888888888888888,\"#fdca26\"],[1.0,\"#f0f921\"]],\"type\":\"surface\"}],\"table\":[{\"cells\":{\"fill\":{\"color\":\"#EBF0F8\"},\"line\":{\"color\":\"white\"}},\"header\":{\"fill\":{\"color\":\"#C8D4E3\"},\"line\":{\"color\":\"white\"}},\"type\":\"table\"}]},\"layout\":{\"annotationdefaults\":{\"arrowcolor\":\"#2a3f5f\",\"arrowhead\":0,\"arrowwidth\":1},\"autotypenumbers\":\"strict\",\"coloraxis\":{\"colorbar\":{\"outlinewidth\":0,\"ticks\":\"\"}},\"colorscale\":{\"diverging\":[[0,\"#8e0152\"],[0.1,\"#c51b7d\"],[0.2,\"#de77ae\"],[0.3,\"#f1b6da\"],[0.4,\"#fde0ef\"],[0.5,\"#f7f7f7\"],[0.6,\"#e6f5d0\"],[0.7,\"#b8e186\"],[0.8,\"#7fbc41\"],[0.9,\"#4d9221\"],[1,\"#276419\"]],\"sequential\":[[0.0,\"#0d0887\"],[0.1111111111111111,\"#46039f\"],[0.2222222222222222,\"#7201a8\"],[0.3333333333333333,\"#9c179e\"],[0.4444444444444444,\"#bd3786\"],[0.5555555555555556,\"#d8576b\"],[0.6666666666666666,\"#ed7953\"],[0.7777777777777778,\"#fb9f3a\"],[0.8888888888888888,\"#fdca26\"],[1.0,\"#f0f921\"]],\"sequentialminus\":[[0.0,\"#0d0887\"],[0.1111111111111111,\"#46039f\"],[0.2222222222222222,\"#7201a8\"],[0.3333333333333333,\"#9c179e\"],[0.4444444444444444,\"#bd3786\"],[0.5555555555555556,\"#d8576b\"],[0.6666666666666666,\"#ed7953\"],[0.7777777777777778,\"#fb9f3a\"],[0.8888888888888888,\"#fdca26\"],[1.0,\"#f0f921\"]]},\"colorway\":[\"#636efa\",\"#EF553B\",\"#00cc96\",\"#ab63fa\",\"#FFA15A\",\"#19d3f3\",\"#FF6692\",\"#B6E880\",\"#FF97FF\",\"#FECB52\"],\"font\":{\"color\":\"#2a3f5f\"},\"geo\":{\"bgcolor\":\"white\",\"lakecolor\":\"white\",\"landcolor\":\"#E5ECF6\",\"showlakes\":true,\"showland\":true,\"subunitcolor\":\"white\"},\"hoverlabel\":{\"align\":\"left\"},\"hovermode\":\"closest\",\"mapbox\":{\"style\":\"light\"},\"paper_bgcolor\":\"white\",\"plot_bgcolor\":\"#E5ECF6\",\"polar\":{\"angularaxis\":{\"gridcolor\":\"white\",\"linecolor\":\"white\",\"ticks\":\"\"},\"bgcolor\":\"#E5ECF6\",\"radialaxis\":{\"gridcolor\":\"white\",\"linecolor\":\"white\",\"ticks\":\"\"}},\"scene\":{\"xaxis\":{\"backgroundcolor\":\"#E5ECF6\",\"gridcolor\":\"white\",\"gridwidth\":2,\"linecolor\":\"white\",\"showbackground\":true,\"ticks\":\"\",\"zerolinecolor\":\"white\"},\"yaxis\":{\"backgroundcolor\":\"#E5ECF6\",\"gridcolor\":\"white\",\"gridwidth\":2,\"linecolor\":\"white\",\"showbackground\":true,\"ticks\":\"\",\"zerolinecolor\":\"white\"},\"zaxis\":{\"backgroundcolor\":\"#E5ECF6\",\"gridcolor\":\"white\",\"gridwidth\":2,\"linecolor\":\"white\",\"showbackground\":true,\"ticks\":\"\",\"zerolinecolor\":\"white\"}},\"shapedefaults\":{\"line\":{\"color\":\"#2a3f5f\"}},\"ternary\":{\"aaxis\":{\"gridcolor\":\"white\",\"linecolor\":\"white\",\"ticks\":\"\"},\"baxis\":{\"gridcolor\":\"white\",\"linecolor\":\"white\",\"ticks\":\"\"},\"bgcolor\":\"#E5ECF6\",\"caxis\":{\"gridcolor\":\"white\",\"linecolor\":\"white\",\"ticks\":\"\"}},\"title\":{\"x\":0.05},\"xaxis\":{\"automargin\":true,\"gridcolor\":\"white\",\"linecolor\":\"white\",\"ticks\":\"\",\"title\":{\"standoff\":15},\"zerolinecolor\":\"white\",\"zerolinewidth\":2},\"yaxis\":{\"automargin\":true,\"gridcolor\":\"white\",\"linecolor\":\"white\",\"ticks\":\"\",\"title\":{\"standoff\":15},\"zerolinecolor\":\"white\",\"zerolinewidth\":2}}},\"xaxis\":{\"anchor\":\"y\",\"domain\":[0.0,1.0],\"title\":{\"text\":\"x\"}},\"yaxis\":{\"anchor\":\"x\",\"domain\":[0.0,1.0],\"title\":{\"text\":\"y\"}},\"legend\":{\"tracegroupgap\":0},\"margin\":{\"t\":60}},                        {\"responsive\": true}                    ).then(function(){\n",
              "                            \n",
              "var gd = document.getElementById('1270c36d-bb7f-42f7-87ee-4b0073016727');\n",
              "var x = new MutationObserver(function (mutations, observer) {{\n",
              "        var display = window.getComputedStyle(gd).display;\n",
              "        if (!display || display === 'none') {{\n",
              "            console.log([gd, 'removed!']);\n",
              "            Plotly.purge(gd);\n",
              "            observer.disconnect();\n",
              "        }}\n",
              "}});\n",
              "\n",
              "// Listen for the removal of the full notebook cells\n",
              "var notebookContainer = gd.closest('#notebook-container');\n",
              "if (notebookContainer) {{\n",
              "    x.observe(notebookContainer, {childList: true});\n",
              "}}\n",
              "\n",
              "// Listen for the clearing of the current output cell\n",
              "var outputEl = gd.closest('.output');\n",
              "if (outputEl) {{\n",
              "    x.observe(outputEl, {childList: true});\n",
              "}}\n",
              "\n",
              "                        })                };                            </script>        </div>\n",
              "</body>\n",
              "</html>"
            ]
          },
          "metadata": {}
        }
      ]
    },
    {
      "cell_type": "code",
      "source": [
        "grafico = px.scatter(x = x_custo_diaria.ravel(),\n",
        "                     y = y_custo_diaria)\n",
        "\n",
        "grafico.add_scatter(x = x_custo_diaria.ravel(),\n",
        "                    y = previsao_precos,\n",
        "                    name = 'previsões')\n",
        "grafico.show()"
      ],
      "metadata": {
        "colab": {
          "base_uri": "https://localhost:8080/",
          "height": 542
        },
        "id": "CdcooIn_TuOt",
        "outputId": "207f7980-0d28-49a7-d605-829ae7521743"
      },
      "execution_count": 30,
      "outputs": [
        {
          "output_type": "display_data",
          "data": {
            "text/html": [
              "<html>\n",
              "<head><meta charset=\"utf-8\" /></head>\n",
              "<body>\n",
              "    <div>            <script src=\"https://cdnjs.cloudflare.com/ajax/libs/mathjax/2.7.5/MathJax.js?config=TeX-AMS-MML_SVG\"></script><script type=\"text/javascript\">if (window.MathJax) {MathJax.Hub.Config({SVG: {font: \"STIX-Web\"}});}</script>                <script type=\"text/javascript\">window.PlotlyConfig = {MathJaxConfig: 'local'};</script>\n",
              "        <script src=\"https://cdn.plot.ly/plotly-2.8.3.min.js\"></script>                <div id=\"51455321-d712-4fdc-becd-343523d1444d\" class=\"plotly-graph-div\" style=\"height:525px; width:100%;\"></div>            <script type=\"text/javascript\">                                    window.PLOTLYENV=window.PLOTLYENV || {};                                    if (document.getElementById(\"51455321-d712-4fdc-becd-343523d1444d\")) {                    Plotly.newPlot(                        \"51455321-d712-4fdc-becd-343523d1444d\",                        [{\"hovertemplate\":\"x=%{x}<br>y=%{y}<extra></extra>\",\"legendgroup\":\"\",\"marker\":{\"color\":\"#636efa\",\"symbol\":\"circle\"},\"mode\":\"markers\",\"name\":\"\",\"orientation\":\"v\",\"showlegend\":false,\"x\":[1,4,6,10,13,15,18,22,25,30,40,42,45,47,50],\"xaxis\":\"x\",\"y\":[150,385,499,680,735,859,989,1075,1500,1850,2000,2089,2250,2488,2680],\"yaxis\":\"y\",\"type\":\"scatter\"},{\"name\":\"previs\\u00f5es\",\"x\":[1,4,6,10,13,15,18,22,25,30,40,42,45,47,50],\"y\":[204.53347061404943,350.37764574823575,447.6070958376933,642.0659960166083,787.9101711507947,885.1396212402523,1030.9837963744385,1225.4426965533537,1371.28687168754,1614.3604969111839,2100.5077473584715,2197.7371974479292,2343.5813725821154,2440.810822671573,2586.654997805759],\"type\":\"scatter\"}],                        {\"template\":{\"data\":{\"bar\":[{\"error_x\":{\"color\":\"#2a3f5f\"},\"error_y\":{\"color\":\"#2a3f5f\"},\"marker\":{\"line\":{\"color\":\"#E5ECF6\",\"width\":0.5},\"pattern\":{\"fillmode\":\"overlay\",\"size\":10,\"solidity\":0.2}},\"type\":\"bar\"}],\"barpolar\":[{\"marker\":{\"line\":{\"color\":\"#E5ECF6\",\"width\":0.5},\"pattern\":{\"fillmode\":\"overlay\",\"size\":10,\"solidity\":0.2}},\"type\":\"barpolar\"}],\"carpet\":[{\"aaxis\":{\"endlinecolor\":\"#2a3f5f\",\"gridcolor\":\"white\",\"linecolor\":\"white\",\"minorgridcolor\":\"white\",\"startlinecolor\":\"#2a3f5f\"},\"baxis\":{\"endlinecolor\":\"#2a3f5f\",\"gridcolor\":\"white\",\"linecolor\":\"white\",\"minorgridcolor\":\"white\",\"startlinecolor\":\"#2a3f5f\"},\"type\":\"carpet\"}],\"choropleth\":[{\"colorbar\":{\"outlinewidth\":0,\"ticks\":\"\"},\"type\":\"choropleth\"}],\"contour\":[{\"colorbar\":{\"outlinewidth\":0,\"ticks\":\"\"},\"colorscale\":[[0.0,\"#0d0887\"],[0.1111111111111111,\"#46039f\"],[0.2222222222222222,\"#7201a8\"],[0.3333333333333333,\"#9c179e\"],[0.4444444444444444,\"#bd3786\"],[0.5555555555555556,\"#d8576b\"],[0.6666666666666666,\"#ed7953\"],[0.7777777777777778,\"#fb9f3a\"],[0.8888888888888888,\"#fdca26\"],[1.0,\"#f0f921\"]],\"type\":\"contour\"}],\"contourcarpet\":[{\"colorbar\":{\"outlinewidth\":0,\"ticks\":\"\"},\"type\":\"contourcarpet\"}],\"heatmap\":[{\"colorbar\":{\"outlinewidth\":0,\"ticks\":\"\"},\"colorscale\":[[0.0,\"#0d0887\"],[0.1111111111111111,\"#46039f\"],[0.2222222222222222,\"#7201a8\"],[0.3333333333333333,\"#9c179e\"],[0.4444444444444444,\"#bd3786\"],[0.5555555555555556,\"#d8576b\"],[0.6666666666666666,\"#ed7953\"],[0.7777777777777778,\"#fb9f3a\"],[0.8888888888888888,\"#fdca26\"],[1.0,\"#f0f921\"]],\"type\":\"heatmap\"}],\"heatmapgl\":[{\"colorbar\":{\"outlinewidth\":0,\"ticks\":\"\"},\"colorscale\":[[0.0,\"#0d0887\"],[0.1111111111111111,\"#46039f\"],[0.2222222222222222,\"#7201a8\"],[0.3333333333333333,\"#9c179e\"],[0.4444444444444444,\"#bd3786\"],[0.5555555555555556,\"#d8576b\"],[0.6666666666666666,\"#ed7953\"],[0.7777777777777778,\"#fb9f3a\"],[0.8888888888888888,\"#fdca26\"],[1.0,\"#f0f921\"]],\"type\":\"heatmapgl\"}],\"histogram\":[{\"marker\":{\"pattern\":{\"fillmode\":\"overlay\",\"size\":10,\"solidity\":0.2}},\"type\":\"histogram\"}],\"histogram2d\":[{\"colorbar\":{\"outlinewidth\":0,\"ticks\":\"\"},\"colorscale\":[[0.0,\"#0d0887\"],[0.1111111111111111,\"#46039f\"],[0.2222222222222222,\"#7201a8\"],[0.3333333333333333,\"#9c179e\"],[0.4444444444444444,\"#bd3786\"],[0.5555555555555556,\"#d8576b\"],[0.6666666666666666,\"#ed7953\"],[0.7777777777777778,\"#fb9f3a\"],[0.8888888888888888,\"#fdca26\"],[1.0,\"#f0f921\"]],\"type\":\"histogram2d\"}],\"histogram2dcontour\":[{\"colorbar\":{\"outlinewidth\":0,\"ticks\":\"\"},\"colorscale\":[[0.0,\"#0d0887\"],[0.1111111111111111,\"#46039f\"],[0.2222222222222222,\"#7201a8\"],[0.3333333333333333,\"#9c179e\"],[0.4444444444444444,\"#bd3786\"],[0.5555555555555556,\"#d8576b\"],[0.6666666666666666,\"#ed7953\"],[0.7777777777777778,\"#fb9f3a\"],[0.8888888888888888,\"#fdca26\"],[1.0,\"#f0f921\"]],\"type\":\"histogram2dcontour\"}],\"mesh3d\":[{\"colorbar\":{\"outlinewidth\":0,\"ticks\":\"\"},\"type\":\"mesh3d\"}],\"parcoords\":[{\"line\":{\"colorbar\":{\"outlinewidth\":0,\"ticks\":\"\"}},\"type\":\"parcoords\"}],\"pie\":[{\"automargin\":true,\"type\":\"pie\"}],\"scatter\":[{\"marker\":{\"colorbar\":{\"outlinewidth\":0,\"ticks\":\"\"}},\"type\":\"scatter\"}],\"scatter3d\":[{\"line\":{\"colorbar\":{\"outlinewidth\":0,\"ticks\":\"\"}},\"marker\":{\"colorbar\":{\"outlinewidth\":0,\"ticks\":\"\"}},\"type\":\"scatter3d\"}],\"scattercarpet\":[{\"marker\":{\"colorbar\":{\"outlinewidth\":0,\"ticks\":\"\"}},\"type\":\"scattercarpet\"}],\"scattergeo\":[{\"marker\":{\"colorbar\":{\"outlinewidth\":0,\"ticks\":\"\"}},\"type\":\"scattergeo\"}],\"scattergl\":[{\"marker\":{\"colorbar\":{\"outlinewidth\":0,\"ticks\":\"\"}},\"type\":\"scattergl\"}],\"scattermapbox\":[{\"marker\":{\"colorbar\":{\"outlinewidth\":0,\"ticks\":\"\"}},\"type\":\"scattermapbox\"}],\"scatterpolar\":[{\"marker\":{\"colorbar\":{\"outlinewidth\":0,\"ticks\":\"\"}},\"type\":\"scatterpolar\"}],\"scatterpolargl\":[{\"marker\":{\"colorbar\":{\"outlinewidth\":0,\"ticks\":\"\"}},\"type\":\"scatterpolargl\"}],\"scatterternary\":[{\"marker\":{\"colorbar\":{\"outlinewidth\":0,\"ticks\":\"\"}},\"type\":\"scatterternary\"}],\"surface\":[{\"colorbar\":{\"outlinewidth\":0,\"ticks\":\"\"},\"colorscale\":[[0.0,\"#0d0887\"],[0.1111111111111111,\"#46039f\"],[0.2222222222222222,\"#7201a8\"],[0.3333333333333333,\"#9c179e\"],[0.4444444444444444,\"#bd3786\"],[0.5555555555555556,\"#d8576b\"],[0.6666666666666666,\"#ed7953\"],[0.7777777777777778,\"#fb9f3a\"],[0.8888888888888888,\"#fdca26\"],[1.0,\"#f0f921\"]],\"type\":\"surface\"}],\"table\":[{\"cells\":{\"fill\":{\"color\":\"#EBF0F8\"},\"line\":{\"color\":\"white\"}},\"header\":{\"fill\":{\"color\":\"#C8D4E3\"},\"line\":{\"color\":\"white\"}},\"type\":\"table\"}]},\"layout\":{\"annotationdefaults\":{\"arrowcolor\":\"#2a3f5f\",\"arrowhead\":0,\"arrowwidth\":1},\"autotypenumbers\":\"strict\",\"coloraxis\":{\"colorbar\":{\"outlinewidth\":0,\"ticks\":\"\"}},\"colorscale\":{\"diverging\":[[0,\"#8e0152\"],[0.1,\"#c51b7d\"],[0.2,\"#de77ae\"],[0.3,\"#f1b6da\"],[0.4,\"#fde0ef\"],[0.5,\"#f7f7f7\"],[0.6,\"#e6f5d0\"],[0.7,\"#b8e186\"],[0.8,\"#7fbc41\"],[0.9,\"#4d9221\"],[1,\"#276419\"]],\"sequential\":[[0.0,\"#0d0887\"],[0.1111111111111111,\"#46039f\"],[0.2222222222222222,\"#7201a8\"],[0.3333333333333333,\"#9c179e\"],[0.4444444444444444,\"#bd3786\"],[0.5555555555555556,\"#d8576b\"],[0.6666666666666666,\"#ed7953\"],[0.7777777777777778,\"#fb9f3a\"],[0.8888888888888888,\"#fdca26\"],[1.0,\"#f0f921\"]],\"sequentialminus\":[[0.0,\"#0d0887\"],[0.1111111111111111,\"#46039f\"],[0.2222222222222222,\"#7201a8\"],[0.3333333333333333,\"#9c179e\"],[0.4444444444444444,\"#bd3786\"],[0.5555555555555556,\"#d8576b\"],[0.6666666666666666,\"#ed7953\"],[0.7777777777777778,\"#fb9f3a\"],[0.8888888888888888,\"#fdca26\"],[1.0,\"#f0f921\"]]},\"colorway\":[\"#636efa\",\"#EF553B\",\"#00cc96\",\"#ab63fa\",\"#FFA15A\",\"#19d3f3\",\"#FF6692\",\"#B6E880\",\"#FF97FF\",\"#FECB52\"],\"font\":{\"color\":\"#2a3f5f\"},\"geo\":{\"bgcolor\":\"white\",\"lakecolor\":\"white\",\"landcolor\":\"#E5ECF6\",\"showlakes\":true,\"showland\":true,\"subunitcolor\":\"white\"},\"hoverlabel\":{\"align\":\"left\"},\"hovermode\":\"closest\",\"mapbox\":{\"style\":\"light\"},\"paper_bgcolor\":\"white\",\"plot_bgcolor\":\"#E5ECF6\",\"polar\":{\"angularaxis\":{\"gridcolor\":\"white\",\"linecolor\":\"white\",\"ticks\":\"\"},\"bgcolor\":\"#E5ECF6\",\"radialaxis\":{\"gridcolor\":\"white\",\"linecolor\":\"white\",\"ticks\":\"\"}},\"scene\":{\"xaxis\":{\"backgroundcolor\":\"#E5ECF6\",\"gridcolor\":\"white\",\"gridwidth\":2,\"linecolor\":\"white\",\"showbackground\":true,\"ticks\":\"\",\"zerolinecolor\":\"white\"},\"yaxis\":{\"backgroundcolor\":\"#E5ECF6\",\"gridcolor\":\"white\",\"gridwidth\":2,\"linecolor\":\"white\",\"showbackground\":true,\"ticks\":\"\",\"zerolinecolor\":\"white\"},\"zaxis\":{\"backgroundcolor\":\"#E5ECF6\",\"gridcolor\":\"white\",\"gridwidth\":2,\"linecolor\":\"white\",\"showbackground\":true,\"ticks\":\"\",\"zerolinecolor\":\"white\"}},\"shapedefaults\":{\"line\":{\"color\":\"#2a3f5f\"}},\"ternary\":{\"aaxis\":{\"gridcolor\":\"white\",\"linecolor\":\"white\",\"ticks\":\"\"},\"baxis\":{\"gridcolor\":\"white\",\"linecolor\":\"white\",\"ticks\":\"\"},\"bgcolor\":\"#E5ECF6\",\"caxis\":{\"gridcolor\":\"white\",\"linecolor\":\"white\",\"ticks\":\"\"}},\"title\":{\"x\":0.05},\"xaxis\":{\"automargin\":true,\"gridcolor\":\"white\",\"linecolor\":\"white\",\"ticks\":\"\",\"title\":{\"standoff\":15},\"zerolinecolor\":\"white\",\"zerolinewidth\":2},\"yaxis\":{\"automargin\":true,\"gridcolor\":\"white\",\"linecolor\":\"white\",\"ticks\":\"\",\"title\":{\"standoff\":15},\"zerolinecolor\":\"white\",\"zerolinewidth\":2}}},\"xaxis\":{\"anchor\":\"y\",\"domain\":[0.0,1.0],\"title\":{\"text\":\"x\"}},\"yaxis\":{\"anchor\":\"x\",\"domain\":[0.0,1.0],\"title\":{\"text\":\"y\"}},\"legend\":{\"tracegroupgap\":0},\"margin\":{\"t\":60}},                        {\"responsive\": true}                    ).then(function(){\n",
              "                            \n",
              "var gd = document.getElementById('51455321-d712-4fdc-becd-343523d1444d');\n",
              "var x = new MutationObserver(function (mutations, observer) {{\n",
              "        var display = window.getComputedStyle(gd).display;\n",
              "        if (!display || display === 'none') {{\n",
              "            console.log([gd, 'removed!']);\n",
              "            Plotly.purge(gd);\n",
              "            observer.disconnect();\n",
              "        }}\n",
              "}});\n",
              "\n",
              "// Listen for the removal of the full notebook cells\n",
              "var notebookContainer = gd.closest('#notebook-container');\n",
              "if (notebookContainer) {{\n",
              "    x.observe(notebookContainer, {childList: true});\n",
              "}}\n",
              "\n",
              "// Listen for the clearing of the current output cell\n",
              "var outputEl = gd.closest('.output');\n",
              "if (outputEl) {{\n",
              "    x.observe(outputEl, {childList: true});\n",
              "}}\n",
              "\n",
              "                        })                };                            </script>        </div>\n",
              "</body>\n",
              "</html>"
            ]
          },
          "metadata": {}
        }
      ]
    },
    {
      "cell_type": "code",
      "source": [
        "# Verificando os valores de uma determinada previsão baseada na quantidade de pessoas. \n",
        "qtd_pessoas = 4\n",
        "previsao_custo_diaria.intercept_ + previsao_custo_diaria.coef_ * qtd_pessoas"
      ],
      "metadata": {
        "colab": {
          "base_uri": "https://localhost:8080/"
        },
        "id": "bIjuBvQ1UWKj",
        "outputId": "b34987f0-457d-4837-e4fb-8a19d616cb6d"
      },
      "execution_count": 33,
      "outputs": [
        {
          "output_type": "execute_result",
          "data": {
            "text/plain": [
              "array([350.37764575])"
            ]
          },
          "metadata": {},
          "execution_count": 33
        }
      ]
    },
    {
      "cell_type": "code",
      "source": [
        "qtd_pessoas = 8\n",
        "previsao_custo_diaria.intercept_ + previsao_custo_diaria.coef_ * qtd_pessoas"
      ],
      "metadata": {
        "colab": {
          "base_uri": "https://localhost:8080/"
        },
        "id": "uB0TThlDUok0",
        "outputId": "b99a166c-685f-4fb3-e4f3-d2e152bbfdb5"
      },
      "execution_count": 34,
      "outputs": [
        {
          "output_type": "execute_result",
          "data": {
            "text/plain": [
              "array([544.83654593])"
            ]
          },
          "metadata": {},
          "execution_count": 34
        }
      ]
    },
    {
      "cell_type": "code",
      "source": [
        "# Verificando de modo direto\n",
        "previsao_custo_diaria.predict([[42]])"
      ],
      "metadata": {
        "colab": {
          "base_uri": "https://localhost:8080/"
        },
        "id": "-i230TxDVHfu",
        "outputId": "7cd4b2be-ce1f-44dd-b13a-8f9a0d350153"
      },
      "execution_count": 35,
      "outputs": [
        {
          "output_type": "execute_result",
          "data": {
            "text/plain": [
              "array([2197.73719745])"
            ]
          },
          "metadata": {},
          "execution_count": 35
        }
      ]
    },
    {
      "cell_type": "code",
      "source": [
        "# Indicando qualidade do algoritmo. (Quanto mais proximo de 1, melhor a qualidade do modelo)\n",
        "previsao_custo_diaria.score(x_custo_diaria, y_custo_diaria)"
      ],
      "metadata": {
        "colab": {
          "base_uri": "https://localhost:8080/"
        },
        "id": "ysooX02dVQ-i",
        "outputId": "4e38545f-d265-47e1-f581-2bbae242b852"
      },
      "execution_count": 36,
      "outputs": [
        {
          "output_type": "execute_result",
          "data": {
            "text/plain": [
              "0.984200996064679"
            ]
          },
          "metadata": {},
          "execution_count": 36
        }
      ]
    },
    {
      "cell_type": "code",
      "source": [
        "# Visualizando erros do modelo\n",
        "from sklearn.metrics import mean_squared_error, mean_absolute_error\n",
        "MSE = mean_squared_error(y_custo_diaria, previsao_precos)\n",
        "\n",
        "MSE"
      ],
      "metadata": {
        "colab": {
          "base_uri": "https://localhost:8080/"
        },
        "id": "sTL49dnGVft5",
        "outputId": "3598343b-cbfa-4897-fead-c76389e91836"
      },
      "execution_count": 38,
      "outputs": [
        {
          "output_type": "execute_result",
          "data": {
            "text/plain": [
              "9989.829839426571"
            ]
          },
          "metadata": {},
          "execution_count": 38
        }
      ]
    },
    {
      "cell_type": "code",
      "source": [
        "# Calculando MAE\n",
        "mean_absolute_error(y_custo_diaria, previsao_precos)"
      ],
      "metadata": {
        "colab": {
          "base_uri": "https://localhost:8080/"
        },
        "id": "AR7XQsXYVxwp",
        "outputId": "977ce702-8e0a-47ef-af0f-6dbdddc4236b"
      },
      "execution_count": 39,
      "outputs": [
        {
          "output_type": "execute_result",
          "data": {
            "text/plain": [
              "83.84480977618742"
            ]
          },
          "metadata": {},
          "execution_count": 39
        }
      ]
    },
    {
      "cell_type": "code",
      "source": [
        "# Calculando RMSE\n",
        "np.sqrt(MSE)"
      ],
      "metadata": {
        "colab": {
          "base_uri": "https://localhost:8080/"
        },
        "id": "AhVKZGsBV6Xh",
        "outputId": "08adf92e-9583-437d-97a9-136608c0cd30"
      },
      "execution_count": 40,
      "outputs": [
        {
          "output_type": "execute_result",
          "data": {
            "text/plain": [
              "99.9491362615334"
            ]
          },
          "metadata": {},
          "execution_count": 40
        }
      ]
    }
  ]
}